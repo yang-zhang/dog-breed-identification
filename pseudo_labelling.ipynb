{
 "cells": [
  {
   "cell_type": "markdown",
   "metadata": {},
   "source": [
    "[Dog Breed Identification](https://www.kaggle.com/c/dog-breed-identification)"
   ]
  },
  {
   "cell_type": "code",
   "execution_count": 1,
   "metadata": {
    "scrolled": true
   },
   "outputs": [
    {
     "name": "stderr",
     "output_type": "stream",
     "text": [
      "Using TensorFlow backend.\n"
     ]
    }
   ],
   "source": [
    "import math\n",
    "import os\n",
    "import datetime\n",
    "\n",
    "import numpy as np\n",
    "import pandas as pd\n",
    "\n",
    "from keras.preprocessing import image\n",
    "from keras.layers import Input, Lambda, Dense, Dropout, Flatten\n",
    "from keras.models import Model, Sequential\n",
    "\n",
    "from keras.utils import to_categorical\n",
    "from keras.optimizers import RMSprop, Adam\n",
    "\n",
    "from keras.applications import xception, inception_v3\n",
    "\n",
    "from sklearn.linear_model import LogisticRegression\n",
    "from sklearn.metrics import log_loss, accuracy_score\n",
    "\n",
    "from secrets import KAGGLE_USER, KAGGLE_PW\n",
    "import utils_ds\n"
   ]
  },
  {
   "cell_type": "code",
   "execution_count": 3,
   "metadata": {
    "collapsed": true
   },
   "outputs": [],
   "source": [
    "competition_name = 'dog-breed-identification'\n",
    "competition_dir = '/opt/notebooks/data/' + competition_name\n",
    "data_dir_preprocessed = competition_dir + '/preprocessed'\n",
    "data_dir_pl = competition_dir + '/pseudo_labelling'"
   ]
  },
  {
   "cell_type": "code",
   "execution_count": 9,
   "metadata": {},
   "outputs": [
    {
     "name": "stdout",
     "output_type": "stream",
     "text": [
      "labels.csv  \u001b[0m\u001b[01;34mresults\u001b[0m/  sample_submission.csv  \u001b[01;34mtest\u001b[0m/  \u001b[01;34mtrain\u001b[0m/\r\n"
     ]
    }
   ],
   "source": [
    "ls $competition_dir/all_train"
   ]
  },
  {
   "cell_type": "markdown",
   "metadata": {},
   "source": [
    "### prework"
   ]
  },
  {
   "cell_type": "code",
   "execution_count": 5,
   "metadata": {},
   "outputs": [
    {
     "name": "stdout",
     "output_type": "stream",
     "text": [
      "labels.csv  \u001b[0m\u001b[01;34mresults\u001b[0m/  sample_submission.csv  \u001b[01;34mtest\u001b[0m/  \u001b[01;34mtrain\u001b[0m/  \u001b[01;34mvalid\u001b[0m/\r\n"
     ]
    }
   ],
   "source": [
    "ls $data_dir_preprocessed"
   ]
  },
  {
   "cell_type": "code",
   "execution_count": 7,
   "metadata": {},
   "outputs": [],
   "source": [
    "mkdir $data_dir_pl"
   ]
  },
  {
   "cell_type": "code",
   "execution_count": null,
   "metadata": {
    "collapsed": true
   },
   "outputs": [],
   "source": [
    "cp $data_dir_preprocessed/train"
   ]
  },
  {
   "cell_type": "markdown",
   "metadata": {
    "collapsed": true
   },
   "source": [
    "---------"
   ]
  },
  {
   "cell_type": "code",
   "execution_count": 57,
   "metadata": {
    "collapsed": true
   },
   "outputs": [],
   "source": [
    "batch_size = 16\n",
    "target_size=(299, 299)\n",
    "\n",
    "def add_preprocess(base_model, preprocess_func, inputs_shape=(299, 299, 3)):\n",
    "    inputs = Input(shape=inputs_shape)\n",
    "    x = Lambda(preprocess_func)(inputs)\n",
    "    outputs = base_model(x)\n",
    "    model = Model(inputs, outputs)\n",
    "    return model"
   ]
  },
  {
   "cell_type": "markdown",
   "metadata": {},
   "source": [
    "### train"
   ]
  },
  {
   "cell_type": "markdown",
   "metadata": {},
   "source": [
    "emsemble a few augmentation training data"
   ]
  },
  {
   "cell_type": "code",
   "execution_count": 58,
   "metadata": {
    "collapsed": true
   },
   "outputs": [],
   "source": [
    "base_model_x = xception.Xception(weights='imagenet', include_top=False, pooling='avg')\n",
    "model_x = add_preprocess(base_model_x, xception.preprocess_input)"
   ]
  },
  {
   "cell_type": "code",
   "execution_count": 59,
   "metadata": {
    "collapsed": true
   },
   "outputs": [],
   "source": [
    "base_model_i = inception_v3.InceptionV3(weights='imagenet', include_top=False, pooling='avg')\n",
    "model_i = add_preprocess(base_model_i, inception_v3.preprocess_input)"
   ]
  },
  {
   "cell_type": "code",
   "execution_count": 61,
   "metadata": {
    "scrolled": true
   },
   "outputs": [
    {
     "name": "stdout",
     "output_type": "stream",
     "text": [
      "Found 10222 images belonging to 120 classes.\n",
      "Found 10357 images belonging to 1 classes.\n"
     ]
    }
   ],
   "source": [
    "batches = image.ImageDataGenerator().flow_from_directory(data_dir+'/train', shuffle=False, target_size=target_size, batch_size=batch_size)\n",
    "batches_test = image.ImageDataGenerator().flow_from_directory(data_dir+'/test', shuffle=False, target_size=target_size, batch_size=batch_size)\n",
    "\n",
    "nb_batches = math.ceil(batches.n/batch_size)\n",
    "nb_batches_test = math.ceil(batches_test.n/batch_size)\n",
    "\n",
    "y_encode = batches.classes\n",
    "\n",
    "y = to_categorical(batches.classes)"
   ]
  },
  {
   "cell_type": "code",
   "execution_count": 62,
   "metadata": {},
   "outputs": [
    {
     "name": "stdout",
     "output_type": "stream",
     "text": [
      "648/648 [==============================] - 159s   \n"
     ]
    }
   ],
   "source": [
    "# bf_x_test = model_x.predict_generator(batches_test, steps=nb_batches_test, verbose=1)\n",
    "# np.save(data_dir+'/results/bf_x_test', bf_x_test)\n",
    "bf_x_test = np.load(data_dir+'/results/bf_x_test.npy')"
   ]
  },
  {
   "cell_type": "code",
   "execution_count": 63,
   "metadata": {
    "collapsed": true
   },
   "outputs": [],
   "source": [
    "# bf_i_test = model_i.predict_generator(batches_test, steps=nb_batches_test, verbose=1)\n",
    "# np.save(data_dir+'/results/bf_i_test', bf_i_test)\n",
    "bf_i_test = np.load(data_dir+'/results/bf_i_test.npy')"
   ]
  },
  {
   "cell_type": "code",
   "execution_count": 64,
   "metadata": {
    "collapsed": true
   },
   "outputs": [],
   "source": [
    "gen = image.ImageDataGenerator(rotation_range=10,\n",
    "                               width_shift_range=0.1,\n",
    "                               shear_range=0.15, \n",
    "                               zoom_range=0.1, \n",
    "                               channel_shift_range=10., \n",
    "                               horizontal_flip=True)"
   ]
  },
  {
   "cell_type": "code",
   "execution_count": 65,
   "metadata": {
    "scrolled": false
   },
   "outputs": [
    {
     "name": "stdout",
     "output_type": "stream",
     "text": [
      "i: 0\n",
      "Found 10222 images belonging to 120 classes.\n",
      "639/639 [==============================] - 213s   \n",
      "Found 10222 images belonging to 120 classes.\n",
      "639/639 [==============================] - 140s   \n",
      "Epoch 1/15\n",
      "10222/10222 [==============================] - 0s - loss: 2.0874 - acc: 0.6528     \n",
      "Epoch 2/15\n",
      "10222/10222 [==============================] - 0s - loss: 0.5877 - acc: 0.8893     \n",
      "Epoch 3/15\n",
      "10222/10222 [==============================] - 0s - loss: 0.3764 - acc: 0.9099     \n",
      "Epoch 4/15\n",
      "10222/10222 [==============================] - ETA: 0s - loss: 0.2947 - acc: 0.921 - 0s - loss: 0.2911 - acc: 0.9219     \n",
      "Epoch 5/15\n",
      "10222/10222 [==============================] - 0s - loss: 0.2397 - acc: 0.9326     \n",
      "Epoch 6/15\n",
      "10222/10222 [==============================] - 0s - loss: 0.2022 - acc: 0.9426     \n",
      "Epoch 7/15\n",
      "10222/10222 [==============================] - 0s - loss: 0.1721 - acc: 0.9534     \n",
      "Epoch 8/15\n",
      "10222/10222 [==============================] - 0s - loss: 0.1516 - acc: 0.9577     \n",
      "Epoch 9/15\n",
      "10222/10222 [==============================] - 0s - loss: 0.1313 - acc: 0.9645     \n",
      "Epoch 10/15\n",
      "10222/10222 [==============================] - 0s - loss: 0.1157 - acc: 0.9697     \n",
      "Epoch 11/15\n",
      "10222/10222 [==============================] - 0s - loss: 0.1036 - acc: 0.9744     \n",
      "Epoch 12/15\n",
      "10222/10222 [==============================] - 0s - loss: 0.0905 - acc: 0.9770     \n",
      "Epoch 13/15\n",
      "10222/10222 [==============================] - 0s - loss: 0.0802 - acc: 0.9796     \n",
      "Epoch 14/15\n",
      "10222/10222 [==============================] - 0s - loss: 0.0736 - acc: 0.9825     \n",
      "Epoch 15/15\n",
      "10222/10222 [==============================] - 0s - loss: 0.0628 - acc: 0.9864     \n",
      " 9776/10357 [===========================>..] - ETA: 0s"
     ]
    }
   ],
   "source": [
    "preds = []\n",
    "nb_runs = 20\n",
    "for i in range(nb_runs):\n",
    "    print(\"i:\", i)\n",
    "    batches = gen.flow_from_directory(data_dir+'/train', target_size=target_size, batch_size=batch_size, shuffle=False)\n",
    "    y = to_categorical(batches.classes)\n",
    "    bf_x = model_x.predict_generator(batches, steps=nb_batches, verbose=1)\n",
    "    \n",
    "    batches = gen.flow_from_directory(data_dir+'/train', target_size=target_size, batch_size=batch_size, shuffle=False)\n",
    "    bf_i = model_i.predict_generator(batches, steps=nb_batches, verbose=1)\n",
    "    \n",
    "    lm = Sequential([Dense(120, activation='softmax', input_shape=(2048+2048,))])\n",
    "    lm.compile(optimizer=RMSprop(), loss='categorical_crossentropy', metrics=['accuracy'])\n",
    "    lm.fit(np.hstack([bf_x, bf_i]), y, epochs=15, batch_size=nb_batches)\n",
    "    \n",
    "    pred = lm.predict(np.hstack([bf_x_test, bf_i_test]), batch_size=batch_size, verbose=1)\n",
    "    preds.append(pred)"
   ]
  },
  {
   "cell_type": "code",
   "execution_count": 46,
   "metadata": {
    "collapsed": true
   },
   "outputs": [],
   "source": [
    "pred_ensemble = np.stack(preds).mean(axis=0)"
   ]
  },
  {
   "cell_type": "markdown",
   "metadata": {},
   "source": [
    "### predict"
   ]
  },
  {
   "cell_type": "code",
   "execution_count": 47,
   "metadata": {
    "collapsed": true
   },
   "outputs": [],
   "source": [
    "test_ids = [f.split('/')[1].split('.')[0] for f in batches_test.filenames]"
   ]
  },
  {
   "cell_type": "code",
   "execution_count": 48,
   "metadata": {
    "collapsed": true
   },
   "outputs": [],
   "source": [
    "subm=pd.DataFrame(np.hstack([np.array(test_ids).reshape(-1, 1), pred_ensemble]))\n",
    "labels = pd.read_csv(data_dir+'/labels.csv')\n",
    "cols = ['id']+sorted(labels.breed.unique())\n",
    "subm.columns = cols"
   ]
  },
  {
   "cell_type": "code",
   "execution_count": 49,
   "metadata": {
    "collapsed": true
   },
   "outputs": [],
   "source": [
    "description = 'xception_inception_ensemble_%d_all_data_aug' % nb_runs\n",
    "submission_file_name = data_dir+'/results/%s_%s.csv' % (description,\n",
    "                                                        datetime.datetime.now().strftime('%Y-%m-%d-%H-%M')\n",
    "                                                       )\n",
    "subm.to_csv(submission_file_name, index=False)"
   ]
  },
  {
   "cell_type": "markdown",
   "metadata": {},
   "source": [
    "### submit"
   ]
  },
  {
   "cell_type": "code",
   "execution_count": 50,
   "metadata": {
    "collapsed": true
   },
   "outputs": [],
   "source": [
    "!kg config -u $KAGGLE_USER -p $KAGGLE_PW -c $competition_name"
   ]
  },
  {
   "cell_type": "code",
   "execution_count": 51,
   "metadata": {
    "scrolled": true
   },
   "outputs": [
    {
     "name": "stdout",
     "output_type": "stream",
     "text": [
      "0.26652\r\n"
     ]
    }
   ],
   "source": [
    "!kg submit $submission_file_name -m $description"
   ]
  },
  {
   "cell_type": "code",
   "execution_count": null,
   "metadata": {
    "collapsed": true
   },
   "outputs": [],
   "source": []
  }
 ],
 "metadata": {
  "kernelspec": {
   "display_name": "Python 3",
   "language": "python",
   "name": "python3"
  },
  "language_info": {
   "codemirror_mode": {
    "name": "ipython",
    "version": 3
   },
   "file_extension": ".py",
   "mimetype": "text/x-python",
   "name": "python",
   "nbconvert_exporter": "python",
   "pygments_lexer": "ipython3",
   "version": "3.6.1"
  },
  "toc": {
   "nav_menu": {},
   "number_sections": true,
   "sideBar": true,
   "skip_h1_title": false,
   "toc_cell": false,
   "toc_position": {
    "height": "594px",
    "left": "0px",
    "right": "1064px",
    "top": "106px",
    "width": "165px"
   },
   "toc_section_display": "block",
   "toc_window_display": false
  }
 },
 "nbformat": 4,
 "nbformat_minor": 2
}
