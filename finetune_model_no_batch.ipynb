{
 "cells": [
  {
   "cell_type": "code",
   "execution_count": 84,
   "metadata": {
    "collapsed": true,
    "scrolled": true
   },
   "outputs": [],
   "source": [
    "%matplotlib inline\n",
    "import pandas as pd\n",
    "import numpy as np\n",
    "import matplotlib.pyplot as plt\n",
    "\n",
    "from os.path import join\n",
    "\n",
    "\n",
    "from keras.preprocessing import image\n",
    "from keras.applications import xception\n",
    "from keras.layers import Input, Lambda, Dense\n",
    "from keras.models import Model, Sequential\n",
    "\n",
    "from sklearn.linear_model import LogisticRegression\n",
    "from sklearn.metrics import log_loss, accuracy_score\n",
    "from sklearn.preprocessing import LabelEncoder"
   ]
  },
  {
   "cell_type": "code",
   "execution_count": 42,
   "metadata": {
    "collapsed": true
   },
   "outputs": [],
   "source": [
    "competition_name = 'dog-breed-identification'\n",
    "data_dir = '/opt/notebooks/data/' + competition_name + '/unzipped/'"
   ]
  },
  {
   "cell_type": "code",
   "execution_count": 58,
   "metadata": {
    "collapsed": true
   },
   "outputs": [],
   "source": [
    "num_classes = 10"
   ]
  },
  {
   "cell_type": "code",
   "execution_count": 60,
   "metadata": {
    "collapsed": true
   },
   "outputs": [],
   "source": [
    "labels = pd.read_csv(data_dir+'labels.csv')\n",
    "\n",
    "selected_breed_list = labels.breed.value_counts().index.values[:num_classes]\n",
    "selected_breed_list = list(selected_breed_list)\n",
    "labels = labels[labels.breed.isin(selected_breed_list)]"
   ]
  },
  {
   "cell_type": "code",
   "execution_count": 61,
   "metadata": {
    "collapsed": true
   },
   "outputs": [],
   "source": [
    "y_train = pd.get_dummies(labels.breed).values"
   ]
  },
  {
   "cell_type": "code",
   "execution_count": 62,
   "metadata": {
    "collapsed": true
   },
   "outputs": [],
   "source": [
    "le = LabelEncoder()\n",
    "y_train_encode = le.fit_transform(labels.breed.values)"
   ]
  },
  {
   "cell_type": "code",
   "execution_count": 63,
   "metadata": {
    "collapsed": true
   },
   "outputs": [],
   "source": [
    "rnd = np.random.random(len(labels))\n",
    "\n",
    "train_idx = rnd < 0.8\n",
    "valid_idx = rnd >= 0.8\n",
    "ytr = y_train[train_idx]\n",
    "yv = y_train[valid_idx]"
   ]
  },
  {
   "cell_type": "markdown",
   "metadata": {},
   "source": [
    "### Use output of bottleneck xception from preprocessed input"
   ]
  },
  {
   "cell_type": "code",
   "execution_count": 64,
   "metadata": {
    "collapsed": true
   },
   "outputs": [],
   "source": [
    "x_train = np.empty((len(labels), 299, 299, 3), dtype='float32')\n",
    "def read_img(img_id, train_or_test, size):\n",
    "    img = image.load_img(join(data_dir, train_or_test, '%s.jpg' % img_id), target_size=size)\n",
    "    img = image.img_to_array(img)\n",
    "    return img\n",
    "\n",
    "for i, img_id in enumerate(labels['id']):\n",
    "    img = read_img(img_id, 'train', (299, 299))\n",
    "    x = xception.preprocess_input(img)\n",
    "    x_train[i] = x\n",
    "\n",
    "Xtr = x_train[train_idx]\n",
    "Xv = x_train[valid_idx]"
   ]
  },
  {
   "cell_type": "code",
   "execution_count": 67,
   "metadata": {
    "collapsed": true
   },
   "outputs": [],
   "source": [
    "xception_bottleneck = xception.Xception(weights='imagenet', include_top=False, pooling='avg')"
   ]
  },
  {
   "cell_type": "code",
   "execution_count": 68,
   "metadata": {},
   "outputs": [
    {
     "name": "stdout",
     "output_type": "stream",
     "text": [
      "916/916 [==============================] - 14s    \n",
      "225/225 [==============================] - 3s     \n"
     ]
    }
   ],
   "source": [
    "train_x_bf = xception_bottleneck.predict(Xtr, batch_size=32, verbose=1)\n",
    "valid_x_bf = xception_bottleneck.predict(Xv, batch_size=32, verbose=1)"
   ]
  },
  {
   "cell_type": "markdown",
   "metadata": {},
   "source": [
    "#### feed to logistic reg - ok"
   ]
  },
  {
   "cell_type": "code",
   "execution_count": 55,
   "metadata": {
    "collapsed": true
   },
   "outputs": [],
   "source": [
    "logreg = LogisticRegression(multi_class='multinomial', solver='lbfgs')\n",
    "logreg.fit(train_x_bf, y_train_encode[train_idx])\n",
    "\n",
    "valid_probs = logreg.predict_proba(valid_x_bf)\n",
    "valid_preds = logreg.predict(valid_x_bf)"
   ]
  },
  {
   "cell_type": "code",
   "execution_count": 56,
   "metadata": {
    "scrolled": true
   },
   "outputs": [
    {
     "data": {
      "text/plain": [
       "0.0091840332445442142"
      ]
     },
     "execution_count": 56,
     "metadata": {},
     "output_type": "execute_result"
    }
   ],
   "source": [
    "log_loss(yv, valid_probs)"
   ]
  },
  {
   "cell_type": "code",
   "execution_count": 57,
   "metadata": {
    "scrolled": true
   },
   "outputs": [
    {
     "data": {
      "text/plain": [
       "1.0"
      ]
     },
     "execution_count": 57,
     "metadata": {},
     "output_type": "execute_result"
    }
   ],
   "source": [
    "accuracy_score(y_train_encode[valid_idx], valid_preds)"
   ]
  },
  {
   "cell_type": "markdown",
   "metadata": {},
   "source": [
    "#### feed to dense softmax layer - ok"
   ]
  },
  {
   "cell_type": "code",
   "execution_count": 86,
   "metadata": {
    "collapsed": true
   },
   "outputs": [],
   "source": [
    "lm = Sequential([Dense(num_classes, activation='softmax', input_shape=(2048,))])\n",
    "lm.compile(optimizer='rmsprop', loss='categorical_crossentropy', metrics=['accuracy'])"
   ]
  },
  {
   "cell_type": "code",
   "execution_count": 87,
   "metadata": {
    "scrolled": false
   },
   "outputs": [
    {
     "name": "stdout",
     "output_type": "stream",
     "text": [
      "Train on 916 samples, validate on 225 samples\n",
      "Epoch 1/10\n",
      "916/916 [==============================] - 0s - loss: 0.7711 - acc: 0.9061 - val_loss: 0.2773 - val_acc: 0.9867\n",
      "Epoch 2/10\n",
      "916/916 [==============================] - 0s - loss: 0.1495 - acc: 0.9880 - val_loss: 0.1218 - val_acc: 0.9822\n",
      "Epoch 3/10\n",
      "916/916 [==============================] - 0s - loss: 0.0683 - acc: 0.9891 - val_loss: 0.0730 - val_acc: 0.9867\n",
      "Epoch 4/10\n",
      "916/916 [==============================] - 0s - loss: 0.0444 - acc: 0.9902 - val_loss: 0.0617 - val_acc: 0.9822\n",
      "Epoch 5/10\n",
      "916/916 [==============================] - 0s - loss: 0.0340 - acc: 0.9902 - val_loss: 0.0531 - val_acc: 0.9867\n",
      "Epoch 6/10\n",
      "916/916 [==============================] - 0s - loss: 0.0262 - acc: 0.9924 - val_loss: 0.0545 - val_acc: 0.9822\n",
      "Epoch 7/10\n",
      "916/916 [==============================] - 0s - loss: 0.0231 - acc: 0.9913 - val_loss: 0.0509 - val_acc: 0.9822\n",
      "Epoch 8/10\n",
      "916/916 [==============================] - 0s - loss: 0.0189 - acc: 0.9924 - val_loss: 0.0467 - val_acc: 0.9822\n",
      "Epoch 9/10\n",
      "916/916 [==============================] - 0s - loss: 0.0170 - acc: 0.9945 - val_loss: 0.0502 - val_acc: 0.9822\n",
      "Epoch 10/10\n",
      "916/916 [==============================] - 0s - loss: 0.0144 - acc: 0.9945 - val_loss: 0.0484 - val_acc: 0.9822\n"
     ]
    },
    {
     "data": {
      "text/plain": [
       "<keras.callbacks.History at 0x7f8b387c2978>"
      ]
     },
     "execution_count": 87,
     "metadata": {},
     "output_type": "execute_result"
    }
   ],
   "source": [
    "lm.fit(train_x_bf, ytr, epochs=10, batch_size=32, validation_data=(valid_x_bf, yv))"
   ]
  },
  {
   "cell_type": "markdown",
   "metadata": {},
   "source": [
    "### put preprocess step in a model - xception - dense softmax layer - ok "
   ]
  },
  {
   "cell_type": "code",
   "execution_count": 92,
   "metadata": {
    "collapsed": true
   },
   "outputs": [],
   "source": [
    "x_train = np.empty((len(labels), 299, 299, 3), dtype='float32')\n",
    "def read_img(img_id, train_or_test, size):\n",
    "    img = image.load_img(join(data_dir, train_or_test, '%s.jpg' % img_id), target_size=size)\n",
    "    img = image.img_to_array(img)\n",
    "    return img\n",
    "\n",
    "for i, img_id in enumerate(labels['id']):\n",
    "    img = read_img(img_id, 'train', (299, 299))\n",
    "    x_train[i] = img"
   ]
  },
  {
   "cell_type": "code",
   "execution_count": null,
   "metadata": {
    "collapsed": true
   },
   "outputs": [],
   "source": [
    "Xtr = x_train[train_idx]\n",
    "Xv = x_train[valid_idx]\n",
    "base_model = xception.Xception(weights='imagenet', include_top=False, pooling='avg')\n",
    "inputs = Input(shape=(299, 299, 3))\n",
    "x = Lambda(xception.preprocess_input)(inputs)\n",
    "outputs = base_model(x)\n",
    "model = Model(inputs, outputs)"
   ]
  },
  {
   "cell_type": "code",
   "execution_count": 94,
   "metadata": {},
   "outputs": [
    {
     "name": "stdout",
     "output_type": "stream",
     "text": [
      "916/916 [==============================] - 13s    \n",
      "224/225 [============================>.] - ETA: 0s"
     ]
    }
   ],
   "source": [
    "train_x_bf = model.predict(Xtr, batch_size=32, verbose=1)\n",
    "valid_x_bf = model.predict(Xv, batch_size=32, verbose=1)"
   ]
  },
  {
   "cell_type": "code",
   "execution_count": 95,
   "metadata": {
    "collapsed": true
   },
   "outputs": [],
   "source": [
    "lm = Sequential([Dense(num_classes, activation='softmax', input_shape=(2048,))])\n",
    "lm.compile(optimizer='rmsprop', loss='categorical_crossentropy', metrics=['accuracy'])"
   ]
  },
  {
   "cell_type": "code",
   "execution_count": 96,
   "metadata": {
    "scrolled": false
   },
   "outputs": [
    {
     "name": "stdout",
     "output_type": "stream",
     "text": [
      "Train on 916 samples, validate on 225 samples\n",
      "Epoch 1/10\n",
      "916/916 [==============================] - 1s - loss: 0.7613 - acc: 0.9258 - val_loss: 0.2718 - val_acc: 0.9822\n",
      "Epoch 2/10\n",
      "916/916 [==============================] - 0s - loss: 0.1460 - acc: 0.9869 - val_loss: 0.1098 - val_acc: 0.9822\n",
      "Epoch 3/10\n",
      "916/916 [==============================] - 0s - loss: 0.0678 - acc: 0.9880 - val_loss: 0.0710 - val_acc: 0.9822\n",
      "Epoch 4/10\n",
      "916/916 [==============================] - 0s - loss: 0.0428 - acc: 0.9902 - val_loss: 0.0666 - val_acc: 0.9822\n",
      "Epoch 5/10\n",
      "916/916 [==============================] - 0s - loss: 0.0331 - acc: 0.9913 - val_loss: 0.0553 - val_acc: 0.9822\n",
      "Epoch 6/10\n",
      "916/916 [==============================] - 0s - loss: 0.0270 - acc: 0.9913 - val_loss: 0.0526 - val_acc: 0.9822\n",
      "Epoch 7/10\n",
      "916/916 [==============================] - 0s - loss: 0.0235 - acc: 0.9913 - val_loss: 0.0496 - val_acc: 0.9822\n",
      "Epoch 8/10\n",
      "916/916 [==============================] - 0s - loss: 0.0195 - acc: 0.9924 - val_loss: 0.0504 - val_acc: 0.9822\n",
      "Epoch 9/10\n",
      "916/916 [==============================] - 0s - loss: 0.0169 - acc: 0.9934 - val_loss: 0.0505 - val_acc: 0.9778\n",
      "Epoch 10/10\n",
      "916/916 [==============================] - 0s - loss: 0.0151 - acc: 0.9956 - val_loss: 0.0500 - val_acc: 0.9822\n"
     ]
    },
    {
     "data": {
      "text/plain": [
       "<keras.callbacks.History at 0x7f8b76336a20>"
      ]
     },
     "execution_count": 96,
     "metadata": {},
     "output_type": "execute_result"
    }
   ],
   "source": [
    "lm.fit(train_x_bf, ytr, epochs=10, batch_size=32, validation_data=(valid_x_bf, yv))"
   ]
  },
  {
   "cell_type": "markdown",
   "metadata": {},
   "source": [
    "### make into one model - no longer works"
   ]
  },
  {
   "cell_type": "code",
   "execution_count": 80,
   "metadata": {
    "collapsed": true
   },
   "outputs": [],
   "source": [
    "base_model = xception.Xception(weights='imagenet', include_top=False, pooling='avg')\n",
    "for layer in base_model.layers:\n",
    "    layer.trainable = False\n",
    "inputs = Input(shape=(299, 299, 3))\n",
    "x = Lambda(xception.preprocess_input)(inputs)\n",
    "x = base_model(x)\n",
    "outputs = Dense(num_classes, activation='softmax')(x)\n",
    "model = Model(inputs, outputs)\n",
    "model.compile(optimizer='rmsprop', loss='categorical_crossentropy', metrics=['accuracy'])"
   ]
  },
  {
   "cell_type": "code",
   "execution_count": 82,
   "metadata": {},
   "outputs": [
    {
     "name": "stdout",
     "output_type": "stream",
     "text": [
      "Train on 916 samples, validate on 225 samples\n",
      "Epoch 1/3\n",
      "916/916 [==============================] - 16s - loss: 0.8839 - acc: 0.8570 - val_loss: 2.3357 - val_acc: 0.1378\n",
      "Epoch 2/3\n",
      "916/916 [==============================] - 15s - loss: 0.2263 - acc: 0.9793 - val_loss: 2.3743 - val_acc: 0.1111\n",
      "Epoch 3/3\n",
      "916/916 [==============================] - 15s - loss: 0.1251 - acc: 0.9803 - val_loss: 2.3750 - val_acc: 0.1556\n"
     ]
    },
    {
     "data": {
      "text/plain": [
       "<keras.callbacks.History at 0x7f8b39e1ef98>"
      ]
     },
     "execution_count": 82,
     "metadata": {},
     "output_type": "execute_result"
    }
   ],
   "source": [
    "model.fit(x=Xtr, y=ytr, batch_size=32, epochs=3, verbose=1, validation_data=(Xv, yv))"
   ]
  },
  {
   "cell_type": "code",
   "execution_count": null,
   "metadata": {
    "collapsed": true
   },
   "outputs": [],
   "source": []
  }
 ],
 "metadata": {
  "kernelspec": {
   "display_name": "Python 3",
   "language": "python",
   "name": "python3"
  },
  "language_info": {
   "codemirror_mode": {
    "name": "ipython",
    "version": 3
   },
   "file_extension": ".py",
   "mimetype": "text/x-python",
   "name": "python",
   "nbconvert_exporter": "python",
   "pygments_lexer": "ipython3",
   "version": "3.6.1"
  },
  "toc": {
   "nav_menu": {},
   "number_sections": true,
   "sideBar": true,
   "skip_h1_title": false,
   "toc_cell": false,
   "toc_position": {},
   "toc_section_display": "block",
   "toc_window_display": true
  }
 },
 "nbformat": 4,
 "nbformat_minor": 2
}
