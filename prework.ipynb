{
 "cells": [
  {
   "cell_type": "markdown",
   "metadata": {},
   "source": [
    "[Dog Breed Identification](https://www.kaggle.com/c/dog-breed-identification)"
   ]
  },
  {
   "cell_type": "code",
   "execution_count": 60,
   "metadata": {
    "collapsed": true,
    "scrolled": false
   },
   "outputs": [],
   "source": [
    "from secrets import KAGGLE_USER, KAGGLE_PW\n",
    "import utils_ds\n",
    "\n",
    "import pandas as pd\n",
    "import os"
   ]
  },
  {
   "cell_type": "code",
   "execution_count": 89,
   "metadata": {
    "collapsed": true
   },
   "outputs": [],
   "source": [
    "competition_name = 'dog-breed-identification'\n",
    "\n",
    "dir_data = '/opt/notebooks/data/' + competition_name"
   ]
  },
  {
   "cell_type": "markdown",
   "metadata": {},
   "source": [
    "### download"
   ]
  },
  {
   "cell_type": "code",
   "execution_count": 5,
   "metadata": {
    "collapsed": true
   },
   "outputs": [],
   "source": [
    "!mkdir -p $dir_data/raw "
   ]
  },
  {
   "cell_type": "code",
   "execution_count": 6,
   "metadata": {},
   "outputs": [
    {
     "name": "stdout",
     "output_type": "stream",
     "text": [
      "/opt/notebooks/data/dog-breed-identification/raw\n"
     ]
    }
   ],
   "source": [
    "%cd $dir_data/raw"
   ]
  },
  {
   "cell_type": "code",
   "execution_count": 7,
   "metadata": {
    "collapsed": true
   },
   "outputs": [
    {
     "name": "stdout",
     "output_type": "stream",
     "text": [
      "downloading https://www.kaggle.com/c/dog-breed-identification/download/labels.csv.zip\n",
      "\n",
      "labels.csv.zip 100% |################################| Time: 0:00:00 215.9 KiB/s\n",
      "\n",
      "downloading https://www.kaggle.com/c/dog-breed-identification/download/sample_submission.csv.zip\n",
      "\n",
      "sample_submission.csv.zip 100% |#####################| Time: 0:00:00 505.0 KiB/s\n",
      "\n",
      "downloading https://www.kaggle.com/c/dog-breed-identification/download/test.zip\n",
      "\n",
      "test.zip 100% |######################################| Time: 0:00:57   6.0 MiB/s\n",
      "\n",
      "downloading https://www.kaggle.com/c/dog-breed-identification/download/train.zip\n",
      "\n",
      "train.zip 100% |#####################################| Time: 0:00:53   6.4 MiB/s\n",
      "\n"
     ]
    }
   ],
   "source": [
    "!kg config -g -u $KAGGLE_USER -p $KAGGLE_PW -c $competition_name\n",
    "!kg download"
   ]
  },
  {
   "cell_type": "markdown",
   "metadata": {},
   "source": [
    "### unzip"
   ]
  },
  {
   "cell_type": "code",
   "execution_count": 13,
   "metadata": {},
   "outputs": [
    {
     "name": "stdout",
     "output_type": "stream",
     "text": [
      "mkdir: cannot create directory '/opt/notebooks/data/dog-breed-identification/preprocessed': File exists\r\n"
     ]
    }
   ],
   "source": [
    "!mkdir $dir_data/preprocessed"
   ]
  },
  {
   "cell_type": "code",
   "execution_count": 14,
   "metadata": {
    "collapsed": true
   },
   "outputs": [],
   "source": [
    "%cp $dir_data/raw/*.zip $dir_data/preprocessed/"
   ]
  },
  {
   "cell_type": "code",
   "execution_count": null,
   "metadata": {
    "collapsed": true
   },
   "outputs": [],
   "source": [
    "!unzip '$dir_data/preprocessed/*.zip' -d $dir_data/preprocessed"
   ]
  },
  {
   "cell_type": "code",
   "execution_count": 16,
   "metadata": {},
   "outputs": [
    {
     "name": "stdout",
     "output_type": "stream",
     "text": [
      "10223\n",
      "10358\n"
     ]
    }
   ],
   "source": [
    "%ls $dir_data/preprocessed/train/ -l | wc -l\n",
    "%ls $dir_data/preprocessed/test/ -l | wc -l"
   ]
  },
  {
   "cell_type": "code",
   "execution_count": 15,
   "metadata": {
    "collapsed": true
   },
   "outputs": [],
   "source": [
    "rm $dir_data/preprocessed/*.zip"
   ]
  },
  {
   "cell_type": "code",
   "execution_count": 20,
   "metadata": {},
   "outputs": [
    {
     "name": "stdout",
     "output_type": "stream",
     "text": [
      "labels.csv  sample_submission.csv  \u001b[0m\u001b[01;34mtest\u001b[0m/  \u001b[01;34mtrain\u001b[0m/\r\n"
     ]
    }
   ],
   "source": [
    "ls $dir_data/preprocessed/"
   ]
  },
  {
   "cell_type": "markdown",
   "metadata": {},
   "source": [
    "### move samples to validation folder"
   ]
  },
  {
   "cell_type": "code",
   "execution_count": 30,
   "metadata": {
    "collapsed": true
   },
   "outputs": [],
   "source": [
    "!mkdir $dir_data/preprocessed/valid "
   ]
  },
  {
   "cell_type": "code",
   "execution_count": 32,
   "metadata": {
    "collapsed": true
   },
   "outputs": [],
   "source": [
    "utils_ds.move_sample(\n",
    "    dir_source=dir_data + '/preprocessed/train',\n",
    "    dir_destin=dir_data + '/preprocessed/valid',\n",
    "    file_type='jpg',\n",
    "    n=2000)"
   ]
  },
  {
   "cell_type": "code",
   "execution_count": 33,
   "metadata": {},
   "outputs": [
    {
     "name": "stdout",
     "output_type": "stream",
     "text": [
      "2001\r\n"
     ]
    }
   ],
   "source": [
    "%ls $dir_data/preprocessed/valid/ -l | wc -l"
   ]
  },
  {
   "cell_type": "markdown",
   "metadata": {},
   "source": [
    "### copy samples to sample folder"
   ]
  },
  {
   "cell_type": "code",
   "execution_count": 34,
   "metadata": {
    "collapsed": true
   },
   "outputs": [],
   "source": [
    "!mkdir $dir_data/sample"
   ]
  },
  {
   "cell_type": "code",
   "execution_count": 36,
   "metadata": {
    "collapsed": true,
    "scrolled": true
   },
   "outputs": [],
   "source": [
    "!mkdir $dir_data/sample/train $dir_data/sample/test $dir_data/sample/valid"
   ]
  },
  {
   "cell_type": "code",
   "execution_count": 37,
   "metadata": {
    "collapsed": true
   },
   "outputs": [],
   "source": [
    "utils_ds.copy_sample(\n",
    "    dir_source=dir_data + '/preprocessed/train',\n",
    "    dir_destin=dir_data + '/sample/train',\n",
    "    file_type='jpg',\n",
    "    n=200)"
   ]
  },
  {
   "cell_type": "code",
   "execution_count": 38,
   "metadata": {
    "collapsed": true
   },
   "outputs": [],
   "source": [
    "utils_ds.copy_sample(\n",
    "    dir_source=dir_data + '/preprocessed/test',\n",
    "    dir_destin=dir_data + '/sample/test',\n",
    "    file_type='jpg',\n",
    "    n=200)"
   ]
  },
  {
   "cell_type": "code",
   "execution_count": 39,
   "metadata": {
    "collapsed": true
   },
   "outputs": [],
   "source": [
    "utils_ds.copy_sample(\n",
    "    dir_source=dir_data + '/preprocessed/valid',\n",
    "    dir_destin=dir_data + '/sample/valid',\n",
    "    file_type='jpg',\n",
    "    n=50)"
   ]
  },
  {
   "cell_type": "code",
   "execution_count": 88,
   "metadata": {
    "scrolled": true
   },
   "outputs": [
    {
     "name": "stdout",
     "output_type": "stream",
     "text": [
      "121\n",
      "201\n",
      "121\n"
     ]
    }
   ],
   "source": [
    "%ls $dir_data/sample/train/ -l | wc -l\n",
    "%ls $dir_data/sample/test/ -l | wc -l\n",
    "%ls $dir_data/sample/valid/ -l | wc -l"
   ]
  },
  {
   "cell_type": "markdown",
   "metadata": {},
   "source": [
    "### make results dirs"
   ]
  },
  {
   "cell_type": "code",
   "execution_count": 41,
   "metadata": {
    "collapsed": true
   },
   "outputs": [],
   "source": [
    "mkdir $dir_data/preprocessed/results"
   ]
  },
  {
   "cell_type": "code",
   "execution_count": 42,
   "metadata": {
    "collapsed": true
   },
   "outputs": [],
   "source": [
    "mkdir $dir_data/sample/results"
   ]
  },
  {
   "cell_type": "markdown",
   "metadata": {},
   "source": [
    "### rearrange data into labeled folders"
   ]
  },
  {
   "cell_type": "code",
   "execution_count": 43,
   "metadata": {
    "collapsed": true
   },
   "outputs": [],
   "source": [
    "labels = pd.read_csv(dir_data+'/preprocessed/labels.csv')"
   ]
  },
  {
   "cell_type": "code",
   "execution_count": 44,
   "metadata": {
    "collapsed": true
   },
   "outputs": [],
   "source": [
    "breeds = set(labels.breed)"
   ]
  },
  {
   "cell_type": "markdown",
   "metadata": {
    "collapsed": true
   },
   "source": [
    "#### train"
   ]
  },
  {
   "cell_type": "code",
   "execution_count": 61,
   "metadata": {
    "collapsed": true
   },
   "outputs": [],
   "source": [
    "for breed in breeds:\n",
    "    os.mkdir(dir_data+'/preprocessed/train/'+breed)"
   ]
  },
  {
   "cell_type": "code",
   "execution_count": 81,
   "metadata": {
    "collapsed": true,
    "scrolled": true
   },
   "outputs": [],
   "source": [
    "for row in labels.iterrows():\n",
    "    id_=row[1]['id']\n",
    "    breed=row[1]['breed']\n",
    "    try:\n",
    "        os.rename(dir_data+'/preprocessed/train/%s.jpg' % id_, \n",
    "              dir_data+'/preprocessed/train/%s/%s.jpg' % (breed, id_))\n",
    "    # pic is in valid folder\n",
    "    except OSError: \n",
    "        pass"
   ]
  },
  {
   "cell_type": "markdown",
   "metadata": {
    "collapsed": true
   },
   "source": [
    "#### valid"
   ]
  },
  {
   "cell_type": "code",
   "execution_count": 82,
   "metadata": {
    "collapsed": true
   },
   "outputs": [],
   "source": [
    "for breed in breeds:\n",
    "    os.mkdir(dir_data+'/preprocessed/valid/'+breed)"
   ]
  },
  {
   "cell_type": "code",
   "execution_count": 83,
   "metadata": {
    "collapsed": true,
    "scrolled": true
   },
   "outputs": [],
   "source": [
    "for row in labels.iterrows():\n",
    "    id_=row[1]['id']\n",
    "    breed=row[1]['breed']\n",
    "    try:\n",
    "        os.rename(dir_data+'/preprocessed/valid/%s.jpg' % id_, \n",
    "              dir_data+'/preprocessed/valid/%s/%s.jpg' % (breed, id_))\n",
    "    # pic is in train folder\n",
    "    except OSError: \n",
    "        pass"
   ]
  },
  {
   "cell_type": "markdown",
   "metadata": {
    "collapsed": true
   },
   "source": [
    "#### train in sample"
   ]
  },
  {
   "cell_type": "code",
   "execution_count": 84,
   "metadata": {
    "collapsed": true
   },
   "outputs": [],
   "source": [
    "for breed in breeds:\n",
    "    os.mkdir(dir_data+'/sample/train/'+breed)"
   ]
  },
  {
   "cell_type": "code",
   "execution_count": 85,
   "metadata": {
    "collapsed": true,
    "scrolled": true
   },
   "outputs": [],
   "source": [
    "for row in labels.iterrows():\n",
    "    id_=row[1]['id']\n",
    "    breed=row[1]['breed']\n",
    "    try:\n",
    "        os.rename(dir_data+'/sample/train/%s.jpg' % id_, \n",
    "              dir_data+'/sample/train/%s/%s.jpg' % (breed, id_))\n",
    "    # pic is in valid folder\n",
    "    except OSError: \n",
    "        pass"
   ]
  },
  {
   "cell_type": "markdown",
   "metadata": {
    "collapsed": true
   },
   "source": [
    "#### valid in sample"
   ]
  },
  {
   "cell_type": "code",
   "execution_count": 86,
   "metadata": {
    "collapsed": true
   },
   "outputs": [],
   "source": [
    "for breed in breeds:\n",
    "    os.mkdir(dir_data+'/sample/valid/'+breed)"
   ]
  },
  {
   "cell_type": "code",
   "execution_count": 87,
   "metadata": {
    "collapsed": true,
    "scrolled": true
   },
   "outputs": [],
   "source": [
    "for row in labels.iterrows():\n",
    "    id_=row[1]['id']\n",
    "    breed=row[1]['breed']\n",
    "    try:\n",
    "        os.rename(dir_data+'/sample/valid/%s.jpg' % id_, \n",
    "              dir_data+'/sample/valid/%s/%s.jpg' % (breed, id_))\n",
    "    # pic is in train folder\n",
    "    except OSError: \n",
    "        pass"
   ]
  }
 ],
 "metadata": {
  "anaconda-cloud": {},
  "kernelspec": {
   "display_name": "Python 3",
   "language": "python",
   "name": "python3"
  },
  "language_info": {
   "codemirror_mode": {
    "name": "ipython",
    "version": 3
   },
   "file_extension": ".py",
   "mimetype": "text/x-python",
   "name": "python",
   "nbconvert_exporter": "python",
   "pygments_lexer": "ipython3",
   "version": "3.6.1"
  },
  "toc": {
   "nav_menu": {
    "height": "178px",
    "width": "252px"
   },
   "number_sections": true,
   "sideBar": true,
   "skip_h1_title": false,
   "toc_cell": false,
   "toc_position": {},
   "toc_section_display": "block",
   "toc_window_display": false
  }
 },
 "nbformat": 4,
 "nbformat_minor": 1
}
