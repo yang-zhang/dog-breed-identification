{
 "cells": [
  {
   "cell_type": "code",
   "execution_count": 1,
   "metadata": {},
   "outputs": [
    {
     "name": "stderr",
     "output_type": "stream",
     "text": [
      "Using TensorFlow backend.\n"
     ]
    }
   ],
   "source": [
    "import math\n",
    "import os\n",
    "import datetime\n",
    "\n",
    "import numpy as np\n",
    "import pandas as pd\n",
    "\n",
    "from keras.preprocessing import image\n",
    "from keras.layers import Input, Lambda, Dense, Dropout, Flatten\n",
    "from keras.models import Model, Sequential\n",
    "\n",
    "from keras.utils import to_categorical\n",
    "from keras.optimizers import RMSprop, Adam\n",
    "\n",
    "from keras.applications import xception, inception_v3\n",
    "\n",
    "from sklearn.linear_model import LogisticRegression\n",
    "from sklearn.metrics import log_loss, accuracy_score\n",
    "\n",
    "from secrets import KAGGLE_USER, KAGGLE_PW"
   ]
  },
  {
   "cell_type": "code",
   "execution_count": 2,
   "metadata": {
    "collapsed": true
   },
   "outputs": [],
   "source": [
    "competition_name = 'dog-breed-identification'\n",
    "data_dir = '/opt/notebooks/data/' + competition_name + '/preprocessed'\n",
    "\n",
    "batch_size = 16\n",
    "target_size=(299, 299)\n",
    "\n",
    "def add_preprocess(base_model, preprocess_func, inputs_shape=(299, 299, 3)):\n",
    "    inputs = Input(shape=inputs_shape)\n",
    "    x = Lambda(preprocess_func)(inputs)\n",
    "    outputs = base_model(x)\n",
    "    model = Model(inputs, outputs)\n",
    "    return model"
   ]
  },
  {
   "cell_type": "markdown",
   "metadata": {},
   "source": [
    "### train"
   ]
  },
  {
   "cell_type": "markdown",
   "metadata": {},
   "source": [
    "emsemble a few augmentation training data"
   ]
  },
  {
   "cell_type": "code",
   "execution_count": 3,
   "metadata": {
    "collapsed": true
   },
   "outputs": [],
   "source": [
    "base_model_x = xception.Xception(weights='imagenet', include_top=False, pooling='avg')\n",
    "model_x = add_preprocess(base_model_x, xception.preprocess_input)"
   ]
  },
  {
   "cell_type": "code",
   "execution_count": 4,
   "metadata": {
    "collapsed": true
   },
   "outputs": [],
   "source": [
    "base_model_i = inception_v3.InceptionV3(weights='imagenet', include_top=False, pooling='avg')\n",
    "model_i = add_preprocess(base_model_i, inception_v3.preprocess_input)"
   ]
  },
  {
   "cell_type": "code",
   "execution_count": 5,
   "metadata": {
    "scrolled": true
   },
   "outputs": [
    {
     "name": "stdout",
     "output_type": "stream",
     "text": [
      "Found 8222 images belonging to 120 classes.\n",
      "Found 2000 images belonging to 120 classes.\n",
      "Found 10357 images belonging to 1 classes.\n"
     ]
    }
   ],
   "source": [
    "batches = image.ImageDataGenerator().flow_from_directory(data_dir+'/train', shuffle=False, target_size=target_size, batch_size=batch_size)\n",
    "batches_val = image.ImageDataGenerator().flow_from_directory(data_dir+'/valid', shuffle=False, target_size=target_size, batch_size=batch_size)\n",
    "batches_test = image.ImageDataGenerator().flow_from_directory(data_dir+'/test', shuffle=False, target_size=target_size, batch_size=batch_size)\n",
    "\n",
    "nb_batches = math.ceil(batches.n/batch_size)\n",
    "nb_batches_val = math.ceil(batches_val.n/batch_size)\n",
    "nb_batches_test = math.ceil(batches_test.n/batch_size)\n",
    "\n",
    "y_encode = batches.classes\n",
    "y_val_encode = batches_val.classes\n",
    "\n",
    "y = to_categorical(batches.classes)\n",
    "y_val = to_categorical(batches_val.classes)"
   ]
  },
  {
   "cell_type": "code",
   "execution_count": 6,
   "metadata": {
    "collapsed": true
   },
   "outputs": [],
   "source": [
    "# bf_val_x = model_x.predict_generator(batches_val, steps=nb_batches_val, verbose=1)\n",
    "# np.save(data_dir+'/results/bf_val_x', bf_val_x)\n",
    "bf_val_x = np.load(data_dir+'/results/bf_val_x.npy')\n",
    "\n",
    "# bf_x_test = model_x.predict_generator(batches_test, steps=nb_batches_test, verbose=1)\n",
    "# np.save(data_dir+'/results/bf_x_test', bf_x_test)\n",
    "bf_x_test = np.load(data_dir+'/results/bf_x_test.npy')"
   ]
  },
  {
   "cell_type": "code",
   "execution_count": 18,
   "metadata": {
    "collapsed": true
   },
   "outputs": [],
   "source": [
    "# bf_val_i = model_i.predict_generator(batches_val, steps=nb_batches_val, verbose=1)\n",
    "# np.save(data_dir+'/results/bf_val_i', bf_val_i)\n",
    "bf_val_i = np.load(data_dir+'/results/bf_val_i.npy')\n",
    "\n",
    "# bf_i_test = model_i.predict_generator(batches_test, steps=nb_batches_test, verbose=1)\n",
    "# np.save(data_dir+'/results/bf_i_test', bf_i_test)\n",
    "bf_i_test = np.load(data_dir+'/results/bf_i_test.npy')"
   ]
  },
  {
   "cell_type": "code",
   "execution_count": 8,
   "metadata": {
    "collapsed": true
   },
   "outputs": [],
   "source": [
    "gen = image.ImageDataGenerator(rotation_range=10,\n",
    "                               width_shift_range=0.1,\n",
    "                               shear_range=0.15, \n",
    "                               zoom_range=0.1, \n",
    "                               channel_shift_range=10., \n",
    "                               horizontal_flip=True)"
   ]
  },
  {
   "cell_type": "code",
   "execution_count": 31,
   "metadata": {},
   "outputs": [
    {
     "name": "stdout",
     "output_type": "stream",
     "text": [
      "Found 8222 images belonging to 120 classes.\n",
      "514/514 [==============================] - 124s   \n",
      "Found 8222 images belonging to 120 classes.\n",
      "514/514 [==============================] - 113s   \n",
      "Train on 8222 samples, validate on 2000 samples\n",
      "Epoch 1/15\n",
      "8222/8222 [==============================] - 0s - loss: 2.0900 - acc: 0.6579 - val_loss: 0.7827 - val_acc: 0.8880\n",
      "Epoch 2/15\n",
      "8222/8222 [==============================] - 0s - loss: 0.5884 - acc: 0.8883 - val_loss: 0.4453 - val_acc: 0.9040\n",
      "Epoch 3/15\n",
      "8222/8222 [==============================] - 0s - loss: 0.3748 - acc: 0.9117 - val_loss: 0.3503 - val_acc: 0.9035\n",
      "Epoch 4/15\n",
      "8222/8222 [==============================] - 0s - loss: 0.2883 - acc: 0.9247 - val_loss: 0.3230 - val_acc: 0.9035\n",
      "Epoch 5/15\n",
      "8222/8222 [==============================] - 0s - loss: 0.2335 - acc: 0.9375 - val_loss: 0.3012 - val_acc: 0.9085\n",
      "Epoch 6/15\n",
      "8222/8222 [==============================] - 0s - loss: 0.1919 - acc: 0.9483 - val_loss: 0.2901 - val_acc: 0.9110\n",
      "Epoch 7/15\n",
      "8222/8222 [==============================] - 0s - loss: 0.1629 - acc: 0.9567 - val_loss: 0.2934 - val_acc: 0.8990\n",
      "Epoch 8/15\n",
      "8222/8222 [==============================] - 0s - loss: 0.1387 - acc: 0.9659 - val_loss: 0.2820 - val_acc: 0.9050\n",
      "Epoch 9/15\n",
      "8222/8222 [==============================] - 0s - loss: 0.1203 - acc: 0.9689 - val_loss: 0.2730 - val_acc: 0.9120\n",
      "Epoch 10/15\n",
      "8222/8222 [==============================] - 0s - loss: 0.1040 - acc: 0.9742 - val_loss: 0.2816 - val_acc: 0.9100\n",
      "Epoch 11/15\n",
      "8222/8222 [==============================] - 0s - loss: 0.0905 - acc: 0.9775 - val_loss: 0.2818 - val_acc: 0.9090\n",
      "Epoch 12/15\n",
      "8222/8222 [==============================] - 0s - loss: 0.0772 - acc: 0.9839 - val_loss: 0.2770 - val_acc: 0.9060\n",
      "Epoch 13/15\n",
      "8222/8222 [==============================] - 0s - loss: 0.0699 - acc: 0.9832 - val_loss: 0.2785 - val_acc: 0.9110\n",
      "Epoch 14/15\n",
      "8222/8222 [==============================] - 0s - loss: 0.0607 - acc: 0.9870 - val_loss: 0.2825 - val_acc: 0.9075\n",
      "Epoch 15/15\n",
      "8222/8222 [==============================] - 0s - loss: 0.0555 - acc: 0.9888 - val_loss: 0.2797 - val_acc: 0.9115\n",
      " 9440/10357 [==========================>...] - ETA: 0sFound 8222 images belonging to 120 classes.\n",
      "514/514 [==============================] - 125s   \n",
      "Found 8222 images belonging to 120 classes.\n",
      "514/514 [==============================] - 112s   \n",
      "Train on 8222 samples, validate on 2000 samples\n",
      "Epoch 1/15\n",
      "8222/8222 [==============================] - 0s - loss: 2.1452 - acc: 0.6498 - val_loss: 0.8090 - val_acc: 0.8715\n",
      "Epoch 2/15\n",
      "8222/8222 [==============================] - 0s - loss: 0.6041 - acc: 0.8883 - val_loss: 0.4609 - val_acc: 0.8935\n",
      "Epoch 3/15\n",
      "8222/8222 [==============================] - 0s - loss: 0.3858 - acc: 0.9099 - val_loss: 0.3648 - val_acc: 0.9115\n",
      "Epoch 4/15\n",
      "8222/8222 [==============================] - 0s - loss: 0.2928 - acc: 0.9226 - val_loss: 0.3239 - val_acc: 0.9065\n",
      "Epoch 5/15\n",
      "8222/8222 [==============================] - 0s - loss: 0.2360 - acc: 0.9375 - val_loss: 0.3089 - val_acc: 0.9060\n",
      "Epoch 6/15\n",
      "8222/8222 [==============================] - 0s - loss: 0.1926 - acc: 0.9478 - val_loss: 0.3034 - val_acc: 0.9045\n",
      "Epoch 7/15\n",
      "8222/8222 [==============================] - 0s - loss: 0.1651 - acc: 0.9559 - val_loss: 0.2876 - val_acc: 0.9045\n",
      "Epoch 8/15\n",
      "8222/8222 [==============================] - 0s - loss: 0.1391 - acc: 0.9630 - val_loss: 0.2876 - val_acc: 0.9120\n",
      "Epoch 9/15\n",
      "8222/8222 [==============================] - 0s - loss: 0.1213 - acc: 0.9679 - val_loss: 0.3026 - val_acc: 0.9020\n",
      "Epoch 10/15\n",
      "8222/8222 [==============================] - 0s - loss: 0.1056 - acc: 0.9739 - val_loss: 0.2794 - val_acc: 0.9120\n",
      "Epoch 11/15\n",
      "8222/8222 [==============================] - 0s - loss: 0.0901 - acc: 0.9793 - val_loss: 0.2820 - val_acc: 0.9070\n",
      "Epoch 12/15\n",
      "8222/8222 [==============================] - 0s - loss: 0.0793 - acc: 0.9807 - val_loss: 0.2907 - val_acc: 0.9085\n",
      "Epoch 13/15\n",
      "8222/8222 [==============================] - 0s - loss: 0.0704 - acc: 0.9836 - val_loss: 0.2842 - val_acc: 0.9105\n",
      "Epoch 14/15\n",
      "8222/8222 [==============================] - 0s - loss: 0.0605 - acc: 0.9888 - val_loss: 0.2785 - val_acc: 0.9145\n",
      "Epoch 15/15\n",
      "8222/8222 [==============================] - 0s - loss: 0.0542 - acc: 0.9900 - val_loss: 0.2954 - val_acc: 0.9035\n",
      "10336/10357 [============================>.] - ETA: 0sFound 8222 images belonging to 120 classes.\n",
      "514/514 [==============================] - 125s   \n",
      "Found 8222 images belonging to 120 classes.\n",
      "514/514 [==============================] - 113s   \n",
      "Train on 8222 samples, validate on 2000 samples\n",
      "Epoch 1/15\n",
      "8222/8222 [==============================] - 0s - loss: 2.0690 - acc: 0.6667 - val_loss: 0.7773 - val_acc: 0.8870\n",
      "Epoch 2/15\n",
      "8222/8222 [==============================] - 0s - loss: 0.5862 - acc: 0.8911 - val_loss: 0.4536 - val_acc: 0.8955\n",
      "Epoch 3/15\n",
      "8222/8222 [==============================] - 0s - loss: 0.3786 - acc: 0.9105 - val_loss: 0.3573 - val_acc: 0.9025\n",
      "Epoch 4/15\n",
      "8222/8222 [==============================] - 0s - loss: 0.2882 - acc: 0.9275 - val_loss: 0.3323 - val_acc: 0.9010\n",
      "Epoch 5/15\n",
      "8222/8222 [==============================] - 0s - loss: 0.2328 - acc: 0.9359 - val_loss: 0.2982 - val_acc: 0.9125\n",
      "Epoch 6/15\n",
      "8222/8222 [==============================] - 0s - loss: 0.1938 - acc: 0.9456 - val_loss: 0.3012 - val_acc: 0.9110\n",
      "Epoch 7/15\n",
      "8222/8222 [==============================] - 0s - loss: 0.1625 - acc: 0.9566 - val_loss: 0.2909 - val_acc: 0.9095\n",
      "Epoch 8/15\n",
      "8222/8222 [==============================] - 0s - loss: 0.1387 - acc: 0.9633 - val_loss: 0.2891 - val_acc: 0.9000\n",
      "Epoch 9/15\n",
      "8222/8222 [==============================] - 0s - loss: 0.1189 - acc: 0.9691 - val_loss: 0.2845 - val_acc: 0.9085\n",
      "Epoch 10/15\n",
      "8222/8222 [==============================] - 0s - loss: 0.1020 - acc: 0.9752 - val_loss: 0.2792 - val_acc: 0.9130\n",
      "Epoch 11/15\n",
      "8222/8222 [==============================] - 0s - loss: 0.0885 - acc: 0.9785 - val_loss: 0.2770 - val_acc: 0.9085\n",
      "Epoch 12/15\n",
      "8222/8222 [==============================] - 0s - loss: 0.0800 - acc: 0.9810 - val_loss: 0.2806 - val_acc: 0.9060\n",
      "Epoch 13/15\n",
      "8222/8222 [==============================] - 0s - loss: 0.0680 - acc: 0.9844 - val_loss: 0.2878 - val_acc: 0.9075\n",
      "Epoch 14/15\n",
      "8222/8222 [==============================] - 0s - loss: 0.0600 - acc: 0.9863 - val_loss: 0.2730 - val_acc: 0.9165\n",
      "Epoch 15/15\n",
      "8222/8222 [==============================] - 0s - loss: 0.0529 - acc: 0.9898 - val_loss: 0.2788 - val_acc: 0.9100\n",
      " 9488/10357 [==========================>...] - ETA: 0sFound 8222 images belonging to 120 classes.\n",
      "514/514 [==============================] - 125s   \n",
      "Found 8222 images belonging to 120 classes.\n",
      "514/514 [==============================] - 112s   \n",
      "Train on 8222 samples, validate on 2000 samples\n",
      "Epoch 1/15\n",
      "8222/8222 [==============================] - 0s - loss: 2.0541 - acc: 0.6587 - val_loss: 0.7849 - val_acc: 0.8780\n",
      "Epoch 2/15\n",
      "8222/8222 [==============================] - 0s - loss: 0.5821 - acc: 0.8902 - val_loss: 0.4590 - val_acc: 0.8985\n",
      "Epoch 3/15\n",
      "8222/8222 [==============================] - 0s - loss: 0.3739 - acc: 0.9117 - val_loss: 0.3560 - val_acc: 0.9080\n",
      "Epoch 4/15\n",
      "8222/8222 [==============================] - 0s - loss: 0.2864 - acc: 0.9242 - val_loss: 0.3228 - val_acc: 0.9030\n",
      "Epoch 5/15\n",
      "8222/8222 [==============================] - 0s - loss: 0.2317 - acc: 0.9355 - val_loss: 0.2993 - val_acc: 0.9080\n",
      "Epoch 6/15\n",
      "8222/8222 [==============================] - 0s - loss: 0.1888 - acc: 0.9492 - val_loss: 0.2940 - val_acc: 0.9110\n",
      "Epoch 7/15\n",
      "8222/8222 [==============================] - 0s - loss: 0.1608 - acc: 0.9560 - val_loss: 0.2858 - val_acc: 0.9105\n",
      "Epoch 8/15\n",
      "8222/8222 [==============================] - 0s - loss: 0.1380 - acc: 0.9622 - val_loss: 0.2905 - val_acc: 0.9040\n",
      "Epoch 9/15\n",
      "8222/8222 [==============================] - 0s - loss: 0.1177 - acc: 0.9687 - val_loss: 0.2768 - val_acc: 0.9115\n",
      "Epoch 10/15\n",
      "8222/8222 [==============================] - 0s - loss: 0.1040 - acc: 0.9721 - val_loss: 0.2801 - val_acc: 0.9130\n",
      "Epoch 11/15\n",
      "8222/8222 [==============================] - 0s - loss: 0.0887 - acc: 0.9785 - val_loss: 0.2734 - val_acc: 0.9115\n",
      "Epoch 12/15\n"
     ]
    },
    {
     "name": "stdout",
     "output_type": "stream",
     "text": [
      "8222/8222 [==============================] - 0s - loss: 0.0782 - acc: 0.9820 - val_loss: 0.2781 - val_acc: 0.9075\n",
      "Epoch 13/15\n",
      "8222/8222 [==============================] - 0s - loss: 0.0682 - acc: 0.9850 - val_loss: 0.2824 - val_acc: 0.9110\n",
      "Epoch 14/15\n",
      "8222/8222 [==============================] - 0s - loss: 0.0601 - acc: 0.9874 - val_loss: 0.2887 - val_acc: 0.9070\n",
      "Epoch 15/15\n",
      "8222/8222 [==============================] - 0s - loss: 0.0538 - acc: 0.9886 - val_loss: 0.2796 - val_acc: 0.9140\n",
      " 9472/10357 [==========================>...] - ETA: 0sFound 8222 images belonging to 120 classes.\n",
      "514/514 [==============================] - 125s   \n",
      "Found 8222 images belonging to 120 classes.\n",
      "514/514 [==============================] - 112s   \n",
      "Train on 8222 samples, validate on 2000 samples\n",
      "Epoch 1/15\n",
      "8222/8222 [==============================] - 0s - loss: 2.0829 - acc: 0.6546 - val_loss: 0.7996 - val_acc: 0.8630\n",
      "Epoch 2/15\n",
      "8222/8222 [==============================] - 0s - loss: 0.5855 - acc: 0.8905 - val_loss: 0.4512 - val_acc: 0.8990\n",
      "Epoch 3/15\n",
      "8222/8222 [==============================] - 0s - loss: 0.3701 - acc: 0.9146 - val_loss: 0.3611 - val_acc: 0.9045\n",
      "Epoch 4/15\n",
      "8222/8222 [==============================] - 0s - loss: 0.2839 - acc: 0.9291 - val_loss: 0.3291 - val_acc: 0.9005\n",
      "Epoch 5/15\n",
      "8222/8222 [==============================] - 0s - loss: 0.2257 - acc: 0.9414 - val_loss: 0.3010 - val_acc: 0.9100\n",
      "Epoch 6/15\n",
      "8222/8222 [==============================] - 0s - loss: 0.1916 - acc: 0.9489 - val_loss: 0.2897 - val_acc: 0.9060\n",
      "Epoch 7/15\n",
      "8222/8222 [==============================] - 0s - loss: 0.1605 - acc: 0.9561 - val_loss: 0.2862 - val_acc: 0.9100\n",
      "Epoch 8/15\n",
      "8222/8222 [==============================] - 0s - loss: 0.1351 - acc: 0.9642 - val_loss: 0.2808 - val_acc: 0.9135\n",
      "Epoch 9/15\n",
      "8222/8222 [==============================] - 0s - loss: 0.1175 - acc: 0.9712 - val_loss: 0.2891 - val_acc: 0.8995\n",
      "Epoch 10/15\n",
      "8222/8222 [==============================] - 0s - loss: 0.1024 - acc: 0.9756 - val_loss: 0.2864 - val_acc: 0.9055\n",
      "Epoch 11/15\n",
      "8222/8222 [==============================] - 0s - loss: 0.0872 - acc: 0.9807 - val_loss: 0.2774 - val_acc: 0.9040\n",
      "Epoch 12/15\n",
      "8222/8222 [==============================] - 0s - loss: 0.0759 - acc: 0.9827 - val_loss: 0.2828 - val_acc: 0.9060\n",
      "Epoch 13/15\n",
      "8222/8222 [==============================] - 0s - loss: 0.0675 - acc: 0.9861 - val_loss: 0.2866 - val_acc: 0.9090\n",
      "Epoch 14/15\n",
      "8222/8222 [==============================] - 0s - loss: 0.0604 - acc: 0.9874 - val_loss: 0.2835 - val_acc: 0.9125\n",
      "Epoch 15/15\n",
      "8222/8222 [==============================] - 0s - loss: 0.0524 - acc: 0.9893 - val_loss: 0.2799 - val_acc: 0.9115\n",
      " 9408/10357 [==========================>...] - ETA: 0s"
     ]
    }
   ],
   "source": [
    "preds = []\n",
    "nb_runs = 5\n",
    "for i in range(nb_runs):\n",
    "    print(\"i:\", i)\n",
    "    batches = gen.flow_from_directory(data_dir+'/train', target_size=target_size, batch_size=batch_size, shuffle=False)\n",
    "    y = to_categorical(batches.classes)\n",
    "    bf_x = model_x.predict_generator(batches, steps=nb_batches, verbose=1)\n",
    "    \n",
    "    batches = gen.flow_from_directory(data_dir+'/train', target_size=target_size, batch_size=batch_size, shuffle=False)\n",
    "    bf_i = model_i.predict_generator(batches, steps=nb_batches, verbose=1)\n",
    "    \n",
    "    lm = Sequential([Dense(120, activation='softmax', input_shape=(2048+2048,))])\n",
    "    lm.compile(optimizer=RMSprop(), loss='categorical_crossentropy', metrics=['accuracy'])\n",
    "    lm.fit(np.hstack([bf_x, bf_i]), y, epochs=15, batch_size=nb_batches, \n",
    "           validation_data=(np.hstack([bf_val_x, bf_val_i]), y_val))\n",
    "    \n",
    "    pred = lm.predict(np.hstack([bf_x_test, bf_i_test]), batch_size=batch_size, verbose=1)\n",
    "    preds.append(pred)"
   ]
  },
  {
   "cell_type": "code",
   "execution_count": 32,
   "metadata": {
    "collapsed": true
   },
   "outputs": [],
   "source": [
    "pred_ensemble = np.stack(preds).mean(axis=0)"
   ]
  },
  {
   "cell_type": "markdown",
   "metadata": {},
   "source": [
    "### predict"
   ]
  },
  {
   "cell_type": "code",
   "execution_count": 33,
   "metadata": {
    "collapsed": true
   },
   "outputs": [],
   "source": [
    "test_ids = [f.split('/')[1].split('.')[0] for f in batches_test.filenames]"
   ]
  },
  {
   "cell_type": "code",
   "execution_count": 34,
   "metadata": {
    "collapsed": true
   },
   "outputs": [],
   "source": [
    "subm=pd.DataFrame(np.hstack([np.array(test_ids).reshape(-1, 1), pred_ensemble]))\n",
    "labels = pd.read_csv(data_dir+'/labels.csv')\n",
    "cols = ['id']+sorted(labels.breed.unique())\n",
    "subm.columns = cols"
   ]
  },
  {
   "cell_type": "code",
   "execution_count": 35,
   "metadata": {
    "collapsed": true
   },
   "outputs": [],
   "source": [
    "description = 'xception_inception_ensemble_%d_data_aug' % nb_runs\n",
    "submission_file_name = data_dir+'/results/%s_%s.csv' % (description,\n",
    "                                                        datetime.datetime.now().strftime('%Y-%m-%d-%H-%M')\n",
    "                                                       )\n",
    "subm.to_csv(submission_file_name, index=False)"
   ]
  },
  {
   "cell_type": "markdown",
   "metadata": {},
   "source": [
    "### submit"
   ]
  },
  {
   "cell_type": "code",
   "execution_count": 36,
   "metadata": {
    "collapsed": true
   },
   "outputs": [],
   "source": [
    "!kg config -u $KAGGLE_USER -p $KAGGLE_PW -c $competition_name"
   ]
  },
  {
   "cell_type": "code",
   "execution_count": 37,
   "metadata": {
    "scrolled": true
   },
   "outputs": [
    {
     "name": "stdout",
     "output_type": "stream",
     "text": [
      "0.26989\r\n"
     ]
    }
   ],
   "source": [
    "!kg submit $submission_file_name -m $description"
   ]
  },
  {
   "cell_type": "code",
   "execution_count": null,
   "metadata": {
    "collapsed": true
   },
   "outputs": [],
   "source": []
  }
 ],
 "metadata": {
  "kernelspec": {
   "display_name": "Python 3",
   "language": "python",
   "name": "python3"
  },
  "language_info": {
   "codemirror_mode": {
    "name": "ipython",
    "version": 3
   },
   "file_extension": ".py",
   "mimetype": "text/x-python",
   "name": "python",
   "nbconvert_exporter": "python",
   "pygments_lexer": "ipython3",
   "version": "3.6.1"
  },
  "toc": {
   "nav_menu": {},
   "number_sections": true,
   "sideBar": true,
   "skip_h1_title": false,
   "toc_cell": false,
   "toc_position": {
    "height": "594px",
    "left": "0px",
    "right": "1064px",
    "top": "106px",
    "width": "165px"
   },
   "toc_section_display": "block",
   "toc_window_display": false
  }
 },
 "nbformat": 4,
 "nbformat_minor": 2
}
