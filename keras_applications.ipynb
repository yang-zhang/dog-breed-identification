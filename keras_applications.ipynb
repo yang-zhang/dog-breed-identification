{
 "cells": [
  {
   "cell_type": "code",
   "execution_count": 112,
   "metadata": {},
   "outputs": [],
   "source": [
    "import numpy as np\n",
    "import pandas as pd\n",
    "import math\n",
    "import datetime\n",
    "\n",
    "from keras.preprocessing import image\n",
    "from keras.utils import to_categorical\n",
    "from keras.models import Model, Sequential\n",
    "from keras.layers import Input, Lambda, Dense, Dropout\n",
    "from keras.applications import imagenet_utils\n",
    "from keras.applications.xception import Xception\n",
    "from keras.applications.inception_v3 import InceptionV3\n",
    "from keras.applications.vgg16 import VGG16\n",
    "from keras.applications.vgg19 import VGG19\n",
    "from keras.applications.resnet50 import ResNet50\n",
    "from keras.applications.inception_resnet_v2 import InceptionResNetV2\n",
    "from keras.applications.mobilenet import MobileNet\n",
    "\n",
    "from secrets import KAGGLE_USER, KAGGLE_PW"
   ]
  },
  {
   "cell_type": "code",
   "execution_count": 59,
   "metadata": {
    "collapsed": true
   },
   "outputs": [],
   "source": [
    "competition_name = 'dog-breed-identification'\n",
    "data_dir = '/opt/notebooks/data/' + competition_name + '/preprocessed'\n",
    "batch_size = 16\n",
    "nb_classes = 120"
   ]
  },
  {
   "cell_type": "code",
   "execution_count": 51,
   "metadata": {},
   "outputs": [],
   "source": [
    "def preprocess_input_xception(x):\n",
    "    return imagenet_utils.preprocess_input(x, mode='tf')\n",
    "\n",
    "def preprocess_input_vgg(x):\n",
    "    vgg_mean = np.array([103.939, 116.779, 123.68], dtype=np.float32).reshape((1,1,3))\n",
    "    x = x[..., ::-1]\n",
    "    # Zero-center by mean pixel\n",
    "    x = x - vgg_mean\n",
    "    return x\n",
    "\n",
    "def add_preprocess(base_model, preprocess_func, inputs_shape):\n",
    "    inputs = Input(shape=inputs_shape)\n",
    "    x = Lambda(preprocess_func)(inputs)\n",
    "    outputs = base_model(x)\n",
    "    model = Model(inputs, outputs)\n",
    "    return model\n",
    "\n",
    "def get_batch_data(data_dir, target_size):\n",
    "    \n",
    "    def get_batches(dir_, target_size=target_size):\n",
    "        gen=image.ImageDataGenerator()\n",
    "        return gen.flow_from_directory('%s/%s'% (data_dir, dir_), \n",
    "                                       shuffle=False, \n",
    "                                       target_size=target_size,\n",
    "                                       batch_size=batch_size)\n",
    "    batches     = get_batches('train')\n",
    "    batches_val = get_batches('valid')\n",
    "    batches_test = get_batches('test')\n",
    "    return batches, batches_val, batches_test\n",
    "\n",
    "def get_batch_nb(batches):\n",
    "    return math.ceil(batches.n/batch_size)"
   ]
  },
  {
   "cell_type": "code",
   "execution_count": 52,
   "metadata": {
    "collapsed": true
   },
   "outputs": [],
   "source": [
    "model_params = {'weights': 'imagenet', 'include_top': False, 'pooling': 'avg'}"
   ]
  },
  {
   "cell_type": "code",
   "execution_count": 53,
   "metadata": {},
   "outputs": [],
   "source": [
    "base_models = [\n",
    "    {'name': 'Xception', 'mdl': Xception, 'input_shape': (299, 299, 3), 'prep': preprocess_input_xception},\n",
    "    {'name': 'VGG16', 'mdl': VGG16, 'input_shape': (224, 224, 3), 'prep': preprocess_input_vgg},\n",
    "    {'name': 'VGG19', 'mdl': VGG19, 'input_shape': (224, 224, 3), 'prep': preprocess_input_vgg},\n",
    "    {'name': 'InceptionV3', 'mdl': InceptionV3, 'input_shape': (299, 299, 3), 'prep': preprocess_input_xception},\n",
    "    {'name': 'ResNet50', 'mdl': ResNet50, 'input_shape': (224, 224, 3), 'prep': preprocess_input_vgg},\n",
    "    {'name': 'InceptionResNetV2', 'mdl': InceptionResNetV2, 'input_shape': (299, 299, 3), 'prep': preprocess_input_xception},\n",
    "#     {'mdl': MobileNet, 'input_shape': (299, 299, 3), 'prep': preprocess_input_vgg},\n",
    "]"
   ]
  },
  {
   "cell_type": "markdown",
   "metadata": {},
   "source": [
    "### train"
   ]
  },
  {
   "cell_type": "code",
   "execution_count": null,
   "metadata": {
    "collapsed": true
   },
   "outputs": [],
   "source": [
    "preds = []\n",
    "\n",
    "for base_model in base_models:\n",
    "    print(base_model['name'])\n",
    "    base_model_preprocessed = add_preprocess(\n",
    "        base_model=base_model['mdl'](**model_params), \n",
    "        preprocess_func=base_model['prep'], \n",
    "        inputs_shape=base_model['input_shape'],\n",
    "    )\n",
    "\n",
    "    batches, batches_val, batches_test = \\\n",
    "        get_batch_data(data_dir, \n",
    "                       target_size=base_model['input_shape'][:2],)\n",
    "    nb_batches = get_batch_nb(batches)\n",
    "    nb_batches_val = get_batch_nb(batches_val) \n",
    "    nb_batches_test = get_batch_nb(batches_test)\n",
    "    \n",
    "    # get bottleneck features\n",
    "\n",
    "#     base_model_output = base_model_preprocessed.predict_generator(batches, \n",
    "#                                                                   steps=nb_batches, \n",
    "#                                                                   verbose=1)\n",
    "#     np.save(data_dir+'/results/base_model_output_{}'.format(base_model['name']), \n",
    "#             base_model_output)\n",
    "    base_model_output = np.load(data_dir+'/results/base_model_output_{}.npy'.format(base_model['name']))\n",
    "    \n",
    "#     base_model_output_val = base_model_preprocessed.predict_generator(batches_val, \n",
    "#                                                                       steps=nb_batches_val, \n",
    "#                                                                       verbose=1)\n",
    "#     np.save(data_dir+'/results/base_model_output_val_{}'.format(base_model['name']), \n",
    "#             base_model_output_val)\n",
    "    base_model_output_val = np.load(data_dir+'/results/base_model_output_val_{}.npy'.format(base_model['name']))\n",
    "\n",
    "#     base_model_output_test = base_model_preprocessed.predict_generator(batches_test, \n",
    "#                                                                       steps=nb_batches_test, \n",
    "#                                                                       verbose=1)\n",
    "#     np.save(data_dir+'/results/base_model_output_test_{}'.format(base_model['name']), \n",
    "#             base_model_output_test)\n",
    "    base_model_output_test = np.load(data_dir+'/results/base_model_output_test_{}.npy'.format(base_model['name']))\n",
    "\n",
    "    # fully connected model\n",
    "    fc_model = Sequential([\n",
    "        Dense(1024,\n",
    "              activation='relu',\n",
    "              input_shape=(base_model_output.shape[1],)),\n",
    "        Dropout(0.5),\n",
    "        Dense(nb_classes, \n",
    "              activation='softmax',)\n",
    "    ])\n",
    "    fc_model.compile(optimizer='rmsprop',\n",
    "               loss='categorical_crossentropy', \n",
    "               metrics=['accuracy'])\n",
    "\n",
    "    y = to_categorical(batches.classes)\n",
    "    y_val = to_categorical(batches_val.classes)\n",
    "    fc_model.fit(base_model_output,\n",
    "           y, \n",
    "           epochs=15,\n",
    "           batch_size=nb_batches,\n",
    "           validation_data=(base_model_output_val, y_val))\n",
    "\n",
    "    pred = fc_model.predict(base_model_output_test, batch_size=batch_size, verbose=1)\n",
    "\n",
    "    preds.append(pred)"
   ]
  },
  {
   "cell_type": "code",
   "execution_count": 114,
   "metadata": {
    "scrolled": true
   },
   "outputs": [],
   "source": [
    "pred_ensemble = np.stack(preds).mean(axis=0)"
   ]
  },
  {
   "cell_type": "code",
   "execution_count": 120,
   "metadata": {
    "collapsed": true
   },
   "outputs": [],
   "source": [
    "# pred_ensemble = np.stack(np.array(preds)[[0,3,5]]).mean(axis=0)"
   ]
  },
  {
   "cell_type": "markdown",
   "metadata": {},
   "source": [
    "### predict"
   ]
  },
  {
   "cell_type": "code",
   "execution_count": 121,
   "metadata": {
    "collapsed": true
   },
   "outputs": [],
   "source": [
    "test_ids = [f.split('/')[1].split('.')[0] for f in batches_test.filenames]"
   ]
  },
  {
   "cell_type": "code",
   "execution_count": 122,
   "metadata": {},
   "outputs": [],
   "source": [
    "subm=pd.DataFrame(np.hstack([np.array(test_ids).reshape(-1, 1), pred_ensemble]))\n",
    "labels = pd.read_csv(data_dir+'/labels.csv')\n",
    "cols = ['id']+sorted(labels.breed.unique())\n",
    "subm.columns = cols"
   ]
  },
  {
   "cell_type": "code",
   "execution_count": 123,
   "metadata": {},
   "outputs": [],
   "source": [
    "description = \n",
    "submission_file_name = data_dir+'/results/%s_%s.csv' % (description,\n",
    "                                                        datetime.datetime.now().strftime('%Y-%m-%d-%H-%M')\n",
    "                                                       )\n",
    "subm.to_csv(submission_file_name, index=False)"
   ]
  },
  {
   "cell_type": "markdown",
   "metadata": {},
   "source": [
    "### submit"
   ]
  },
  {
   "cell_type": "code",
   "execution_count": 124,
   "metadata": {
    "collapsed": true
   },
   "outputs": [],
   "source": [
    "!kg config -u $KAGGLE_USER -p $KAGGLE_PW -c $competition_name"
   ]
  },
  {
   "cell_type": "code",
   "execution_count": 125,
   "metadata": {
    "scrolled": false
   },
   "outputs": [
    {
     "name": "stdout",
     "output_type": "stream",
     "text": [
      "list indices must be integers or slices, not str\r\n"
     ]
    }
   ],
   "source": [
    "!kg submit $submission_file_name -m $description"
   ]
  },
  {
   "cell_type": "code",
   "execution_count": null,
   "metadata": {
    "collapsed": true
   },
   "outputs": [],
   "source": []
  },
  {
   "cell_type": "code",
   "execution_count": null,
   "metadata": {
    "collapsed": true
   },
   "outputs": [],
   "source": []
  }
 ],
 "metadata": {
  "kernelspec": {
   "display_name": "Python 3",
   "language": "python",
   "name": "python3"
  },
  "language_info": {
   "codemirror_mode": {
    "name": "ipython",
    "version": 3
   },
   "file_extension": ".py",
   "mimetype": "text/x-python",
   "name": "python",
   "nbconvert_exporter": "python",
   "pygments_lexer": "ipython3",
   "version": "3.6.1"
  },
  "toc": {
   "nav_menu": {},
   "number_sections": true,
   "sideBar": true,
   "skip_h1_title": false,
   "toc_cell": false,
   "toc_position": {},
   "toc_section_display": "block",
   "toc_window_display": false
  }
 },
 "nbformat": 4,
 "nbformat_minor": 2
}
