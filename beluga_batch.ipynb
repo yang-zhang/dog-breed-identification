{
 "cells": [
  {
   "cell_type": "code",
   "execution_count": 46,
   "metadata": {},
   "outputs": [],
   "source": [
    "%matplotlib inline\n",
    "import pandas as pd\n",
    "import numpy as np\n",
    "import math\n",
    "import matplotlib.pyplot as plt\n",
    "import matplotlib.image as mpimg\n",
    "\n",
    "from IPython import display\n",
    "from IPython.display import Image\n",
    "\n",
    "from os import listdir\n",
    "from datetime import datetime\n",
    "\n",
    "from keras.preprocessing import image\n",
    "\n",
    "from keras.applications import xception\n",
    "from keras.applications import inception_v3\n",
    "from keras.utils.np_utils import to_categorical\n",
    "\n",
    "from sklearn.linear_model import LogisticRegression\n",
    "from sklearn.metrics import log_loss, accuracy_score\n",
    "from sklearn.preprocessing import LabelEncoder\n",
    "\n",
    "from secrets import KAGGLE_USER, KAGGLE_PW"
   ]
  },
  {
   "cell_type": "markdown",
   "metadata": {},
   "source": [
    "### Get batches"
   ]
  },
  {
   "cell_type": "code",
   "execution_count": 2,
   "metadata": {
    "collapsed": true
   },
   "outputs": [],
   "source": [
    "seed = 2014\n",
    "batch_size = 32"
   ]
  },
  {
   "cell_type": "code",
   "execution_count": 3,
   "metadata": {
    "collapsed": true
   },
   "outputs": [],
   "source": [
    "competition_name = 'dog-breed-identification'\n",
    "data_dir = '/opt/notebooks/data/' + competition_name + '/preprocessed'"
   ]
  },
  {
   "cell_type": "code",
   "execution_count": 4,
   "metadata": {
    "collapsed": true
   },
   "outputs": [],
   "source": [
    "gen = image.ImageDataGenerator()"
   ]
  },
  {
   "cell_type": "code",
   "execution_count": 5,
   "metadata": {
    "scrolled": false
   },
   "outputs": [
    {
     "name": "stdout",
     "output_type": "stream",
     "text": [
      "Found 8222 images belonging to 120 classes.\n",
      "Found 2000 images belonging to 120 classes.\n"
     ]
    }
   ],
   "source": [
    "batches = gen.flow_from_directory(data_dir+'/train', target_size=(299, 299), shuffle=False, batch_size=batch_size)\n",
    "batches_val = gen.flow_from_directory(data_dir+'/valid', target_size=(299, 299), shuffle=False, batch_size=batch_size)"
   ]
  },
  {
   "cell_type": "code",
   "execution_count": 12,
   "metadata": {
    "collapsed": true
   },
   "outputs": [],
   "source": [
    "y_encode = batches.classes\n",
    "y_val_encode = batches_val.classes"
   ]
  },
  {
   "cell_type": "code",
   "execution_count": 6,
   "metadata": {
    "collapsed": true
   },
   "outputs": [],
   "source": [
    "def preprocess_batches(batches):\n",
    "    while True:\n",
    "        try:\n",
    "            batch = batches.next()\n",
    "            imgs = batch[0]\n",
    "            imgs = np.apply_along_axis(xception.preprocess_input, 0, imgs)\n",
    "            yield batch\n",
    "        except StopIteration:\n",
    "            break"
   ]
  },
  {
   "cell_type": "markdown",
   "metadata": {},
   "source": [
    "### Extract Xception bottleneck features"
   ]
  },
  {
   "cell_type": "code",
   "execution_count": 7,
   "metadata": {
    "collapsed": true
   },
   "outputs": [],
   "source": [
    "batches_preprocessed = preprocess_batches(batches)\n",
    "batches_val_preprocessed = preprocess_batches(batches_val)"
   ]
  },
  {
   "cell_type": "code",
   "execution_count": 8,
   "metadata": {
    "collapsed": true
   },
   "outputs": [],
   "source": [
    "xception_bottleneck = xception.Xception(weights='imagenet', include_top=False, pooling='avg')"
   ]
  },
  {
   "cell_type": "code",
   "execution_count": 9,
   "metadata": {
    "scrolled": false
   },
   "outputs": [
    {
     "name": "stdout",
     "output_type": "stream",
     "text": [
      "257/257 [==============================] - 898s   \n",
      "63/63 [==============================] - 219s   \n"
     ]
    }
   ],
   "source": [
    "nb_batches = math.ceil(batches.n/batch_size)\n",
    "bf_x = xception_bottleneck.predict_generator(batches_preprocessed, \n",
    "                                           steps=nb_batches,\n",
    "                                           verbose=1)\n",
    "\n",
    "nb_batches_val = math.ceil(batches_val.n/batch_size)\n",
    "bf_val_x = xception_bottleneck.predict_generator(batches_val_preprocessed, \n",
    "                                           steps=nb_batches_val,\n",
    "                                           verbose=1)"
   ]
  },
  {
   "cell_type": "markdown",
   "metadata": {},
   "source": [
    "### LogReg on Xception bottleneck features"
   ]
  },
  {
   "cell_type": "code",
   "execution_count": 13,
   "metadata": {
    "collapsed": true
   },
   "outputs": [],
   "source": [
    "logreg = LogisticRegression(multi_class='multinomial', solver='lbfgs', random_state=seed)\n",
    "logreg.fit(bf_x, y_encode)\n",
    "\n",
    "valid_probs = logreg.predict_proba(bf_val_x)\n",
    "valid_preds = logreg.predict(bf_val_x)"
   ]
  },
  {
   "cell_type": "code",
   "execution_count": 14,
   "metadata": {},
   "outputs": [
    {
     "data": {
      "text/plain": [
       "0.32573993342313973"
      ]
     },
     "execution_count": 14,
     "metadata": {},
     "output_type": "execute_result"
    }
   ],
   "source": [
    "log_loss(y_val_encode, valid_probs)"
   ]
  },
  {
   "cell_type": "code",
   "execution_count": 15,
   "metadata": {},
   "outputs": [
    {
     "data": {
      "text/plain": [
       "0.90400000000000003"
      ]
     },
     "execution_count": 15,
     "metadata": {},
     "output_type": "execute_result"
    }
   ],
   "source": [
    "accuracy_score(y_val_encode, valid_preds)"
   ]
  },
  {
   "cell_type": "markdown",
   "metadata": {},
   "source": [
    "### Extract Inception bottleneck features"
   ]
  },
  {
   "cell_type": "code",
   "execution_count": 27,
   "metadata": {},
   "outputs": [
    {
     "name": "stdout",
     "output_type": "stream",
     "text": [
      "Found 8222 images belonging to 120 classes.\n",
      "Found 2000 images belonging to 120 classes.\n"
     ]
    }
   ],
   "source": [
    "batches = gen.flow_from_directory(data_dir+'/train', target_size=(299, 299), shuffle=False)\n",
    "batches_val = gen.flow_from_directory(data_dir+'/valid', target_size=(299, 299), shuffle=False)\n",
    "batches_preprocessed = preprocess_batches(batches)\n",
    "batches_val_preprocessed = preprocess_batches(batches_val)"
   ]
  },
  {
   "cell_type": "code",
   "execution_count": null,
   "metadata": {
    "collapsed": true
   },
   "outputs": [],
   "source": [
    "inception_bottleneck = inception_v3.InceptionV3(weights='imagenet', include_top=False, pooling='avg')"
   ]
  },
  {
   "cell_type": "code",
   "execution_count": null,
   "metadata": {},
   "outputs": [
    {
     "name": "stdout",
     "output_type": "stream",
     "text": [
      "257/257 [==============================] - 809s   \n",
      "41/63 [==================>...........] - ETA: 80s  ETA:  - ETA: 16 - ETA:  - E - ETA:  - ETA - ETA: 1 - ETA: 8"
     ]
    }
   ],
   "source": [
    "bf_i = inception_bottleneck.predict_generator(batches_preprocessed, \n",
    "                                           steps=nb_batches,\n",
    "                                           verbose=1)\n",
    "bf_val_i = inception_bottleneck.predict_generator(batches_val_preprocessed, \n",
    "                                           steps=nb_batches_val,\n",
    "                                           verbose=1)"
   ]
  },
  {
   "cell_type": "markdown",
   "metadata": {},
   "source": [
    "### LogReg on Inception bottleneck features"
   ]
  },
  {
   "cell_type": "code",
   "execution_count": null,
   "metadata": {
    "collapsed": true
   },
   "outputs": [],
   "source": [
    "logreg = LogisticRegression(multi_class='multinomial', solver='lbfgs', random_state=seed)\n",
    "logreg.fit(bf_i, y_encode)"
   ]
  },
  {
   "cell_type": "code",
   "execution_count": null,
   "metadata": {
    "collapsed": true
   },
   "outputs": [],
   "source": [
    "valid_probs = logreg.predict_proba(bf_val_i)\n",
    "valid_preds = logreg.predict(bf_val_i)"
   ]
  },
  {
   "cell_type": "code",
   "execution_count": null,
   "metadata": {
    "collapsed": true,
    "scrolled": true
   },
   "outputs": [],
   "source": [
    "log_loss(y_val_encode, valid_probs)"
   ]
  },
  {
   "cell_type": "code",
   "execution_count": null,
   "metadata": {
    "collapsed": true
   },
   "outputs": [],
   "source": [
    "accuracy_score(y_val_encode, valid_preds)"
   ]
  },
  {
   "cell_type": "markdown",
   "metadata": {},
   "source": [
    "### LogReg on all bottleneck features"
   ]
  },
  {
   "cell_type": "code",
   "execution_count": 37,
   "metadata": {
    "collapsed": true
   },
   "outputs": [],
   "source": [
    "bf_x_val = bf_val"
   ]
  },
  {
   "cell_type": "code",
   "execution_count": 39,
   "metadata": {},
   "outputs": [],
   "source": [
    "X = np.hstack([bf_x, bf_i])\n",
    "V = np.hstack([bf_x_val, bf_val_i])\n",
    "logreg = LogisticRegression(multi_class='multinomial', solver='lbfgs', random_state=seed)\n",
    "logreg.fit(X, y_encode)\n",
    "valid_probs = logreg.predict_proba(V)\n",
    "valid_preds = logreg.predict(V)"
   ]
  },
  {
   "cell_type": "code",
   "execution_count": 40,
   "metadata": {
    "scrolled": false
   },
   "outputs": [
    {
     "data": {
      "text/plain": [
       "0.28644813821846266"
      ]
     },
     "execution_count": 40,
     "metadata": {},
     "output_type": "execute_result"
    }
   ],
   "source": [
    "log_loss(y_val_encode, valid_probs)"
   ]
  },
  {
   "cell_type": "markdown",
   "metadata": {},
   "source": [
    "### predict test data"
   ]
  },
  {
   "cell_type": "code",
   "execution_count": 220,
   "metadata": {
    "collapsed": true,
    "scrolled": false
   },
   "outputs": [],
   "source": [
    "test_ids = [file.split('.')[0] for file in listdir(data_dir+'/test/unknown')]"
   ]
  },
  {
   "cell_type": "code",
   "execution_count": 221,
   "metadata": {},
   "outputs": [
    {
     "name": "stdout",
     "output_type": "stream",
     "text": [
      "Found 10357 images belonging to 1 classes.\n"
     ]
    }
   ],
   "source": [
    "batches_test = gen.flow_from_directory(data_dir+'/test', target_size=(299, 299), \n",
    "                                       shuffle=False)"
   ]
  },
  {
   "cell_type": "code",
   "execution_count": 228,
   "metadata": {},
   "outputs": [
    {
     "data": {
      "text/plain": [
       "['88e129e775a1f3417785818f46bc7c2a',\n",
       " '4944813fa9c0c93048f6bac5b5cd3d49',\n",
       " '012ca7efe684c5cdfb83f35e8fbafe1b']"
      ]
     },
     "execution_count": 228,
     "metadata": {},
     "output_type": "execute_result"
    }
   ],
   "source": [
    "test_ids[:3]"
   ]
  },
  {
   "cell_type": "code",
   "execution_count": 230,
   "metadata": {},
   "outputs": [
    {
     "data": {
      "text/plain": [
       "['unknown/88e129e775a1f3417785818f46bc7c2a.jpg',\n",
       " 'unknown/4944813fa9c0c93048f6bac5b5cd3d49.jpg',\n",
       " 'unknown/012ca7efe684c5cdfb83f35e8fbafe1b.jpg']"
      ]
     },
     "execution_count": 230,
     "metadata": {},
     "output_type": "execute_result"
    }
   ],
   "source": [
    "batches_test.filenames[:3]"
   ]
  },
  {
   "cell_type": "code",
   "execution_count": 98,
   "metadata": {
    "collapsed": true
   },
   "outputs": [],
   "source": [
    "nb_batches_test = math.ceil(batches_test.n/batch_size)"
   ]
  },
  {
   "cell_type": "code",
   "execution_count": null,
   "metadata": {
    "collapsed": true
   },
   "outputs": [],
   "source": [
    "batches_test = gen.flow_from_directory(data_dir+'/test', target_size=(299, 299), \n",
    "                                       shuffle=False)\n",
    "batches_test_preprocessed = preprocess_batches(batches_test)\n",
    "\n",
    "bf_x_test = xception_bottleneck.predict_generator(batches_test_preprocessed, \n",
    "                                           steps=nb_batches_test,\n",
    "                                           verbose=1)"
   ]
  },
  {
   "cell_type": "code",
   "execution_count": null,
   "metadata": {
    "collapsed": true
   },
   "outputs": [],
   "source": [
    "batches_test = gen.flow_from_directory(data_dir+'/test', target_size=(299, 299), \n",
    "                                       shuffle=False)\n",
    "batches_test_preprocessed = preprocess_batches(batches_test)\n",
    "\n",
    "bf_i_test = inception_bottleneck.predict_generator(batches_test_preprocessed, \n",
    "                                           steps=nb_batches_test,\n",
    "                                           verbose=1)"
   ]
  },
  {
   "cell_type": "code",
   "execution_count": 174,
   "metadata": {
    "collapsed": true
   },
   "outputs": [],
   "source": [
    "X_test = np.hstack([bf_x_test, bf_i_test])\n",
    "test_probs = logreg.predict_proba(X_test)"
   ]
  },
  {
   "cell_type": "markdown",
   "metadata": {},
   "source": [
    "### Make test submission file"
   ]
  },
  {
   "cell_type": "code",
   "execution_count": 202,
   "metadata": {
    "collapsed": true,
    "scrolled": true
   },
   "outputs": [],
   "source": [
    "subm=pd.DataFrame(np.hstack([np.array(test_ids).reshape(-1, 1), test_probs]))"
   ]
  },
  {
   "cell_type": "code",
   "execution_count": 127,
   "metadata": {
    "collapsed": true
   },
   "outputs": [],
   "source": [
    "labels = pd.read_csv(data_dir+'/labels.csv')"
   ]
  },
  {
   "cell_type": "code",
   "execution_count": 128,
   "metadata": {
    "collapsed": true
   },
   "outputs": [],
   "source": [
    "cols = ['id']+sorted(labels.breed.unique())"
   ]
  },
  {
   "cell_type": "code",
   "execution_count": 129,
   "metadata": {
    "collapsed": true
   },
   "outputs": [],
   "source": [
    "subm.columns = cols\n",
    "description = 'beluga_batch'\n",
    "submission_file_name = data_dir+'/results/%s_%s.csv' % (description,\n",
    "                                                        datetime.now().strftime('%Y-%m-%d-%H-%M')\n",
    "                                                       )\n",
    "subm.to_csv(submission_file_name, index=False)"
   ]
  },
  {
   "cell_type": "markdown",
   "metadata": {},
   "source": [
    "### submit"
   ]
  },
  {
   "cell_type": "code",
   "execution_count": 216,
   "metadata": {
    "scrolled": true
   },
   "outputs": [
    {
     "name": "stdout",
     "output_type": "stream",
     "text": [
      "list index out of range\r\n"
     ]
    }
   ],
   "source": [
    "!kg config -g -u $KAGGLE_USER -p $KAGGLE_PW -c $competition_name\n",
    "!kg submit $submission_file_name -u $KAGGLE_USER -p $KAGGLE_PW -m $description"
   ]
  },
  {
   "cell_type": "markdown",
   "metadata": {},
   "source": [
    "Your submission scored 0.30091"
   ]
  }
 ],
 "metadata": {
  "kernelspec": {
   "display_name": "Python 3",
   "language": "python",
   "name": "python3"
  },
  "language_info": {
   "codemirror_mode": {
    "name": "ipython",
    "version": 3
   },
   "file_extension": ".py",
   "mimetype": "text/x-python",
   "name": "python",
   "nbconvert_exporter": "python",
   "pygments_lexer": "ipython3",
   "version": "3.6.1"
  },
  "toc": {
   "nav_menu": {},
   "number_sections": true,
   "sideBar": true,
   "skip_h1_title": false,
   "toc_cell": false,
   "toc_position": {
    "height": "518px",
    "left": "0px",
    "right": "1064px",
    "top": "107px",
    "width": "232px"
   },
   "toc_section_display": "block",
   "toc_window_display": false
  }
 },
 "nbformat": 4,
 "nbformat_minor": 2
}
