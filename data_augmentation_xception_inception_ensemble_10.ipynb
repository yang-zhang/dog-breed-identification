{
 "cells": [
  {
   "cell_type": "code",
   "execution_count": 1,
   "metadata": {},
   "outputs": [
    {
     "name": "stderr",
     "output_type": "stream",
     "text": [
      "Using TensorFlow backend.\n"
     ]
    }
   ],
   "source": [
    "import math\n",
    "import os\n",
    "import datetime\n",
    "\n",
    "import numpy as np\n",
    "import pandas as pd\n",
    "\n",
    "from keras.preprocessing import image\n",
    "from keras.layers import Input, Lambda, Dense, Dropout, Flatten\n",
    "from keras.models import Model, Sequential\n",
    "\n",
    "from keras.utils import to_categorical\n",
    "from keras.optimizers import RMSprop, Adam\n",
    "\n",
    "from keras.applications import xception, inception_v3\n",
    "\n",
    "from sklearn.linear_model import LogisticRegression\n",
    "from sklearn.metrics import log_loss, accuracy_score\n",
    "\n",
    "from secrets import KAGGLE_USER, KAGGLE_PW"
   ]
  },
  {
   "cell_type": "code",
   "execution_count": 2,
   "metadata": {
    "collapsed": true
   },
   "outputs": [],
   "source": [
    "competition_name = 'dog-breed-identification'\n",
    "data_dir = '/opt/notebooks/data/' + competition_name + '/preprocessed'\n",
    "\n",
    "batch_size = 16\n",
    "target_size=(299, 299)\n",
    "\n",
    "def add_preprocess(base_model, preprocess_func, inputs_shape=(299, 299, 3)):\n",
    "    inputs = Input(shape=inputs_shape)\n",
    "    x = Lambda(preprocess_func)(inputs)\n",
    "    outputs = base_model(x)\n",
    "    model = Model(inputs, outputs)\n",
    "    return model"
   ]
  },
  {
   "cell_type": "markdown",
   "metadata": {},
   "source": [
    "### train"
   ]
  },
  {
   "cell_type": "markdown",
   "metadata": {},
   "source": [
    "emsemble a few augmentation training data"
   ]
  },
  {
   "cell_type": "code",
   "execution_count": 3,
   "metadata": {
    "collapsed": true
   },
   "outputs": [],
   "source": [
    "base_model_x = xception.Xception(weights='imagenet', include_top=False, pooling='avg')\n",
    "model_x = add_preprocess(base_model_x, xception.preprocess_input)"
   ]
  },
  {
   "cell_type": "code",
   "execution_count": 4,
   "metadata": {
    "collapsed": true
   },
   "outputs": [],
   "source": [
    "base_model_i = inception_v3.InceptionV3(weights='imagenet', include_top=False, pooling='avg')\n",
    "model_i = add_preprocess(base_model_i, inception_v3.preprocess_input)"
   ]
  },
  {
   "cell_type": "code",
   "execution_count": 5,
   "metadata": {
    "scrolled": true
   },
   "outputs": [
    {
     "name": "stdout",
     "output_type": "stream",
     "text": [
      "Found 8222 images belonging to 120 classes.\n",
      "Found 2000 images belonging to 120 classes.\n",
      "Found 10357 images belonging to 1 classes.\n"
     ]
    }
   ],
   "source": [
    "batches = image.ImageDataGenerator().flow_from_directory(data_dir+'/train', shuffle=False, target_size=target_size, batch_size=batch_size)\n",
    "batches_val = image.ImageDataGenerator().flow_from_directory(data_dir+'/valid', shuffle=False, target_size=target_size, batch_size=batch_size)\n",
    "batches_test = image.ImageDataGenerator().flow_from_directory(data_dir+'/test', shuffle=False, target_size=target_size, batch_size=batch_size)\n",
    "\n",
    "nb_batches = math.ceil(batches.n/batch_size)\n",
    "nb_batches_val = math.ceil(batches_val.n/batch_size)\n",
    "nb_batches_test = math.ceil(batches_test.n/batch_size)\n",
    "\n",
    "y_encode = batches.classes\n",
    "y_val_encode = batches_val.classes\n",
    "\n",
    "y = to_categorical(batches.classes)\n",
    "y_val = to_categorical(batches_val.classes)"
   ]
  },
  {
   "cell_type": "code",
   "execution_count": 6,
   "metadata": {
    "collapsed": true
   },
   "outputs": [],
   "source": [
    "# bf_val_x = model_x.predict_generator(batches_val, steps=nb_batches_val, verbose=1)\n",
    "# np.save(data_dir+'/results/bf_val_x', bf_val_x)\n",
    "bf_val_x = np.load(data_dir+'/results/bf_val_x.npy')\n",
    "\n",
    "# bf_x_test = model_x.predict_generator(batches_test, steps=nb_batches_test, verbose=1)\n",
    "# np.save(data_dir+'/results/bf_x_test', bf_x_test)\n",
    "bf_x_test = np.load(data_dir+'/results/bf_x_test.npy')"
   ]
  },
  {
   "cell_type": "code",
   "execution_count": 18,
   "metadata": {
    "collapsed": true
   },
   "outputs": [],
   "source": [
    "# bf_val_i = model_i.predict_generator(batches_val, steps=nb_batches_val, verbose=1)\n",
    "# np.save(data_dir+'/results/bf_val_i', bf_val_i)\n",
    "bf_val_i = np.load(data_dir+'/results/bf_val_i.npy')\n",
    "\n",
    "# bf_i_test = model_i.predict_generator(batches_test, steps=nb_batches_test, verbose=1)\n",
    "# np.save(data_dir+'/results/bf_i_test', bf_i_test)\n",
    "bf_i_test = np.load(data_dir+'/results/bf_i_test.npy')"
   ]
  },
  {
   "cell_type": "code",
   "execution_count": 8,
   "metadata": {
    "collapsed": true
   },
   "outputs": [],
   "source": [
    "gen = image.ImageDataGenerator(rotation_range=10,\n",
    "                               width_shift_range=0.1,\n",
    "                               shear_range=0.15, \n",
    "                               zoom_range=0.1, \n",
    "                               channel_shift_range=10., \n",
    "                               horizontal_flip=True)"
   ]
  },
  {
   "cell_type": "code",
   "execution_count": 38,
   "metadata": {
    "scrolled": false
   },
   "outputs": [
    {
     "name": "stdout",
     "output_type": "stream",
     "text": [
      "i: 0\n",
      "Found 8222 images belonging to 120 classes.\n",
      "514/514 [==============================] - 125s   \n",
      "Found 8222 images belonging to 120 classes.\n",
      "514/514 [==============================] - 112s   \n",
      "Train on 8222 samples, validate on 2000 samples\n",
      "Epoch 1/15\n",
      "8222/8222 [==============================] - 0s - loss: 2.0585 - acc: 0.6653 - val_loss: 0.7755 - val_acc: 0.8900\n",
      "Epoch 2/15\n",
      "8222/8222 [==============================] - 0s - loss: 0.5829 - acc: 0.8909 - val_loss: 0.4558 - val_acc: 0.8950\n",
      "Epoch 3/15\n",
      "8222/8222 [==============================] - 0s - loss: 0.3792 - acc: 0.9068 - val_loss: 0.3628 - val_acc: 0.8960\n",
      "Epoch 4/15\n",
      "8222/8222 [==============================] - 0s - loss: 0.2868 - acc: 0.9284 - val_loss: 0.3211 - val_acc: 0.9055\n",
      "Epoch 5/15\n",
      "8222/8222 [==============================] - 0s - loss: 0.2333 - acc: 0.9374 - val_loss: 0.3111 - val_acc: 0.8975\n",
      "Epoch 6/15\n",
      "8222/8222 [==============================] - 0s - loss: 0.1939 - acc: 0.9462 - val_loss: 0.3134 - val_acc: 0.8990\n",
      "Epoch 7/15\n",
      "8222/8222 [==============================] - 0s - loss: 0.1637 - acc: 0.9580 - val_loss: 0.2872 - val_acc: 0.9165\n",
      "Epoch 8/15\n",
      "8222/8222 [==============================] - 0s - loss: 0.1418 - acc: 0.9591 - val_loss: 0.2814 - val_acc: 0.9110\n",
      "Epoch 9/15\n",
      "8222/8222 [==============================] - 0s - loss: 0.1220 - acc: 0.9676 - val_loss: 0.2757 - val_acc: 0.9145\n",
      "Epoch 10/15\n",
      "8222/8222 [==============================] - 0s - loss: 0.1034 - acc: 0.9732 - val_loss: 0.2911 - val_acc: 0.8995\n",
      "Epoch 11/15\n",
      "8222/8222 [==============================] - 0s - loss: 0.0914 - acc: 0.9786 - val_loss: 0.2934 - val_acc: 0.9035\n",
      "Epoch 12/15\n",
      "8222/8222 [==============================] - 0s - loss: 0.0788 - acc: 0.9827 - val_loss: 0.2885 - val_acc: 0.9055\n",
      "Epoch 13/15\n",
      "8222/8222 [==============================] - 0s - loss: 0.0709 - acc: 0.9842 - val_loss: 0.2887 - val_acc: 0.9035\n",
      "Epoch 14/15\n",
      "8222/8222 [==============================] - 0s - loss: 0.0615 - acc: 0.9865 - val_loss: 0.2868 - val_acc: 0.9035\n",
      "Epoch 15/15\n",
      "8222/8222 [==============================] - 0s - loss: 0.0551 - acc: 0.9893 - val_loss: 0.3008 - val_acc: 0.9040\n",
      " 9840/10357 [===========================>..] - ETA: 0si: 1\n",
      "Found 8222 images belonging to 120 classes.\n",
      "514/514 [==============================] - 125s   \n",
      "Found 8222 images belonging to 120 classes.\n",
      "514/514 [==============================] - 112s   \n",
      "Train on 8222 samples, validate on 2000 samples\n",
      "Epoch 1/15\n",
      "8222/8222 [==============================] - 0s - loss: 2.0532 - acc: 0.6658 - val_loss: 0.7713 - val_acc: 0.8760\n",
      "Epoch 2/15\n",
      "8222/8222 [==============================] - 0s - loss: 0.5818 - acc: 0.8887 - val_loss: 0.4441 - val_acc: 0.9025\n",
      "Epoch 3/15\n",
      "8222/8222 [==============================] - 0s - loss: 0.3778 - acc: 0.9096 - val_loss: 0.3631 - val_acc: 0.9005\n",
      "Epoch 4/15\n",
      "8222/8222 [==============================] - 0s - loss: 0.2886 - acc: 0.9257 - val_loss: 0.3264 - val_acc: 0.9065\n",
      "Epoch 5/15\n",
      "8222/8222 [==============================] - 0s - loss: 0.2302 - acc: 0.9380 - val_loss: 0.3008 - val_acc: 0.9120\n",
      "Epoch 6/15\n",
      "8222/8222 [==============================] - 0s - loss: 0.1941 - acc: 0.9482 - val_loss: 0.2985 - val_acc: 0.9070\n",
      "Epoch 7/15\n",
      "8222/8222 [==============================] - 0s - loss: 0.1631 - acc: 0.9555 - val_loss: 0.2854 - val_acc: 0.9105\n",
      "Epoch 8/15\n",
      "8222/8222 [==============================] - 0s - loss: 0.1370 - acc: 0.9644 - val_loss: 0.2957 - val_acc: 0.9035\n",
      "Epoch 9/15\n",
      "8222/8222 [==============================] - 0s - loss: 0.1184 - acc: 0.9707 - val_loss: 0.2920 - val_acc: 0.9075\n",
      "Epoch 10/15\n",
      "8222/8222 [==============================] - 0s - loss: 0.1028 - acc: 0.9740 - val_loss: 0.2839 - val_acc: 0.9095\n",
      "Epoch 11/15\n",
      "8222/8222 [==============================] - 0s - loss: 0.0888 - acc: 0.9791 - val_loss: 0.2773 - val_acc: 0.9155\n",
      "Epoch 12/15\n",
      "8222/8222 [==============================] - 0s - loss: 0.0775 - acc: 0.9830 - val_loss: 0.2925 - val_acc: 0.9010\n",
      "Epoch 13/15\n",
      "8222/8222 [==============================] - 0s - loss: 0.0683 - acc: 0.9859 - val_loss: 0.2804 - val_acc: 0.9120\n",
      "Epoch 14/15\n",
      "8222/8222 [==============================] - 0s - loss: 0.0601 - acc: 0.9872 - val_loss: 0.3021 - val_acc: 0.9000\n",
      "Epoch 15/15\n",
      "8222/8222 [==============================] - 0s - loss: 0.0527 - acc: 0.9903 - val_loss: 0.2837 - val_acc: 0.9100\n",
      " 9616/10357 [==========================>...] - ETA: 0si: 2\n",
      "Found 8222 images belonging to 120 classes.\n",
      "514/514 [==============================] - 125s   \n",
      "Found 8222 images belonging to 120 classes.\n",
      "514/514 [==============================] - 112s   \n",
      "Train on 8222 samples, validate on 2000 samples\n",
      "Epoch 1/15\n",
      "8222/8222 [==============================] - 0s - loss: 2.1163 - acc: 0.6473 - val_loss: 0.8046 - val_acc: 0.8810\n",
      "Epoch 2/15\n",
      "8222/8222 [==============================] - 0s - loss: 0.5969 - acc: 0.8875 - val_loss: 0.4511 - val_acc: 0.8995\n",
      "Epoch 3/15\n",
      "8222/8222 [==============================] - 0s - loss: 0.3806 - acc: 0.9128 - val_loss: 0.3573 - val_acc: 0.9055\n",
      "Epoch 4/15\n",
      "8222/8222 [==============================] - 0s - loss: 0.2950 - acc: 0.9206 - val_loss: 0.3175 - val_acc: 0.9050\n",
      "Epoch 5/15\n",
      "8222/8222 [==============================] - 0s - loss: 0.2326 - acc: 0.9392 - val_loss: 0.3034 - val_acc: 0.9115\n",
      "Epoch 6/15\n",
      "8222/8222 [==============================] - 0s - loss: 0.1936 - acc: 0.9476 - val_loss: 0.2989 - val_acc: 0.9145\n",
      "Epoch 7/15\n",
      "8222/8222 [==============================] - 0s - loss: 0.1665 - acc: 0.9523 - val_loss: 0.2883 - val_acc: 0.9070\n",
      "Epoch 8/15\n",
      "8222/8222 [==============================] - 0s - loss: 0.1409 - acc: 0.9644 - val_loss: 0.2813 - val_acc: 0.9110\n",
      "Epoch 9/15\n",
      "8222/8222 [==============================] - 0s - loss: 0.1225 - acc: 0.9679 - val_loss: 0.2834 - val_acc: 0.9105\n",
      "Epoch 10/15\n",
      "8222/8222 [==============================] - 0s - loss: 0.1070 - acc: 0.9748 - val_loss: 0.2766 - val_acc: 0.9045\n",
      "Epoch 11/15\n",
      "8222/8222 [==============================] - 0s - loss: 0.0941 - acc: 0.9771 - val_loss: 0.2789 - val_acc: 0.9145\n",
      "Epoch 12/15\n",
      "8222/8222 [==============================] - 0s - loss: 0.0820 - acc: 0.9810 - val_loss: 0.2800 - val_acc: 0.9075\n",
      "Epoch 13/15\n",
      "8222/8222 [==============================] - 0s - loss: 0.0717 - acc: 0.9860 - val_loss: 0.2751 - val_acc: 0.9110\n",
      "Epoch 14/15\n",
      "8222/8222 [==============================] - 0s - loss: 0.0640 - acc: 0.9865 - val_loss: 0.2824 - val_acc: 0.9090\n",
      "Epoch 15/15\n",
      "8222/8222 [==============================] - 0s - loss: 0.0574 - acc: 0.9884 - val_loss: 0.2877 - val_acc: 0.9065\n",
      " 9760/10357 [===========================>..] - ETA: 0si: 3\n",
      "Found 8222 images belonging to 120 classes.\n",
      "514/514 [==============================] - 125s   \n",
      "Found 8222 images belonging to 120 classes.\n",
      "514/514 [==============================] - 112s   \n",
      "Train on 8222 samples, validate on 2000 samples\n",
      "Epoch 1/15\n",
      "8222/8222 [==============================] - 0s - loss: 2.0747 - acc: 0.6587 - val_loss: 0.7701 - val_acc: 0.8815\n",
      "Epoch 2/15\n",
      "8222/8222 [==============================] - 0s - loss: 0.5862 - acc: 0.8873 - val_loss: 0.4548 - val_acc: 0.8960\n",
      "Epoch 3/15\n",
      "8222/8222 [==============================] - 0s - loss: 0.3715 - acc: 0.9141 - val_loss: 0.3590 - val_acc: 0.9040\n",
      "Epoch 4/15\n",
      "8222/8222 [==============================] - 0s - loss: 0.2878 - acc: 0.9243 - val_loss: 0.3333 - val_acc: 0.8990\n",
      "Epoch 5/15\n",
      "8222/8222 [==============================] - 0s - loss: 0.2329 - acc: 0.9370 - val_loss: 0.3122 - val_acc: 0.9025\n",
      "Epoch 6/15\n",
      "8222/8222 [==============================] - 0s - loss: 0.1925 - acc: 0.9417 - val_loss: 0.2893 - val_acc: 0.9110\n",
      "Epoch 7/15\n",
      "8222/8222 [==============================] - 0s - loss: 0.1645 - acc: 0.9568 - val_loss: 0.2829 - val_acc: 0.9070\n",
      "Epoch 8/15\n",
      "8222/8222 [==============================] - 0s - loss: 0.1384 - acc: 0.9636 - val_loss: 0.2889 - val_acc: 0.9085\n",
      "Epoch 9/15\n",
      "8222/8222 [==============================] - 0s - loss: 0.1223 - acc: 0.9673 - val_loss: 0.2806 - val_acc: 0.9050\n",
      "Epoch 10/15\n",
      "8222/8222 [==============================] - 0s - loss: 0.1038 - acc: 0.9748 - val_loss: 0.2853 - val_acc: 0.9005\n",
      "Epoch 11/15\n",
      "8222/8222 [==============================] - 0s - loss: 0.0912 - acc: 0.9777 - val_loss: 0.2888 - val_acc: 0.9045\n",
      "Epoch 12/15\n"
     ]
    },
    {
     "name": "stdout",
     "output_type": "stream",
     "text": [
      "8222/8222 [==============================] - 0s - loss: 0.0807 - acc: 0.9814 - val_loss: 0.2813 - val_acc: 0.9090\n",
      "Epoch 13/15\n",
      "8222/8222 [==============================] - 0s - loss: 0.0690 - acc: 0.9860 - val_loss: 0.2894 - val_acc: 0.9015\n",
      "Epoch 14/15\n",
      "8222/8222 [==============================] - 0s - loss: 0.0615 - acc: 0.9872 - val_loss: 0.2810 - val_acc: 0.9095\n",
      "Epoch 15/15\n",
      "8222/8222 [==============================] - 0s - loss: 0.0558 - acc: 0.9893 - val_loss: 0.2859 - val_acc: 0.9105\n",
      " 9792/10357 [===========================>..] - ETA: 0si: 4\n",
      "Found 8222 images belonging to 120 classes.\n",
      "514/514 [==============================] - 125s   \n",
      "Found 8222 images belonging to 120 classes.\n",
      "514/514 [==============================] - 112s   \n",
      "Train on 8222 samples, validate on 2000 samples\n",
      "Epoch 1/15\n",
      "8222/8222 [==============================] - 0s - loss: 2.0903 - acc: 0.6486 - val_loss: 0.7948 - val_acc: 0.8775\n",
      "Epoch 2/15\n",
      "8222/8222 [==============================] - 0s - loss: 0.5960 - acc: 0.8862 - val_loss: 0.4514 - val_acc: 0.9015\n",
      "Epoch 3/15\n",
      "8222/8222 [==============================] - 0s - loss: 0.3829 - acc: 0.9108 - val_loss: 0.3747 - val_acc: 0.9005\n",
      "Epoch 4/15\n",
      "8222/8222 [==============================] - 0s - loss: 0.2919 - acc: 0.9231 - val_loss: 0.3234 - val_acc: 0.9100\n",
      "Epoch 5/15\n",
      "8222/8222 [==============================] - 0s - loss: 0.2358 - acc: 0.9343 - val_loss: 0.3105 - val_acc: 0.9050\n",
      "Epoch 6/15\n",
      "8222/8222 [==============================] - 0s - loss: 0.1961 - acc: 0.9459 - val_loss: 0.2996 - val_acc: 0.9005\n",
      "Epoch 7/15\n",
      "8222/8222 [==============================] - 0s - loss: 0.1635 - acc: 0.9563 - val_loss: 0.2970 - val_acc: 0.9050\n",
      "Epoch 8/15\n",
      "8222/8222 [==============================] - 0s - loss: 0.1381 - acc: 0.9646 - val_loss: 0.2849 - val_acc: 0.9130\n",
      "Epoch 9/15\n",
      "8222/8222 [==============================] - 0s - loss: 0.1213 - acc: 0.9678 - val_loss: 0.2890 - val_acc: 0.9100\n",
      "Epoch 10/15\n",
      "8222/8222 [==============================] - 0s - loss: 0.1053 - acc: 0.9747 - val_loss: 0.2801 - val_acc: 0.9070\n",
      "Epoch 11/15\n",
      "8222/8222 [==============================] - 0s - loss: 0.0897 - acc: 0.9796 - val_loss: 0.2874 - val_acc: 0.9105\n",
      "Epoch 12/15\n",
      "8222/8222 [==============================] - 0s - loss: 0.0811 - acc: 0.9820 - val_loss: 0.2901 - val_acc: 0.9055\n",
      "Epoch 13/15\n",
      "8222/8222 [==============================] - 0s - loss: 0.0696 - acc: 0.9844 - val_loss: 0.2917 - val_acc: 0.9065\n",
      "Epoch 14/15\n",
      "8222/8222 [==============================] - 0s - loss: 0.0626 - acc: 0.9865 - val_loss: 0.2879 - val_acc: 0.9100\n",
      "Epoch 15/15\n",
      "8222/8222 [==============================] - 0s - loss: 0.0538 - acc: 0.9903 - val_loss: 0.2879 - val_acc: 0.9005\n",
      "10112/10357 [============================>.] - ETA: 0si: 5\n",
      "Found 8222 images belonging to 120 classes.\n",
      "514/514 [==============================] - 125s   \n",
      "Found 8222 images belonging to 120 classes.\n",
      "514/514 [==============================] - 113s   \n",
      "Train on 8222 samples, validate on 2000 samples\n",
      "Epoch 1/15\n",
      "8222/8222 [==============================] - 0s - loss: 2.0822 - acc: 0.6557 - val_loss: 0.7826 - val_acc: 0.8795\n",
      "Epoch 2/15\n",
      "8222/8222 [==============================] - 0s - loss: 0.5855 - acc: 0.8898 - val_loss: 0.4447 - val_acc: 0.9020\n",
      "Epoch 3/15\n",
      "8222/8222 [==============================] - 0s - loss: 0.3752 - acc: 0.9066 - val_loss: 0.3557 - val_acc: 0.9040\n",
      "Epoch 4/15\n",
      "8222/8222 [==============================] - 0s - loss: 0.2850 - acc: 0.9240 - val_loss: 0.3254 - val_acc: 0.9025\n",
      "Epoch 5/15\n",
      "8222/8222 [==============================] - 0s - loss: 0.2313 - acc: 0.9360 - val_loss: 0.3034 - val_acc: 0.9040\n",
      "Epoch 6/15\n",
      "8222/8222 [==============================] - 0s - loss: 0.1911 - acc: 0.9486 - val_loss: 0.2866 - val_acc: 0.9135\n",
      "Epoch 7/15\n",
      "8222/8222 [==============================] - 0s - loss: 0.1638 - acc: 0.9556 - val_loss: 0.2871 - val_acc: 0.9070\n",
      "Epoch 8/15\n",
      "8222/8222 [==============================] - 0s - loss: 0.1374 - acc: 0.9655 - val_loss: 0.2756 - val_acc: 0.9060\n",
      "Epoch 9/15\n",
      "8222/8222 [==============================] - 0s - loss: 0.1183 - acc: 0.9698 - val_loss: 0.2857 - val_acc: 0.9065\n",
      "Epoch 10/15\n",
      "8222/8222 [==============================] - 0s - loss: 0.1014 - acc: 0.9770 - val_loss: 0.2919 - val_acc: 0.9100\n",
      "Epoch 11/15\n",
      "8222/8222 [==============================] - 0s - loss: 0.0903 - acc: 0.9792 - val_loss: 0.2873 - val_acc: 0.9115\n",
      "Epoch 12/15\n",
      "8222/8222 [==============================] - 0s - loss: 0.0774 - acc: 0.9835 - val_loss: 0.3003 - val_acc: 0.9020\n",
      "Epoch 13/15\n",
      "8222/8222 [==============================] - 0s - loss: 0.0694 - acc: 0.9858 - val_loss: 0.2890 - val_acc: 0.9050\n",
      "Epoch 14/15\n",
      "8222/8222 [==============================] - 0s - loss: 0.0608 - acc: 0.9881 - val_loss: 0.2935 - val_acc: 0.9025\n",
      "Epoch 15/15\n",
      "8222/8222 [==============================] - 0s - loss: 0.0530 - acc: 0.9888 - val_loss: 0.2836 - val_acc: 0.9070\n",
      " 9536/10357 [==========================>...] - ETA: 0si: 6\n",
      "Found 8222 images belonging to 120 classes.\n",
      "514/514 [==============================] - 125s   \n",
      "Found 8222 images belonging to 120 classes.\n",
      "514/514 [==============================] - 113s   \n",
      "Train on 8222 samples, validate on 2000 samples\n",
      "Epoch 1/15\n",
      "8222/8222 [==============================] - 0s - loss: 2.1286 - acc: 0.6459 - val_loss: 0.8207 - val_acc: 0.8780\n",
      "Epoch 2/15\n",
      "8222/8222 [==============================] - 0s - loss: 0.6025 - acc: 0.8888 - val_loss: 0.4610 - val_acc: 0.8935\n",
      "Epoch 3/15\n",
      "8222/8222 [==============================] - 0s - loss: 0.3831 - acc: 0.9112 - val_loss: 0.3626 - val_acc: 0.9045\n",
      "Epoch 4/15\n",
      "8222/8222 [==============================] - 0s - loss: 0.2936 - acc: 0.9207 - val_loss: 0.3127 - val_acc: 0.9120\n",
      "Epoch 5/15\n",
      "8222/8222 [==============================] - 0s - loss: 0.2325 - acc: 0.9349 - val_loss: 0.3100 - val_acc: 0.9010\n",
      "Epoch 6/15\n",
      "8222/8222 [==============================] - 0s - loss: 0.1935 - acc: 0.9465 - val_loss: 0.2865 - val_acc: 0.9100\n",
      "Epoch 7/15\n",
      "8222/8222 [==============================] - 0s - loss: 0.1623 - acc: 0.9573 - val_loss: 0.3004 - val_acc: 0.9030\n",
      "Epoch 8/15\n",
      "8222/8222 [==============================] - 0s - loss: 0.1371 - acc: 0.9642 - val_loss: 0.2894 - val_acc: 0.9165\n",
      "Epoch 9/15\n",
      "8222/8222 [==============================] - 0s - loss: 0.1190 - acc: 0.9719 - val_loss: 0.2807 - val_acc: 0.9060\n",
      "Epoch 10/15\n",
      "8222/8222 [==============================] - 0s - loss: 0.1033 - acc: 0.9757 - val_loss: 0.2700 - val_acc: 0.9125\n",
      "Epoch 11/15\n",
      "8222/8222 [==============================] - 0s - loss: 0.0888 - acc: 0.9799 - val_loss: 0.2751 - val_acc: 0.9105\n",
      "Epoch 12/15\n",
      "8222/8222 [==============================] - 0s - loss: 0.0793 - acc: 0.9841 - val_loss: 0.2825 - val_acc: 0.9070\n",
      "Epoch 13/15\n",
      "8222/8222 [==============================] - 0s - loss: 0.0687 - acc: 0.9856 - val_loss: 0.2862 - val_acc: 0.9070\n",
      "Epoch 14/15\n",
      "8222/8222 [==============================] - 0s - loss: 0.0600 - acc: 0.9888 - val_loss: 0.2810 - val_acc: 0.9110\n",
      "Epoch 15/15\n",
      "8222/8222 [==============================] - 0s - loss: 0.0539 - acc: 0.9895 - val_loss: 0.2945 - val_acc: 0.9085\n",
      " 9712/10357 [===========================>..] - ETA: 0si: 7\n",
      "Found 8222 images belonging to 120 classes.\n",
      "514/514 [==============================] - 125s   \n",
      "Found 8222 images belonging to 120 classes.\n",
      "514/514 [==============================] - 113s   \n",
      "Train on 8222 samples, validate on 2000 samples\n",
      "Epoch 1/15\n",
      "8222/8222 [==============================] - 0s - loss: 2.1027 - acc: 0.6537 - val_loss: 0.7835 - val_acc: 0.8745\n",
      "Epoch 2/15\n",
      "8222/8222 [==============================] - 0s - loss: 0.5938 - acc: 0.8834 - val_loss: 0.4415 - val_acc: 0.8995\n",
      "Epoch 3/15\n",
      "8222/8222 [==============================] - 0s - loss: 0.3788 - acc: 0.9105 - val_loss: 0.3623 - val_acc: 0.9065\n",
      "Epoch 4/15\n",
      "8222/8222 [==============================] - 0s - loss: 0.2867 - acc: 0.9264 - val_loss: 0.3263 - val_acc: 0.9040\n",
      "Epoch 5/15\n",
      "8222/8222 [==============================] - 0s - loss: 0.2334 - acc: 0.9353 - val_loss: 0.3101 - val_acc: 0.9060\n",
      "Epoch 6/15\n",
      "8222/8222 [==============================] - 0s - loss: 0.1946 - acc: 0.9488 - val_loss: 0.3002 - val_acc: 0.9065\n",
      "Epoch 7/15\n"
     ]
    },
    {
     "name": "stdout",
     "output_type": "stream",
     "text": [
      "8222/8222 [==============================] - 0s - loss: 0.1647 - acc: 0.9550 - val_loss: 0.2954 - val_acc: 0.9085\n",
      "Epoch 8/15\n",
      "8222/8222 [==============================] - 0s - loss: 0.1413 - acc: 0.9638 - val_loss: 0.2879 - val_acc: 0.9050\n",
      "Epoch 9/15\n",
      "8222/8222 [==============================] - 0s - loss: 0.1193 - acc: 0.9703 - val_loss: 0.2859 - val_acc: 0.9045\n",
      "Epoch 10/15\n",
      "8222/8222 [==============================] - 0s - loss: 0.1067 - acc: 0.9732 - val_loss: 0.2833 - val_acc: 0.9060\n",
      "Epoch 11/15\n",
      "8222/8222 [==============================] - 0s - loss: 0.0926 - acc: 0.9771 - val_loss: 0.2837 - val_acc: 0.9075\n",
      "Epoch 12/15\n",
      "8222/8222 [==============================] - 0s - loss: 0.0799 - acc: 0.9827 - val_loss: 0.2805 - val_acc: 0.9080\n",
      "Epoch 13/15\n",
      "8222/8222 [==============================] - 0s - loss: 0.0720 - acc: 0.9855 - val_loss: 0.2777 - val_acc: 0.9135\n",
      "Epoch 14/15\n",
      "8222/8222 [==============================] - 0s - loss: 0.0630 - acc: 0.9861 - val_loss: 0.2933 - val_acc: 0.9045\n",
      "Epoch 15/15\n",
      "8222/8222 [==============================] - 0s - loss: 0.0565 - acc: 0.9889 - val_loss: 0.2895 - val_acc: 0.9030\n",
      " 9872/10357 [===========================>..] - ETA: 0si: 8\n",
      "Found 8222 images belonging to 120 classes.\n",
      "514/514 [==============================] - 125s   \n",
      "Found 8222 images belonging to 120 classes.\n",
      "514/514 [==============================] - 112s   \n",
      "Train on 8222 samples, validate on 2000 samples\n",
      "Epoch 1/15\n",
      "8222/8222 [==============================] - 0s - loss: 2.1172 - acc: 0.6446 - val_loss: 0.8006 - val_acc: 0.8740\n",
      "Epoch 2/15\n",
      "8222/8222 [==============================] - 0s - loss: 0.5923 - acc: 0.8849 - val_loss: 0.4692 - val_acc: 0.8870\n",
      "Epoch 3/15\n",
      "8222/8222 [==============================] - 0s - loss: 0.3768 - acc: 0.9124 - val_loss: 0.3493 - val_acc: 0.9110\n",
      "Epoch 4/15\n",
      "8222/8222 [==============================] - 0s - loss: 0.2822 - acc: 0.9290 - val_loss: 0.3264 - val_acc: 0.9055\n",
      "Epoch 5/15\n",
      "8222/8222 [==============================] - 0s - loss: 0.2320 - acc: 0.9372 - val_loss: 0.3112 - val_acc: 0.9060\n",
      "Epoch 6/15\n",
      "8222/8222 [==============================] - 0s - loss: 0.1904 - acc: 0.9477 - val_loss: 0.2852 - val_acc: 0.9125\n",
      "Epoch 7/15\n",
      "8222/8222 [==============================] - 0s - loss: 0.1600 - acc: 0.9577 - val_loss: 0.2897 - val_acc: 0.9045\n",
      "Epoch 8/15\n",
      "8222/8222 [==============================] - 0s - loss: 0.1376 - acc: 0.9630 - val_loss: 0.2917 - val_acc: 0.9070\n",
      "Epoch 9/15\n",
      "8222/8222 [==============================] - 0s - loss: 0.1178 - acc: 0.9708 - val_loss: 0.2805 - val_acc: 0.9065\n",
      "Epoch 10/15\n",
      "8222/8222 [==============================] - 0s - loss: 0.1023 - acc: 0.9743 - val_loss: 0.2779 - val_acc: 0.9120\n",
      "Epoch 11/15\n",
      "8222/8222 [==============================] - 0s - loss: 0.0902 - acc: 0.9762 - val_loss: 0.2748 - val_acc: 0.9135\n",
      "Epoch 12/15\n",
      "8222/8222 [==============================] - 0s - loss: 0.0786 - acc: 0.9814 - val_loss: 0.2769 - val_acc: 0.9155\n",
      "Epoch 13/15\n",
      "8222/8222 [==============================] - 0s - loss: 0.0662 - acc: 0.9871 - val_loss: 0.2803 - val_acc: 0.9120\n",
      "Epoch 14/15\n",
      "8222/8222 [==============================] - 0s - loss: 0.0600 - acc: 0.9883 - val_loss: 0.2869 - val_acc: 0.9085\n",
      "Epoch 15/15\n",
      "8222/8222 [==============================] - 0s - loss: 0.0529 - acc: 0.9894 - val_loss: 0.2862 - val_acc: 0.9085\n",
      " 9760/10357 [===========================>..] - ETA: 0si: 9\n",
      "Found 8222 images belonging to 120 classes.\n",
      "514/514 [==============================] - 125s   \n",
      "Found 8222 images belonging to 120 classes.\n",
      "514/514 [==============================] - 112s   \n",
      "Train on 8222 samples, validate on 2000 samples\n",
      "Epoch 1/15\n",
      "8222/8222 [==============================] - 0s - loss: 2.1363 - acc: 0.6520 - val_loss: 0.7915 - val_acc: 0.8770\n",
      "Epoch 2/15\n",
      "8222/8222 [==============================] - 0s - loss: 0.5914 - acc: 0.8954 - val_loss: 0.4566 - val_acc: 0.9005\n",
      "Epoch 3/15\n",
      "8222/8222 [==============================] - 0s - loss: 0.3743 - acc: 0.9112 - val_loss: 0.3647 - val_acc: 0.9070\n",
      "Epoch 4/15\n",
      "8222/8222 [==============================] - 0s - loss: 0.2858 - acc: 0.9258 - val_loss: 0.3235 - val_acc: 0.9070\n",
      "Epoch 5/15\n",
      "8222/8222 [==============================] - 0s - loss: 0.2309 - acc: 0.9369 - val_loss: 0.3056 - val_acc: 0.9075\n",
      "Epoch 6/15\n",
      "8222/8222 [==============================] - 0s - loss: 0.1923 - acc: 0.9479 - val_loss: 0.2968 - val_acc: 0.9125\n",
      "Epoch 7/15\n",
      "8222/8222 [==============================] - 0s - loss: 0.1622 - acc: 0.9560 - val_loss: 0.2908 - val_acc: 0.9025\n",
      "Epoch 8/15\n",
      "8222/8222 [==============================] - 0s - loss: 0.1377 - acc: 0.9630 - val_loss: 0.2902 - val_acc: 0.9055\n",
      "Epoch 9/15\n",
      "8222/8222 [==============================] - 0s - loss: 0.1197 - acc: 0.9703 - val_loss: 0.2912 - val_acc: 0.9050\n",
      "Epoch 10/15\n",
      "8222/8222 [==============================] - 0s - loss: 0.1036 - acc: 0.9741 - val_loss: 0.2803 - val_acc: 0.9110\n",
      "Epoch 11/15\n",
      "8222/8222 [==============================] - 0s - loss: 0.0917 - acc: 0.9780 - val_loss: 0.2811 - val_acc: 0.9100\n",
      "Epoch 12/15\n",
      "8222/8222 [==============================] - 0s - loss: 0.0781 - acc: 0.9825 - val_loss: 0.2783 - val_acc: 0.9140\n",
      "Epoch 13/15\n",
      "8222/8222 [==============================] - 0s - loss: 0.0686 - acc: 0.9848 - val_loss: 0.2924 - val_acc: 0.9040\n",
      "Epoch 14/15\n",
      "8222/8222 [==============================] - 0s - loss: 0.0610 - acc: 0.9871 - val_loss: 0.2927 - val_acc: 0.9120\n",
      "Epoch 15/15\n",
      "8222/8222 [==============================] - 0s - loss: 0.0553 - acc: 0.9883 - val_loss: 0.2933 - val_acc: 0.9095\n",
      "10320/10357 [============================>.] - ETA: 0s"
     ]
    }
   ],
   "source": [
    "preds = []\n",
    "nb_runs = 10\n",
    "for i in range(nb_runs):\n",
    "    print(\"i:\", i)\n",
    "    batches = gen.flow_from_directory(data_dir+'/train', target_size=target_size, batch_size=batch_size, shuffle=False)\n",
    "    y = to_categorical(batches.classes)\n",
    "    bf_x = model_x.predict_generator(batches, steps=nb_batches, verbose=1)\n",
    "    \n",
    "    batches = gen.flow_from_directory(data_dir+'/train', target_size=target_size, batch_size=batch_size, shuffle=False)\n",
    "    bf_i = model_i.predict_generator(batches, steps=nb_batches, verbose=1)\n",
    "    \n",
    "    lm = Sequential([Dense(120, activation='softmax', input_shape=(2048+2048,))])\n",
    "    lm.compile(optimizer=RMSprop(), loss='categorical_crossentropy', metrics=['accuracy'])\n",
    "    lm.fit(np.hstack([bf_x, bf_i]), y, epochs=15, batch_size=nb_batches, \n",
    "           validation_data=(np.hstack([bf_val_x, bf_val_i]), y_val))\n",
    "    \n",
    "    pred = lm.predict(np.hstack([bf_x_test, bf_i_test]), batch_size=batch_size, verbose=1)\n",
    "    preds.append(pred)"
   ]
  },
  {
   "cell_type": "code",
   "execution_count": 39,
   "metadata": {
    "collapsed": true
   },
   "outputs": [],
   "source": [
    "pred_ensemble = np.stack(preds).mean(axis=0)"
   ]
  },
  {
   "cell_type": "markdown",
   "metadata": {},
   "source": [
    "### predict"
   ]
  },
  {
   "cell_type": "code",
   "execution_count": 40,
   "metadata": {
    "collapsed": true
   },
   "outputs": [],
   "source": [
    "test_ids = [f.split('/')[1].split('.')[0] for f in batches_test.filenames]"
   ]
  },
  {
   "cell_type": "code",
   "execution_count": 41,
   "metadata": {
    "collapsed": true
   },
   "outputs": [],
   "source": [
    "subm=pd.DataFrame(np.hstack([np.array(test_ids).reshape(-1, 1), pred_ensemble]))\n",
    "labels = pd.read_csv(data_dir+'/labels.csv')\n",
    "cols = ['id']+sorted(labels.breed.unique())\n",
    "subm.columns = cols"
   ]
  },
  {
   "cell_type": "code",
   "execution_count": 42,
   "metadata": {
    "collapsed": true
   },
   "outputs": [],
   "source": [
    "description = 'xception_inception_ensemble_%d_data_aug' % nb_runs\n",
    "submission_file_name = data_dir+'/results/%s_%s.csv' % (description,\n",
    "                                                        datetime.datetime.now().strftime('%Y-%m-%d-%H-%M')\n",
    "                                                       )\n",
    "subm.to_csv(submission_file_name, index=False)"
   ]
  },
  {
   "cell_type": "markdown",
   "metadata": {},
   "source": [
    "### submit"
   ]
  },
  {
   "cell_type": "code",
   "execution_count": 43,
   "metadata": {
    "collapsed": true
   },
   "outputs": [],
   "source": [
    "!kg config -u $KAGGLE_USER -p $KAGGLE_PW -c $competition_name"
   ]
  },
  {
   "cell_type": "code",
   "execution_count": 44,
   "metadata": {
    "scrolled": true
   },
   "outputs": [
    {
     "name": "stdout",
     "output_type": "stream",
     "text": [
      "0.26775\r\n"
     ]
    }
   ],
   "source": [
    "!kg submit $submission_file_name -m $description"
   ]
  },
  {
   "cell_type": "code",
   "execution_count": null,
   "metadata": {
    "collapsed": true
   },
   "outputs": [],
   "source": []
  }
 ],
 "metadata": {
  "kernelspec": {
   "display_name": "Python 3",
   "language": "python",
   "name": "python3"
  },
  "language_info": {
   "codemirror_mode": {
    "name": "ipython",
    "version": 3
   },
   "file_extension": ".py",
   "mimetype": "text/x-python",
   "name": "python",
   "nbconvert_exporter": "python",
   "pygments_lexer": "ipython3",
   "version": "3.6.1"
  },
  "toc": {
   "nav_menu": {},
   "number_sections": true,
   "sideBar": true,
   "skip_h1_title": false,
   "toc_cell": false,
   "toc_position": {
    "height": "594px",
    "left": "0px",
    "right": "1064px",
    "top": "106px",
    "width": "165px"
   },
   "toc_section_display": "block",
   "toc_window_display": false
  }
 },
 "nbformat": 4,
 "nbformat_minor": 2
}
