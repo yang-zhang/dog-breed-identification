{
 "cells": [
  {
   "cell_type": "code",
   "execution_count": 46,
   "metadata": {
    "scrolled": true
   },
   "outputs": [],
   "source": [
    "%matplotlib inline\n",
    "import matplotlib.pyplot as plt\n",
    "import numpy as np\n",
    "\n",
    "from keras import backend as K\n",
    "from keras.layers import Input, Dense\n",
    "from keras.models import Model\n",
    "from keras.applications import xception\n",
    "from keras.models import Sequential\n",
    "from keras.layers import Dense, Activation"
   ]
  },
  {
   "cell_type": "code",
   "execution_count": 47,
   "metadata": {
    "collapsed": true
   },
   "outputs": [],
   "source": [
    "X = np.random.random((10000, 2))"
   ]
  },
  {
   "cell_type": "code",
   "execution_count": 48,
   "metadata": {
    "scrolled": true
   },
   "outputs": [
    {
     "data": {
      "text/plain": [
       "(10000, 2)"
      ]
     },
     "execution_count": 48,
     "metadata": {},
     "output_type": "execute_result"
    }
   ],
   "source": [
    "X.shape"
   ]
  },
  {
   "cell_type": "code",
   "execution_count": 49,
   "metadata": {
    "collapsed": true
   },
   "outputs": [],
   "source": [
    "M = np.dot(X, [[2, 3, 1], \n",
    "               [4, 2, 1]]) + 1"
   ]
  },
  {
   "cell_type": "code",
   "execution_count": 50,
   "metadata": {},
   "outputs": [
    {
     "data": {
      "text/plain": [
       "(10000, 3)"
      ]
     },
     "execution_count": 50,
     "metadata": {},
     "output_type": "execute_result"
    }
   ],
   "source": [
    "M.shape"
   ]
  },
  {
   "cell_type": "code",
   "execution_count": 51,
   "metadata": {
    "collapsed": true
   },
   "outputs": [],
   "source": [
    "Y = np.dot(M, [[1], \n",
    "               [5], \n",
    "               [2]]) + 1"
   ]
  },
  {
   "cell_type": "code",
   "execution_count": 52,
   "metadata": {},
   "outputs": [
    {
     "data": {
      "text/plain": [
       "(10000, 1)"
      ]
     },
     "execution_count": 52,
     "metadata": {},
     "output_type": "execute_result"
    }
   ],
   "source": [
    "Y.shape"
   ]
  },
  {
   "cell_type": "code",
   "execution_count": 53,
   "metadata": {
    "collapsed": true
   },
   "outputs": [],
   "source": [
    "n = X.shape[0]"
   ]
  },
  {
   "cell_type": "code",
   "execution_count": 54,
   "metadata": {
    "collapsed": true
   },
   "outputs": [],
   "source": [
    "rnd = np.random.random(n)\n",
    "idx_trn = rnd < 0.8\n",
    "idx_val = rnd >=0.8"
   ]
  },
  {
   "cell_type": "code",
   "execution_count": 55,
   "metadata": {
    "collapsed": true
   },
   "outputs": [],
   "source": [
    "X_trn = X[idx_trn]\n",
    "X_val = X[idx_val]\n",
    "Y_trn = Y[idx_trn]\n",
    "Y_val = Y[idx_val]\n",
    "M_trn = M[idx_trn]\n",
    "M_val = M[idx_val]"
   ]
  },
  {
   "cell_type": "markdown",
   "metadata": {},
   "source": [
    "## base model"
   ]
  },
  {
   "cell_type": "code",
   "execution_count": 56,
   "metadata": {
    "collapsed": true
   },
   "outputs": [],
   "source": [
    "base_model = Sequential([\n",
    "    Dense(3, input_shape=(2,))\n",
    "])"
   ]
  },
  {
   "cell_type": "code",
   "execution_count": 57,
   "metadata": {
    "scrolled": true
   },
   "outputs": [
    {
     "name": "stdout",
     "output_type": "stream",
     "text": [
      "_________________________________________________________________\n",
      "Layer (type)                 Output Shape              Param #   \n",
      "=================================================================\n",
      "dense_6 (Dense)              (None, 3)                 9         \n",
      "=================================================================\n",
      "Total params: 9\n",
      "Trainable params: 9\n",
      "Non-trainable params: 0\n",
      "_________________________________________________________________\n"
     ]
    }
   ],
   "source": [
    "base_model.summary()"
   ]
  },
  {
   "cell_type": "code",
   "execution_count": 58,
   "metadata": {
    "scrolled": false
   },
   "outputs": [
    {
     "name": "stdout",
     "output_type": "stream",
     "text": [
      "Train on 8052 samples, validate on 1948 samples\n",
      "Epoch 1/5\n",
      "8052/8052 [==============================] - 0s - loss: 2.7576 - val_loss: 0.4104\n",
      "Epoch 2/5\n",
      "8052/8052 [==============================] - 0s - loss: 0.3115 - val_loss: 0.2745\n",
      "Epoch 3/5\n",
      "8052/8052 [==============================] - 0s - loss: 0.2419 - val_loss: 0.2222\n",
      "Epoch 4/5\n",
      "8052/8052 [==============================] - 0s - loss: 0.1963 - val_loss: 0.1807\n",
      "Epoch 5/5\n",
      "8052/8052 [==============================] - 0s - loss: 0.1597 - val_loss: 0.1472\n"
     ]
    },
    {
     "data": {
      "text/plain": [
       "<keras.callbacks.History at 0x7f504c5597b8>"
      ]
     },
     "execution_count": 58,
     "metadata": {},
     "output_type": "execute_result"
    }
   ],
   "source": [
    "base_model.compile(optimizer='sgd', loss='mse')\n",
    "base_model.fit(X_trn, M_trn, epochs=5, verbose=1, validation_data=(X_val, M_val))"
   ]
  },
  {
   "cell_type": "markdown",
   "metadata": {},
   "source": [
    "freeze base_model weights"
   ]
  },
  {
   "cell_type": "code",
   "execution_count": 59,
   "metadata": {
    "collapsed": true
   },
   "outputs": [],
   "source": [
    "for layer in base_model.layers:\n",
    "    layer.trainable = False"
   ]
  },
  {
   "cell_type": "code",
   "execution_count": 60,
   "metadata": {},
   "outputs": [
    {
     "name": "stdout",
     "output_type": "stream",
     "text": [
      "[array([[ 1.71209252,  1.92582953,  0.93598926],\n",
      "       [ 2.20336413,  1.23195589,  0.86359763]], dtype=float32), array([ 2.10873652,  1.97526693,  1.1063906 ], dtype=float32)]\n"
     ]
    }
   ],
   "source": [
    "for layer in base_model.layers:\n",
    "    print(layer.get_weights())"
   ]
  },
  {
   "cell_type": "code",
   "execution_count": 61,
   "metadata": {
    "collapsed": true
   },
   "outputs": [],
   "source": [
    "pred_mid_trn = base_model.predict(X_trn)\n",
    "pred_mid_val = base_model.predict(X_val)"
   ]
  },
  {
   "cell_type": "markdown",
   "metadata": {},
   "source": [
    "## base_model output as dense layer input"
   ]
  },
  {
   "cell_type": "code",
   "execution_count": 65,
   "metadata": {
    "collapsed": true
   },
   "outputs": [],
   "source": [
    "lm = Sequential([\n",
    "    Dense(1, input_shape=(3,))\n",
    "])\n",
    "lm.compile(optimizer='sgd', loss='mse')"
   ]
  },
  {
   "cell_type": "code",
   "execution_count": 66,
   "metadata": {},
   "outputs": [
    {
     "name": "stdout",
     "output_type": "stream",
     "text": [
      "Train on 8052 samples, validate on 1948 samples\n",
      "Epoch 1/10\n",
      "8052/8052 [==============================] - 0s - loss: 8.0680 - val_loss: 3.9051\n",
      "Epoch 2/10\n",
      "8052/8052 [==============================] - 0s - loss: 3.3304 - val_loss: 2.8588\n",
      "Epoch 3/10\n",
      "8052/8052 [==============================] - 0s - loss: 2.3988 - val_loss: 2.0220\n",
      "Epoch 4/10\n",
      "8052/8052 [==============================] - 0s - loss: 1.7408 - val_loss: 1.5464\n",
      "Epoch 5/10\n",
      "8052/8052 [==============================] - 0s - loss: 1.2600 - val_loss: 1.1351\n",
      "Epoch 6/10\n",
      "8052/8052 [==============================] - 0s - loss: 0.9303 - val_loss: 0.7881\n",
      "Epoch 7/10\n",
      "8052/8052 [==============================] - 0s - loss: 0.6843 - val_loss: 0.6065\n",
      "Epoch 8/10\n",
      "8052/8052 [==============================] - 0s - loss: 0.5043 - val_loss: 0.4251\n",
      "Epoch 9/10\n",
      "8052/8052 [==============================] - 0s - loss: 0.3746 - val_loss: 0.3155\n",
      "Epoch 10/10\n",
      "8052/8052 [==============================] - 0s - loss: 0.2786 - val_loss: 0.2495\n"
     ]
    },
    {
     "data": {
      "text/plain": [
       "<keras.callbacks.History at 0x7f503f40fc50>"
      ]
     },
     "execution_count": 66,
     "metadata": {},
     "output_type": "execute_result"
    }
   ],
   "source": [
    "lm.fit(pred_mid_trn, Y_trn, epochs=10, verbose=1, validation_data=(pred_mid_val, Y_val))"
   ]
  },
  {
   "cell_type": "code",
   "execution_count": 67,
   "metadata": {
    "scrolled": true
   },
   "outputs": [
    {
     "name": "stdout",
     "output_type": "stream",
     "text": [
      "[array([[ 3.46466136],\n",
      "       [ 4.88001966],\n",
      "       [ 2.15676951]], dtype=float32), array([-9.29623032], dtype=float32)]\n"
     ]
    }
   ],
   "source": [
    "for layer in lm.layers:\n",
    "    print(layer.get_weights())"
   ]
  },
  {
   "cell_type": "markdown",
   "metadata": {},
   "source": [
    "## put in one model "
   ]
  },
  {
   "cell_type": "code",
   "execution_count": 70,
   "metadata": {
    "collapsed": true
   },
   "outputs": [],
   "source": [
    "x = base_model.output\n",
    "predictions = Dense(1)(x)\n",
    "model = Model(inputs=base_model.input, outputs=predictions)\n",
    "for layer in base_model.layers:\n",
    "    layer.trainable = False\n",
    "model.compile(optimizer='sgd', loss='mse')"
   ]
  },
  {
   "cell_type": "code",
   "execution_count": 71,
   "metadata": {},
   "outputs": [
    {
     "name": "stdout",
     "output_type": "stream",
     "text": [
      "Train on 8052 samples, validate on 1948 samples\n",
      "Epoch 1/10\n",
      "8052/8052 [==============================] - 0s - loss: 7.8509 - val_loss: 3.8569\n",
      "Epoch 2/10\n",
      "8052/8052 [==============================] - 0s - loss: 3.2547 - val_loss: 2.7461\n",
      "Epoch 3/10\n",
      "8052/8052 [==============================] - 0s - loss: 2.3458 - val_loss: 1.9946\n",
      "Epoch 4/10\n",
      "8052/8052 [==============================] - 0s - loss: 1.6857 - val_loss: 1.4470\n",
      "Epoch 5/10\n",
      "8052/8052 [==============================] - 0s - loss: 1.2341 - val_loss: 1.0412\n",
      "Epoch 6/10\n",
      "8052/8052 [==============================] - 0s - loss: 0.8983 - val_loss: 0.7872\n",
      "Epoch 7/10\n",
      "8052/8052 [==============================] - 0s - loss: 0.6590 - val_loss: 0.5669\n",
      "Epoch 8/10\n",
      "8052/8052 [==============================] - 0s - loss: 0.4862 - val_loss: 0.4272\n",
      "Epoch 9/10\n",
      "8052/8052 [==============================] - 0s - loss: 0.3594 - val_loss: 0.3033\n",
      "Epoch 10/10\n",
      "8052/8052 [==============================] - 0s - loss: 0.2677 - val_loss: 0.2294\n"
     ]
    },
    {
     "data": {
      "text/plain": [
       "<keras.callbacks.History at 0x7f503ee6ec18>"
      ]
     },
     "execution_count": 71,
     "metadata": {},
     "output_type": "execute_result"
    }
   ],
   "source": [
    "model.fit(X_trn, Y_trn, epochs=10, verbose=1, validation_data=(X_val, Y_val))"
   ]
  },
  {
   "cell_type": "code",
   "execution_count": 72,
   "metadata": {
    "scrolled": true
   },
   "outputs": [
    {
     "name": "stdout",
     "output_type": "stream",
     "text": [
      "[]\n",
      "[array([[ 1.71209252,  1.92582953,  0.93598926],\n",
      "       [ 2.20336413,  1.23195589,  0.86359763]], dtype=float32), array([ 2.10873652,  1.97526693,  1.1063906 ], dtype=float32)]\n",
      "[array([[ 3.80313993],\n",
      "       [ 5.39420986],\n",
      "       [ 0.55602229]], dtype=float32), array([-9.23373795], dtype=float32)]\n"
     ]
    }
   ],
   "source": [
    "for layer in model.layers:\n",
    "    print(layer.get_weights())"
   ]
  },
  {
   "cell_type": "code",
   "execution_count": 73,
   "metadata": {},
   "outputs": [
    {
     "data": {
      "text/plain": [
       "[array([[ 1.71209252,  1.92582953,  0.93598926],\n",
       "        [ 2.20336413,  1.23195589,  0.86359763]], dtype=float32),\n",
       " array([ 2.10873652,  1.97526693,  1.1063906 ], dtype=float32)]"
      ]
     },
     "execution_count": 73,
     "metadata": {},
     "output_type": "execute_result"
    }
   ],
   "source": [
    "base_model.layers[0].get_weights()"
   ]
  },
  {
   "cell_type": "code",
   "execution_count": 74,
   "metadata": {},
   "outputs": [
    {
     "data": {
      "text/plain": [
       "True"
      ]
     },
     "execution_count": 74,
     "metadata": {},
     "output_type": "execute_result"
    }
   ],
   "source": [
    "np.all(model.layers[1].get_weights()[0] == base_model.layers[0].get_weights()[0])"
   ]
  },
  {
   "cell_type": "code",
   "execution_count": 75,
   "metadata": {},
   "outputs": [
    {
     "data": {
      "text/plain": [
       "True"
      ]
     },
     "execution_count": 75,
     "metadata": {},
     "output_type": "execute_result"
    }
   ],
   "source": [
    "np.all(model.layers[1].get_weights()[1] == base_model.layers[0].get_weights()[1])"
   ]
  },
  {
   "cell_type": "code",
   "execution_count": 76,
   "metadata": {},
   "outputs": [
    {
     "data": {
      "text/plain": [
       "[array([[ 3.80313993],\n",
       "        [ 5.39420986],\n",
       "        [ 0.55602229]], dtype=float32), array([-9.23373795], dtype=float32)]"
      ]
     },
     "execution_count": 76,
     "metadata": {},
     "output_type": "execute_result"
    }
   ],
   "source": [
    "model.layers[2].get_weights()"
   ]
  },
  {
   "cell_type": "code",
   "execution_count": 77,
   "metadata": {},
   "outputs": [
    {
     "data": {
      "text/plain": [
       "[array([[ 3.46466136],\n",
       "        [ 4.88001966],\n",
       "        [ 2.15676951]], dtype=float32), array([-9.29623032], dtype=float32)]"
      ]
     },
     "execution_count": 77,
     "metadata": {},
     "output_type": "execute_result"
    }
   ],
   "source": [
    "lm.layers[0].get_weights()"
   ]
  },
  {
   "cell_type": "markdown",
   "metadata": {},
   "source": [
    "### output of model at each layer from X_trn"
   ]
  },
  {
   "cell_type": "code",
   "execution_count": 103,
   "metadata": {
    "collapsed": true
   },
   "outputs": [],
   "source": [
    "# https://stackoverflow.com/questions/41711190/keras-how-to-get-the-output-of-each-layer\n",
    "inp = model.input                                           # input placeholder\n",
    "outputs = [layer.output for layer in model.layers]          # all layer outputs\n",
    "functors = [K.function([inp]+ [K.learning_phase()], [out]) for out in outputs]  # evaluation functions\n",
    "\n",
    "# Testing\n",
    "layer_outs = [func([X_trn, 1.]) for func in functors]"
   ]
  },
  {
   "cell_type": "code",
   "execution_count": 104,
   "metadata": {},
   "outputs": [
    {
     "data": {
      "text/plain": [
       "True"
      ]
     },
     "execution_count": 104,
     "metadata": {},
     "output_type": "execute_result"
    }
   ],
   "source": [
    "np.allclose(X_trn, layer_outs[0])"
   ]
  },
  {
   "cell_type": "code",
   "execution_count": 105,
   "metadata": {
    "scrolled": true
   },
   "outputs": [
    {
     "data": {
      "text/plain": [
       "True"
      ]
     },
     "execution_count": 105,
     "metadata": {},
     "output_type": "execute_result"
    }
   ],
   "source": [
    "np.all(pred_mid_trn == layer_outs[1])"
   ]
  },
  {
   "cell_type": "code",
   "execution_count": 106,
   "metadata": {
    "collapsed": true
   },
   "outputs": [],
   "source": [
    "pred_trn = model.predict(X_trn)"
   ]
  },
  {
   "cell_type": "code",
   "execution_count": 107,
   "metadata": {},
   "outputs": [
    {
     "data": {
      "text/plain": [
       "array([[ 16.15377617],\n",
       "       [ 14.06655502],\n",
       "       [ 36.16280365],\n",
       "       ..., \n",
       "       [ 18.99808121],\n",
       "       [ 27.932827  ],\n",
       "       [ 25.92883301]], dtype=float32)"
      ]
     },
     "execution_count": 107,
     "metadata": {},
     "output_type": "execute_result"
    }
   ],
   "source": [
    "pred_trn"
   ]
  },
  {
   "cell_type": "code",
   "execution_count": 108,
   "metadata": {},
   "outputs": [
    {
     "data": {
      "text/plain": [
       "True"
      ]
     },
     "execution_count": 108,
     "metadata": {},
     "output_type": "execute_result"
    }
   ],
   "source": [
    "np.all(pred_trn == layer_outs[2])"
   ]
  },
  {
   "cell_type": "markdown",
   "metadata": {},
   "source": [
    "### output of model at each layer from X_val"
   ]
  },
  {
   "cell_type": "code",
   "execution_count": 88,
   "metadata": {
    "collapsed": true
   },
   "outputs": [],
   "source": [
    "# https://stackoverflow.com/questions/41711190/keras-how-to-get-the-output-of-each-layer\n",
    "inp = model.input                                           # input placeholder\n",
    "outputs = [layer.output for layer in model.layers]          # all layer outputs\n",
    "functors = [K.function([inp]+ [K.learning_phase()], [out]) for out in outputs]  # evaluation functions\n",
    "\n",
    "# Testing\n",
    "layer_outs = [func([X_val, 1.]) for func in functors]"
   ]
  },
  {
   "cell_type": "code",
   "execution_count": 89,
   "metadata": {},
   "outputs": [
    {
     "data": {
      "text/plain": [
       "True"
      ]
     },
     "execution_count": 89,
     "metadata": {},
     "output_type": "execute_result"
    }
   ],
   "source": [
    "np.allclose(X_val, layer_outs[0])"
   ]
  },
  {
   "cell_type": "code",
   "execution_count": 90,
   "metadata": {
    "scrolled": true
   },
   "outputs": [
    {
     "data": {
      "text/plain": [
       "True"
      ]
     },
     "execution_count": 90,
     "metadata": {},
     "output_type": "execute_result"
    }
   ],
   "source": [
    "np.all(pred_mid_val == layer_outs[1])"
   ]
  },
  {
   "cell_type": "code",
   "execution_count": 98,
   "metadata": {
    "collapsed": true
   },
   "outputs": [],
   "source": [
    "pred_val = model.predict(X_val)"
   ]
  },
  {
   "cell_type": "code",
   "execution_count": 99,
   "metadata": {},
   "outputs": [
    {
     "data": {
      "text/plain": [
       "True"
      ]
     },
     "execution_count": 99,
     "metadata": {},
     "output_type": "execute_result"
    }
   ],
   "source": [
    "np.all(pred_val == layer_outs[2])"
   ]
  },
  {
   "cell_type": "code",
   "execution_count": null,
   "metadata": {
    "collapsed": true
   },
   "outputs": [],
   "source": []
  }
 ],
 "metadata": {
  "kernelspec": {
   "display_name": "Python 3",
   "language": "python",
   "name": "python3"
  },
  "language_info": {
   "codemirror_mode": {
    "name": "ipython",
    "version": 3
   },
   "file_extension": ".py",
   "mimetype": "text/x-python",
   "name": "python",
   "nbconvert_exporter": "python",
   "pygments_lexer": "ipython3",
   "version": "3.6.1"
  },
  "toc": {
   "nav_menu": {},
   "number_sections": true,
   "sideBar": true,
   "skip_h1_title": false,
   "toc_cell": false,
   "toc_position": {},
   "toc_section_display": "block",
   "toc_window_display": true
  }
 },
 "nbformat": 4,
 "nbformat_minor": 2
}
