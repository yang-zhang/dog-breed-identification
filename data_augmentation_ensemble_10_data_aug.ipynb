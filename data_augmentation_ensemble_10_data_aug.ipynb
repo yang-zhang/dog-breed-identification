{
 "cells": [
  {
   "cell_type": "code",
   "execution_count": 87,
   "metadata": {},
   "outputs": [],
   "source": [
    "import math\n",
    "import os\n",
    "import datetime\n",
    "\n",
    "import numpy as np\n",
    "import pandas as pd\n",
    "\n",
    "from keras.preprocessing import image\n",
    "from keras.layers import Input, Lambda, Dense, Dropout, Flatten\n",
    "from keras.models import Model, Sequential\n",
    "\n",
    "from keras.utils import to_categorical\n",
    "from keras.optimizers import RMSprop, Adam\n",
    "\n",
    "from keras.applications import xception\n",
    "\n",
    "from sklearn.linear_model import LogisticRegression\n",
    "from sklearn.metrics import log_loss, accuracy_score\n",
    "\n",
    "from secrets import KAGGLE_USER, KAGGLE_PW"
   ]
  },
  {
   "cell_type": "code",
   "execution_count": 88,
   "metadata": {
    "collapsed": true
   },
   "outputs": [],
   "source": [
    "competition_name = 'dog-breed-identification'\n",
    "data_dir = '/opt/notebooks/data/' + competition_name + '/preprocessed'\n",
    "\n",
    "batch_size = 16\n",
    "target_size=(299, 299)\n",
    "\n",
    "def add_preprocess(base_model, preprocess_func, inputs_shape=(299, 299, 3)):\n",
    "    inputs = Input(shape=inputs_shape)\n",
    "    x = Lambda(preprocess_func)(inputs)\n",
    "    outputs = base_model(x)\n",
    "    model = Model(inputs, outputs)\n",
    "    return model"
   ]
  },
  {
   "cell_type": "markdown",
   "metadata": {},
   "source": [
    "### train"
   ]
  },
  {
   "cell_type": "markdown",
   "metadata": {},
   "source": [
    "emsemble a few augmentation training data"
   ]
  },
  {
   "cell_type": "code",
   "execution_count": 90,
   "metadata": {
    "collapsed": true
   },
   "outputs": [],
   "source": [
    "base_model = xception.Xception(weights='imagenet', include_top=False, pooling='avg')\n",
    "model_x = add_preprocess(base_model, xception.preprocess_input)"
   ]
  },
  {
   "cell_type": "code",
   "execution_count": 91,
   "metadata": {
    "scrolled": true
   },
   "outputs": [
    {
     "name": "stdout",
     "output_type": "stream",
     "text": [
      "Found 8222 images belonging to 120 classes.\n",
      "Found 2000 images belonging to 120 classes.\n",
      "Found 10357 images belonging to 1 classes.\n"
     ]
    }
   ],
   "source": [
    "batches = image.ImageDataGenerator().flow_from_directory(data_dir+'/train', target_size=target_size, batch_size=batch_size)\n",
    "batches_val = image.ImageDataGenerator().flow_from_directory(data_dir+'/valid', shuffle=False, target_size=target_size, batch_size=batch_size)\n",
    "batches_test = image.ImageDataGenerator().flow_from_directory(data_dir+'/test', shuffle=False, target_size=target_size, batch_size=batch_size)\n",
    "\n",
    "nb_batches = math.ceil(batches.n/batch_size)\n",
    "nb_batches_val = math.ceil(batches_val.n/batch_size)\n",
    "nb_batches_test = math.ceil(batches_test.n/batch_size)\n",
    "\n",
    "y_encode = batches.classes\n",
    "y_val_encode = batches_val.classes\n",
    "\n",
    "y = to_categorical(batches.classes)\n",
    "y_val = to_categorical(batches_val.classes)"
   ]
  },
  {
   "cell_type": "code",
   "execution_count": 92,
   "metadata": {
    "collapsed": true
   },
   "outputs": [],
   "source": [
    "# bf_val_x = model_x.predict_generator(batches_val, steps=nb_batches_val, verbose=1)\n",
    "# np.save(data_dir+'/results/bf_val_x', bf_val_x)\n",
    "bf_val_x = np.load(data_dir+'/results/bf_val_x.npy')"
   ]
  },
  {
   "cell_type": "code",
   "execution_count": 104,
   "metadata": {},
   "outputs": [],
   "source": [
    "# bf_x_test = model_x.predict_generator(batches_test, steps=nb_batches_test, verbose=1)\n",
    "# np.save(data_dir+'/results/bf_x_test', bf_x_test)\n",
    "bf_x_test = np.load(data_dir+'/results/bf_x_test.npy')"
   ]
  },
  {
   "cell_type": "code",
   "execution_count": 170,
   "metadata": {
    "collapsed": true
   },
   "outputs": [],
   "source": [
    "gen = image.ImageDataGenerator(rotation_range=10,\n",
    "                               width_shift_range=0.1,\n",
    "                               shear_range=0.15, \n",
    "                               zoom_range=0.1, \n",
    "                               channel_shift_range=10., \n",
    "                               horizontal_flip=True)"
   ]
  },
  {
   "cell_type": "code",
   "execution_count": 171,
   "metadata": {
    "scrolled": false
   },
   "outputs": [
    {
     "name": "stdout",
     "output_type": "stream",
     "text": [
      "Found 8222 images belonging to 120 classes.\n",
      "514/514 [==============================] - 126s   \n",
      "Train on 8222 samples, validate on 2000 samples\n",
      "Epoch 1/15\n",
      "8222/8222 [==============================] - 1s - loss: 3.1786 - acc: 0.6123 - val_loss: 1.9997 - val_acc: 0.8470\n",
      "Epoch 2/15\n",
      "8222/8222 [==============================] - 0s - loss: 1.4848 - acc: 0.8595 - val_loss: 1.0444 - val_acc: 0.8795\n",
      "Epoch 3/15\n",
      "8222/8222 [==============================] - 0s - loss: 0.8484 - acc: 0.8852 - val_loss: 0.6717 - val_acc: 0.8920\n",
      "Epoch 4/15\n",
      "8222/8222 [==============================] - 0s - loss: 0.5850 - acc: 0.8955 - val_loss: 0.5127 - val_acc: 0.8980\n",
      "Epoch 5/15\n",
      "8222/8222 [==============================] - 0s - loss: 0.4577 - acc: 0.9017 - val_loss: 0.4347 - val_acc: 0.8965\n",
      "Epoch 6/15\n",
      "8222/8222 [==============================] - 0s - loss: 0.3821 - acc: 0.9121 - val_loss: 0.3914 - val_acc: 0.8985\n",
      "Epoch 7/15\n",
      "8222/8222 [==============================] - 0s - loss: 0.3316 - acc: 0.9173 - val_loss: 0.3613 - val_acc: 0.9040\n",
      "Epoch 8/15\n",
      "8222/8222 [==============================] - 0s - loss: 0.2953 - acc: 0.9240 - val_loss: 0.3455 - val_acc: 0.9030\n",
      "Epoch 9/15\n",
      "8222/8222 [==============================] - 0s - loss: 0.2674 - acc: 0.9310 - val_loss: 0.3361 - val_acc: 0.9045\n",
      "Epoch 10/15\n",
      "8222/8222 [==============================] - 0s - loss: 0.2445 - acc: 0.9386 - val_loss: 0.3282 - val_acc: 0.9045\n",
      "Epoch 11/15\n",
      "8222/8222 [==============================] - 0s - loss: 0.2259 - acc: 0.9422 - val_loss: 0.3243 - val_acc: 0.9030\n",
      "Epoch 12/15\n",
      "8222/8222 [==============================] - 0s - loss: 0.2087 - acc: 0.9455 - val_loss: 0.3201 - val_acc: 0.9015\n",
      "Epoch 13/15\n",
      "8222/8222 [==============================] - 0s - loss: 0.1942 - acc: 0.9499 - val_loss: 0.3205 - val_acc: 0.9010\n",
      "Epoch 14/15\n",
      "8222/8222 [==============================] - 0s - loss: 0.1811 - acc: 0.9529 - val_loss: 0.3186 - val_acc: 0.9010\n",
      "Epoch 15/15\n",
      "8222/8222 [==============================] - 0s - loss: 0.1694 - acc: 0.9580 - val_loss: 0.3168 - val_acc: 0.9025\n",
      "10096/10357 [============================>.] - ETA: 0sFound 8222 images belonging to 120 classes.\n",
      "514/514 [==============================] - 126s   \n",
      "Train on 8222 samples, validate on 2000 samples\n",
      "Epoch 1/15\n",
      "8222/8222 [==============================] - 1s - loss: 3.1568 - acc: 0.6327 - val_loss: 1.9867 - val_acc: 0.8440\n",
      "Epoch 2/15\n",
      "8222/8222 [==============================] - 0s - loss: 1.4742 - acc: 0.8590 - val_loss: 1.0402 - val_acc: 0.8805\n",
      "Epoch 3/15\n",
      "8222/8222 [==============================] - 0s - loss: 0.8456 - acc: 0.8842 - val_loss: 0.6702 - val_acc: 0.8930\n",
      "Epoch 4/15\n",
      "8222/8222 [==============================] - 0s - loss: 0.5862 - acc: 0.8950 - val_loss: 0.5108 - val_acc: 0.8950\n",
      "Epoch 5/15\n",
      "8222/8222 [==============================] - 0s - loss: 0.4571 - acc: 0.9020 - val_loss: 0.4324 - val_acc: 0.8990\n",
      "Epoch 6/15\n",
      "8222/8222 [==============================] - 0s - loss: 0.3835 - acc: 0.9107 - val_loss: 0.3909 - val_acc: 0.8995\n",
      "Epoch 7/15\n",
      "8222/8222 [==============================] - 0s - loss: 0.3340 - acc: 0.9188 - val_loss: 0.3668 - val_acc: 0.8995\n",
      "Epoch 8/15\n",
      "8222/8222 [==============================] - 0s - loss: 0.2977 - acc: 0.9241 - val_loss: 0.3508 - val_acc: 0.9050\n",
      "Epoch 9/15\n",
      "8222/8222 [==============================] - 0s - loss: 0.2704 - acc: 0.9268 - val_loss: 0.3372 - val_acc: 0.9075\n",
      "Epoch 10/15\n",
      "8222/8222 [==============================] - 0s - loss: 0.2478 - acc: 0.9358 - val_loss: 0.3329 - val_acc: 0.9015\n",
      "Epoch 11/15\n",
      "8222/8222 [==============================] - 0s - loss: 0.2288 - acc: 0.9389 - val_loss: 0.3298 - val_acc: 0.9025\n",
      "Epoch 12/15\n",
      "8222/8222 [==============================] - 0s - loss: 0.2117 - acc: 0.9448 - val_loss: 0.3277 - val_acc: 0.9055\n",
      "Epoch 13/15\n",
      "8222/8222 [==============================] - 0s - loss: 0.1982 - acc: 0.9489 - val_loss: 0.3231 - val_acc: 0.9035\n",
      "Epoch 14/15\n",
      "8222/8222 [==============================] - 0s - loss: 0.1852 - acc: 0.9512 - val_loss: 0.3196 - val_acc: 0.9050\n",
      "Epoch 15/15\n",
      "8222/8222 [==============================] - 0s - loss: 0.1739 - acc: 0.9546 - val_loss: 0.3207 - val_acc: 0.8995\n",
      " 9984/10357 [===========================>..] - ETA: 0sFound 8222 images belonging to 120 classes.\n",
      "514/514 [==============================] - 126s   \n",
      "Train on 8222 samples, validate on 2000 samples\n",
      "Epoch 1/15\n",
      "8222/8222 [==============================] - 1s - loss: 3.1272 - acc: 0.6365 - val_loss: 1.9540 - val_acc: 0.8395\n",
      "Epoch 2/15\n",
      "8222/8222 [==============================] - 0s - loss: 1.4559 - acc: 0.8560 - val_loss: 1.0280 - val_acc: 0.8785\n",
      "Epoch 3/15\n",
      "8222/8222 [==============================] - 0s - loss: 0.8380 - acc: 0.8815 - val_loss: 0.6642 - val_acc: 0.8935\n",
      "Epoch 4/15\n",
      "8222/8222 [==============================] - 0s - loss: 0.5819 - acc: 0.8964 - val_loss: 0.5050 - val_acc: 0.8985\n",
      "Epoch 5/15\n",
      "8222/8222 [==============================] - 0s - loss: 0.4558 - acc: 0.9039 - val_loss: 0.4286 - val_acc: 0.9000\n",
      "Epoch 6/15\n",
      "8222/8222 [==============================] - 0s - loss: 0.3826 - acc: 0.9084 - val_loss: 0.3822 - val_acc: 0.9035\n",
      "Epoch 7/15\n",
      "8222/8222 [==============================] - 0s - loss: 0.3327 - acc: 0.9171 - val_loss: 0.3601 - val_acc: 0.9030\n",
      "Epoch 8/15\n",
      "8222/8222 [==============================] - 0s - loss: 0.2976 - acc: 0.9211 - val_loss: 0.3457 - val_acc: 0.9035\n",
      "Epoch 9/15\n",
      "8222/8222 [==============================] - 0s - loss: 0.2684 - acc: 0.9295 - val_loss: 0.3318 - val_acc: 0.9095\n",
      "Epoch 10/15\n",
      "8222/8222 [==============================] - 0s - loss: 0.2464 - acc: 0.9347 - val_loss: 0.3265 - val_acc: 0.9040\n",
      "Epoch 11/15\n",
      "8222/8222 [==============================] - 0s - loss: 0.2270 - acc: 0.9397 - val_loss: 0.3220 - val_acc: 0.9070\n",
      "Epoch 12/15\n",
      "8222/8222 [==============================] - 0s - loss: 0.2105 - acc: 0.9425 - val_loss: 0.3182 - val_acc: 0.9040\n",
      "Epoch 13/15\n",
      "8222/8222 [==============================] - 0s - loss: 0.1960 - acc: 0.9477 - val_loss: 0.3161 - val_acc: 0.9055\n",
      "Epoch 14/15\n",
      "8222/8222 [==============================] - 0s - loss: 0.1835 - acc: 0.9513 - val_loss: 0.3182 - val_acc: 0.9030\n",
      "Epoch 15/15\n",
      "8222/8222 [==============================] - 0s - loss: 0.1718 - acc: 0.9548 - val_loss: 0.3167 - val_acc: 0.9020\n",
      "10208/10357 [============================>.] - ETA: 0sFound 8222 images belonging to 120 classes.\n",
      "514/514 [==============================] - 126s   \n",
      "Train on 8222 samples, validate on 2000 samples\n",
      "Epoch 1/15\n",
      "8222/8222 [==============================] - 1s - loss: 3.1631 - acc: 0.6301 - val_loss: 1.9869 - val_acc: 0.8525\n",
      "Epoch 2/15\n",
      "8222/8222 [==============================] - 0s - loss: 1.4764 - acc: 0.8628 - val_loss: 1.0340 - val_acc: 0.8855\n",
      "Epoch 3/15\n",
      "8222/8222 [==============================] - 0s - loss: 0.8450 - acc: 0.8875 - val_loss: 0.6700 - val_acc: 0.8895\n",
      "Epoch 4/15\n",
      "8222/8222 [==============================] - 0s - loss: 0.5838 - acc: 0.8969 - val_loss: 0.5135 - val_acc: 0.8950\n",
      "Epoch 5/15\n",
      "8222/8222 [==============================] - 0s - loss: 0.4547 - acc: 0.9042 - val_loss: 0.4307 - val_acc: 0.9025\n",
      "Epoch 6/15\n",
      "8222/8222 [==============================] - 0s - loss: 0.3804 - acc: 0.9112 - val_loss: 0.3843 - val_acc: 0.9025\n",
      "Epoch 7/15\n",
      "8222/8222 [==============================] - 0s - loss: 0.3293 - acc: 0.9178 - val_loss: 0.3605 - val_acc: 0.9070\n",
      "Epoch 8/15\n",
      "8222/8222 [==============================] - 0s - loss: 0.2940 - acc: 0.9267 - val_loss: 0.3470 - val_acc: 0.9015\n",
      "Epoch 9/15\n",
      "8222/8222 [==============================] - 0s - loss: 0.2653 - acc: 0.9321 - val_loss: 0.3333 - val_acc: 0.9080\n",
      "Epoch 10/15\n",
      "8222/8222 [==============================] - 0s - loss: 0.2434 - acc: 0.9368 - val_loss: 0.3267 - val_acc: 0.9075\n",
      "Epoch 11/15\n",
      "8222/8222 [==============================] - 0s - loss: 0.2238 - acc: 0.9425 - val_loss: 0.3229 - val_acc: 0.9050\n",
      "Epoch 12/15\n",
      "8222/8222 [==============================] - 0s - loss: 0.2086 - acc: 0.9439 - val_loss: 0.3189 - val_acc: 0.9045\n",
      "Epoch 13/15\n",
      "8222/8222 [==============================] - 0s - loss: 0.1925 - acc: 0.9505 - val_loss: 0.3194 - val_acc: 0.9005\n",
      "Epoch 14/15\n",
      "8222/8222 [==============================] - 0s - loss: 0.1803 - acc: 0.9544 - val_loss: 0.3161 - val_acc: 0.9030\n",
      "Epoch 15/15\n"
     ]
    },
    {
     "name": "stdout",
     "output_type": "stream",
     "text": [
      "8222/8222 [==============================] - 0s - loss: 0.1687 - acc: 0.9565 - val_loss: 0.3192 - val_acc: 0.9060\n",
      "10357/10357 [==============================] - 2s     \n",
      "Found 8222 images belonging to 120 classes.\n",
      "514/514 [==============================] - 126s   \n",
      "Train on 8222 samples, validate on 2000 samples\n",
      "Epoch 1/15\n",
      "8222/8222 [==============================] - 1s - loss: 3.1199 - acc: 0.6379 - val_loss: 1.9507 - val_acc: 0.8540\n",
      "Epoch 2/15\n",
      "8222/8222 [==============================] - 0s - loss: 1.4485 - acc: 0.8584 - val_loss: 1.0213 - val_acc: 0.8810\n",
      "Epoch 3/15\n",
      "8222/8222 [==============================] - 0s - loss: 0.8312 - acc: 0.8812 - val_loss: 0.6600 - val_acc: 0.8955\n",
      "Epoch 4/15\n",
      "8222/8222 [==============================] - 0s - loss: 0.5777 - acc: 0.8976 - val_loss: 0.5062 - val_acc: 0.9015\n",
      "Epoch 5/15\n",
      "8222/8222 [==============================] - 0s - loss: 0.4520 - acc: 0.9038 - val_loss: 0.4268 - val_acc: 0.9055\n",
      "Epoch 6/15\n",
      "8222/8222 [==============================] - 0s - loss: 0.3785 - acc: 0.9121 - val_loss: 0.3833 - val_acc: 0.9080\n",
      "Epoch 7/15\n",
      "8222/8222 [==============================] - 0s - loss: 0.3302 - acc: 0.9179 - val_loss: 0.3607 - val_acc: 0.9030\n",
      "Epoch 8/15\n",
      "8222/8222 [==============================] - 0s - loss: 0.2947 - acc: 0.9217 - val_loss: 0.3406 - val_acc: 0.9070\n",
      "Epoch 9/15\n",
      "8222/8222 [==============================] - 0s - loss: 0.2670 - acc: 0.9303 - val_loss: 0.3336 - val_acc: 0.9070\n",
      "Epoch 10/15\n",
      "8222/8222 [==============================] - 0s - loss: 0.2448 - acc: 0.9364 - val_loss: 0.3260 - val_acc: 0.9110\n",
      "Epoch 11/15\n",
      "8222/8222 [==============================] - 0s - loss: 0.2256 - acc: 0.9415 - val_loss: 0.3221 - val_acc: 0.9055\n",
      "Epoch 12/15\n",
      "8222/8222 [==============================] - 0s - loss: 0.2097 - acc: 0.9448 - val_loss: 0.3194 - val_acc: 0.9020\n",
      "Epoch 13/15\n",
      "8222/8222 [==============================] - 0s - loss: 0.1952 - acc: 0.9494 - val_loss: 0.3186 - val_acc: 0.9050\n",
      "Epoch 14/15\n",
      "8222/8222 [==============================] - 0s - loss: 0.1826 - acc: 0.9543 - val_loss: 0.3167 - val_acc: 0.9045\n",
      "Epoch 15/15\n",
      "8222/8222 [==============================] - 0s - loss: 0.1712 - acc: 0.9560 - val_loss: 0.3115 - val_acc: 0.9045\n",
      "10304/10357 [============================>.] - ETA: 0sFound 8222 images belonging to 120 classes.\n",
      "514/514 [==============================] - 126s   \n",
      "Train on 8222 samples, validate on 2000 samples\n",
      "Epoch 1/15\n",
      "8222/8222 [==============================] - 1s - loss: 3.1362 - acc: 0.6523 - val_loss: 1.9629 - val_acc: 0.8480\n",
      "Epoch 2/15\n",
      "8222/8222 [==============================] - 0s - loss: 1.4568 - acc: 0.8631 - val_loss: 1.0290 - val_acc: 0.8795\n",
      "Epoch 3/15\n",
      "8222/8222 [==============================] - 0s - loss: 0.8356 - acc: 0.8860 - val_loss: 0.6678 - val_acc: 0.8895\n",
      "Epoch 4/15\n",
      "8222/8222 [==============================] - 0s - loss: 0.5795 - acc: 0.8954 - val_loss: 0.5126 - val_acc: 0.8935\n",
      "Epoch 5/15\n",
      "8222/8222 [==============================] - 0s - loss: 0.4533 - acc: 0.9031 - val_loss: 0.4303 - val_acc: 0.8940\n",
      "Epoch 6/15\n",
      "8222/8222 [==============================] - 0s - loss: 0.3783 - acc: 0.9130 - val_loss: 0.3897 - val_acc: 0.8975\n",
      "Epoch 7/15\n",
      "8222/8222 [==============================] - 0s - loss: 0.3291 - acc: 0.9183 - val_loss: 0.3607 - val_acc: 0.8990\n",
      "Epoch 8/15\n",
      "8222/8222 [==============================] - 0s - loss: 0.2934 - acc: 0.9251 - val_loss: 0.3424 - val_acc: 0.9035\n",
      "Epoch 9/15\n",
      "8222/8222 [==============================] - 0s - loss: 0.2659 - acc: 0.9304 - val_loss: 0.3372 - val_acc: 0.9045\n",
      "Epoch 10/15\n",
      "8222/8222 [==============================] - 0s - loss: 0.2437 - acc: 0.9354 - val_loss: 0.3290 - val_acc: 0.9055\n",
      "Epoch 11/15\n",
      "8222/8222 [==============================] - 0s - loss: 0.2238 - acc: 0.9392 - val_loss: 0.3254 - val_acc: 0.9045\n",
      "Epoch 12/15\n",
      "8222/8222 [==============================] - 0s - loss: 0.2076 - acc: 0.9461 - val_loss: 0.3208 - val_acc: 0.9035\n",
      "Epoch 13/15\n",
      "8222/8222 [==============================] - 0s - loss: 0.1936 - acc: 0.9478 - val_loss: 0.3202 - val_acc: 0.9025\n",
      "Epoch 14/15\n",
      "8222/8222 [==============================] - 0s - loss: 0.1812 - acc: 0.9534 - val_loss: 0.3197 - val_acc: 0.9020\n",
      "Epoch 15/15\n",
      "8222/8222 [==============================] - 0s - loss: 0.1696 - acc: 0.9562 - val_loss: 0.3151 - val_acc: 0.9065\n",
      "10048/10357 [============================>.] - ETA: 0sFound 8222 images belonging to 120 classes.\n",
      "514/514 [==============================] - 126s   \n",
      "Train on 8222 samples, validate on 2000 samples\n",
      "Epoch 1/15\n",
      "8222/8222 [==============================] - 1s - loss: 3.1134 - acc: 0.6446 - val_loss: 1.9529 - val_acc: 0.8305\n",
      "Epoch 2/15\n",
      "8222/8222 [==============================] - 0s - loss: 1.4501 - acc: 0.8604 - val_loss: 1.0200 - val_acc: 0.8835\n",
      "Epoch 3/15\n",
      "8222/8222 [==============================] - 0s - loss: 0.8342 - acc: 0.8876 - val_loss: 0.6655 - val_acc: 0.8910\n",
      "Epoch 4/15\n",
      "8222/8222 [==============================] - 0s - loss: 0.5793 - acc: 0.8966 - val_loss: 0.5080 - val_acc: 0.8920\n",
      "Epoch 5/15\n",
      "8222/8222 [==============================] - 0s - loss: 0.4532 - acc: 0.9059 - val_loss: 0.4288 - val_acc: 0.9015\n",
      "Epoch 6/15\n",
      "8222/8222 [==============================] - 0s - loss: 0.3787 - acc: 0.9128 - val_loss: 0.3874 - val_acc: 0.8985\n",
      "Epoch 7/15\n",
      "8222/8222 [==============================] - 0s - loss: 0.3291 - acc: 0.9195 - val_loss: 0.3610 - val_acc: 0.9000\n",
      "Epoch 8/15\n",
      "8222/8222 [==============================] - 0s - loss: 0.2929 - acc: 0.9267 - val_loss: 0.3446 - val_acc: 0.9055\n",
      "Epoch 9/15\n",
      "8222/8222 [==============================] - 0s - loss: 0.2661 - acc: 0.9293 - val_loss: 0.3366 - val_acc: 0.9015\n",
      "Epoch 10/15\n",
      "8222/8222 [==============================] - 0s - loss: 0.2433 - acc: 0.9349 - val_loss: 0.3297 - val_acc: 0.9020\n",
      "Epoch 11/15\n",
      "8222/8222 [==============================] - 0s - loss: 0.2244 - acc: 0.9409 - val_loss: 0.3242 - val_acc: 0.9010\n",
      "Epoch 12/15\n",
      "8222/8222 [==============================] - 0s - loss: 0.2081 - acc: 0.9451 - val_loss: 0.3195 - val_acc: 0.9010\n",
      "Epoch 13/15\n",
      "8222/8222 [==============================] - 0s - loss: 0.1929 - acc: 0.9468 - val_loss: 0.3226 - val_acc: 0.9000\n",
      "Epoch 14/15\n",
      "8222/8222 [==============================] - 0s - loss: 0.1804 - acc: 0.9524 - val_loss: 0.3197 - val_acc: 0.9005\n",
      "Epoch 15/15\n",
      "8222/8222 [==============================] - 0s - loss: 0.1687 - acc: 0.9562 - val_loss: 0.3144 - val_acc: 0.8965\n",
      "10112/10357 [============================>.] - ETA: 0sFound 8222 images belonging to 120 classes.\n",
      "514/514 [==============================] - 126s   \n",
      "Train on 8222 samples, validate on 2000 samples\n",
      "Epoch 1/15\n",
      "8222/8222 [==============================] - 1s - loss: 3.1448 - acc: 0.6418 - val_loss: 1.9653 - val_acc: 0.8470\n",
      "Epoch 2/15\n",
      "8222/8222 [==============================] - 0s - loss: 1.4628 - acc: 0.8620 - val_loss: 1.0275 - val_acc: 0.8865\n",
      "Epoch 3/15\n",
      "8222/8222 [==============================] - 0s - loss: 0.8396 - acc: 0.8853 - val_loss: 0.6702 - val_acc: 0.8905\n",
      "Epoch 4/15\n",
      "8222/8222 [==============================] - 0s - loss: 0.5824 - acc: 0.8966 - val_loss: 0.5102 - val_acc: 0.8980\n",
      "Epoch 5/15\n",
      "8222/8222 [==============================] - 0s - loss: 0.4566 - acc: 0.9049 - val_loss: 0.4326 - val_acc: 0.9020\n",
      "Epoch 6/15\n",
      "8222/8222 [==============================] - 0s - loss: 0.3825 - acc: 0.9135 - val_loss: 0.3882 - val_acc: 0.9080\n",
      "Epoch 7/15\n",
      "8222/8222 [==============================] - 0s - loss: 0.3328 - acc: 0.9162 - val_loss: 0.3650 - val_acc: 0.9045\n",
      "Epoch 8/15\n",
      "8222/8222 [==============================] - 0s - loss: 0.2976 - acc: 0.9253 - val_loss: 0.3494 - val_acc: 0.9015\n",
      "Epoch 9/15\n",
      "8222/8222 [==============================] - 0s - loss: 0.2690 - acc: 0.9312 - val_loss: 0.3378 - val_acc: 0.9030\n",
      "Epoch 10/15\n",
      "8222/8222 [==============================] - 0s - loss: 0.2467 - acc: 0.9380 - val_loss: 0.3287 - val_acc: 0.9035\n",
      "Epoch 11/15\n",
      "8222/8222 [==============================] - 0s - loss: 0.2285 - acc: 0.9398 - val_loss: 0.3278 - val_acc: 0.9055\n",
      "Epoch 12/15\n",
      "8222/8222 [==============================] - 0s - loss: 0.2113 - acc: 0.9477 - val_loss: 0.3254 - val_acc: 0.9015\n",
      "Epoch 13/15\n",
      "8222/8222 [==============================] - 0s - loss: 0.1972 - acc: 0.9499 - val_loss: 0.3205 - val_acc: 0.9025\n",
      "Epoch 14/15\n"
     ]
    },
    {
     "name": "stdout",
     "output_type": "stream",
     "text": [
      "8222/8222 [==============================] - 0s - loss: 0.1843 - acc: 0.9539 - val_loss: 0.3201 - val_acc: 0.9025\n",
      "Epoch 15/15\n",
      "8222/8222 [==============================] - 0s - loss: 0.1728 - acc: 0.9566 - val_loss: 0.3165 - val_acc: 0.9070\n",
      " 9984/10357 [===========================>..] - ETA: 0sFound 8222 images belonging to 120 classes.\n",
      "514/514 [==============================] - 126s   \n",
      "Train on 8222 samples, validate on 2000 samples\n",
      "Epoch 1/15\n",
      "8222/8222 [==============================] - 1s - loss: 3.1706 - acc: 0.6259 - val_loss: 1.9967 - val_acc: 0.8390\n",
      "Epoch 2/15\n",
      "8222/8222 [==============================] - 0s - loss: 1.4849 - acc: 0.8559 - val_loss: 1.0481 - val_acc: 0.8790\n",
      "Epoch 3/15\n",
      "8222/8222 [==============================] - 0s - loss: 0.8519 - acc: 0.8832 - val_loss: 0.6762 - val_acc: 0.8910\n",
      "Epoch 4/15\n",
      "8222/8222 [==============================] - 0s - loss: 0.5890 - acc: 0.8958 - val_loss: 0.5159 - val_acc: 0.9000\n",
      "Epoch 5/15\n",
      "8222/8222 [==============================] - 0s - loss: 0.4594 - acc: 0.9026 - val_loss: 0.4367 - val_acc: 0.8975\n",
      "Epoch 6/15\n",
      "8222/8222 [==============================] - 0s - loss: 0.3849 - acc: 0.9111 - val_loss: 0.3931 - val_acc: 0.9015\n",
      "Epoch 7/15\n",
      "8222/8222 [==============================] - 0s - loss: 0.3340 - acc: 0.9178 - val_loss: 0.3662 - val_acc: 0.9010\n",
      "Epoch 8/15\n",
      "8222/8222 [==============================] - 0s - loss: 0.2986 - acc: 0.9242 - val_loss: 0.3435 - val_acc: 0.9025\n",
      "Epoch 9/15\n",
      "8222/8222 [==============================] - 0s - loss: 0.2696 - acc: 0.9319 - val_loss: 0.3386 - val_acc: 0.9055\n",
      "Epoch 10/15\n",
      "8222/8222 [==============================] - 0s - loss: 0.2473 - acc: 0.9374 - val_loss: 0.3287 - val_acc: 0.9050\n",
      "Epoch 11/15\n",
      "8222/8222 [==============================] - 0s - loss: 0.2285 - acc: 0.9415 - val_loss: 0.3263 - val_acc: 0.9000\n",
      "Epoch 12/15\n",
      "8222/8222 [==============================] - 0s - loss: 0.2122 - acc: 0.9451 - val_loss: 0.3189 - val_acc: 0.9065\n",
      "Epoch 13/15\n",
      "8222/8222 [==============================] - 0s - loss: 0.1984 - acc: 0.9484 - val_loss: 0.3153 - val_acc: 0.9075\n",
      "Epoch 14/15\n",
      "8222/8222 [==============================] - 0s - loss: 0.1849 - acc: 0.9522 - val_loss: 0.3184 - val_acc: 0.9025\n",
      "Epoch 15/15\n",
      "8222/8222 [==============================] - 0s - loss: 0.1734 - acc: 0.9548 - val_loss: 0.3160 - val_acc: 0.9035\n",
      "10240/10357 [============================>.] - ETA: 0sFound 8222 images belonging to 120 classes.\n",
      "514/514 [==============================] - 126s   \n",
      "Train on 8222 samples, validate on 2000 samples\n",
      "Epoch 1/15\n",
      "8222/8222 [==============================] - 1s - loss: 3.1343 - acc: 0.6371 - val_loss: 1.9539 - val_acc: 0.8460\n",
      "Epoch 2/15\n",
      "8222/8222 [==============================] - 0s - loss: 1.4515 - acc: 0.8637 - val_loss: 1.0242 - val_acc: 0.8790\n",
      "Epoch 3/15\n",
      "8222/8222 [==============================] - 0s - loss: 0.8306 - acc: 0.8864 - val_loss: 0.6628 - val_acc: 0.8910\n",
      "Epoch 4/15\n",
      "8222/8222 [==============================] - 0s - loss: 0.5749 - acc: 0.8969 - val_loss: 0.5097 - val_acc: 0.8965\n",
      "Epoch 5/15\n",
      "8222/8222 [==============================] - 0s - loss: 0.4477 - acc: 0.9068 - val_loss: 0.4317 - val_acc: 0.8960\n",
      "Epoch 6/15\n",
      "8222/8222 [==============================] - 0s - loss: 0.3742 - acc: 0.9113 - val_loss: 0.3883 - val_acc: 0.9040\n",
      "Epoch 7/15\n",
      "8222/8222 [==============================] - 0s - loss: 0.3254 - acc: 0.9179 - val_loss: 0.3640 - val_acc: 0.9040\n",
      "Epoch 8/15\n",
      "8222/8222 [==============================] - 0s - loss: 0.2902 - acc: 0.9247 - val_loss: 0.3497 - val_acc: 0.9025\n",
      "Epoch 9/15\n",
      "8222/8222 [==============================] - 0s - loss: 0.2616 - acc: 0.9304 - val_loss: 0.3415 - val_acc: 0.9025\n",
      "Epoch 10/15\n",
      "8222/8222 [==============================] - 0s - loss: 0.2401 - acc: 0.9388 - val_loss: 0.3296 - val_acc: 0.9040\n",
      "Epoch 11/15\n",
      "8222/8222 [==============================] - 0s - loss: 0.2207 - acc: 0.9415 - val_loss: 0.3287 - val_acc: 0.8995\n",
      "Epoch 12/15\n",
      "8222/8222 [==============================] - 0s - loss: 0.2047 - acc: 0.9448 - val_loss: 0.3224 - val_acc: 0.9055\n",
      "Epoch 13/15\n",
      "8222/8222 [==============================] - 0s - loss: 0.1911 - acc: 0.9494 - val_loss: 0.3182 - val_acc: 0.9055\n",
      "Epoch 14/15\n",
      "8222/8222 [==============================] - 0s - loss: 0.1782 - acc: 0.9526 - val_loss: 0.3160 - val_acc: 0.9075\n",
      "Epoch 15/15\n",
      "8222/8222 [==============================] - 0s - loss: 0.1667 - acc: 0.9566 - val_loss: 0.3205 - val_acc: 0.9035\n",
      "10224/10357 [============================>.] - ETA: 0s"
     ]
    }
   ],
   "source": [
    "preds = []\n",
    "nb_runs = 10\n",
    "for i in range(nb_runs):\n",
    "    batches = gen.flow_from_directory(data_dir+'/train', target_size=target_size, batch_size=batch_size, shuffle=False)\n",
    "    y = to_categorical(batches.classes)\n",
    "    bf_x = model_x.predict_generator(batches, steps=nb_batches, verbose=1)\n",
    "    \n",
    "    lm = Sequential([Dense(120, activation='softmax', input_shape=(2048,))])\n",
    "    lm.compile(optimizer=RMSprop(), loss='categorical_crossentropy', metrics=['accuracy'])\n",
    "    lm.fit(bf_x, y, epochs=15, batch_size=nb_batches, validation_data=(bf_val_x, y_val))\n",
    "    \n",
    "    pred = lm.predict(bf_x_test, batch_size=batch_size, verbose=1)\n",
    "    preds.append(pred)"
   ]
  },
  {
   "cell_type": "code",
   "execution_count": 172,
   "metadata": {
    "collapsed": true
   },
   "outputs": [],
   "source": [
    "pred_ensemble = np.stack(preds).mean(axis=0)"
   ]
  },
  {
   "cell_type": "markdown",
   "metadata": {},
   "source": [
    "### predict"
   ]
  },
  {
   "cell_type": "code",
   "execution_count": 173,
   "metadata": {
    "collapsed": true
   },
   "outputs": [],
   "source": [
    "test_ids = [f.split('/')[1].split('.')[0] for f in batches_test.filenames]"
   ]
  },
  {
   "cell_type": "code",
   "execution_count": 174,
   "metadata": {
    "collapsed": true
   },
   "outputs": [],
   "source": [
    "subm=pd.DataFrame(np.hstack([np.array(test_ids).reshape(-1, 1), pred_ensemble]))\n",
    "labels = pd.read_csv(data_dir+'/labels.csv')\n",
    "cols = ['id']+sorted(labels.breed.unique())\n",
    "subm.columns = cols"
   ]
  },
  {
   "cell_type": "code",
   "execution_count": 175,
   "metadata": {
    "collapsed": true
   },
   "outputs": [],
   "source": [
    "description = 'ensemble_10_data_aug'\n",
    "submission_file_name = data_dir+'/results/%s_%s.csv' % (description,\n",
    "                                                        datetime.datetime.now().strftime('%Y-%m-%d-%H-%M')\n",
    "                                                       )\n",
    "subm.to_csv(submission_file_name, index=False)"
   ]
  },
  {
   "cell_type": "markdown",
   "metadata": {},
   "source": [
    "### submit"
   ]
  },
  {
   "cell_type": "code",
   "execution_count": 176,
   "metadata": {
    "collapsed": true
   },
   "outputs": [],
   "source": [
    "!kg config -u $KAGGLE_USER -p $KAGGLE_PW -c $competition_name"
   ]
  },
  {
   "cell_type": "code",
   "execution_count": 177,
   "metadata": {
    "scrolled": true
   },
   "outputs": [
    {
     "name": "stdout",
     "output_type": "stream",
     "text": [
      "0.31164\r\n"
     ]
    }
   ],
   "source": [
    "!kg submit $submission_file_name -m $description"
   ]
  },
  {
   "cell_type": "code",
   "execution_count": null,
   "metadata": {
    "collapsed": true
   },
   "outputs": [],
   "source": []
  }
 ],
 "metadata": {
  "kernelspec": {
   "display_name": "Python 3",
   "language": "python",
   "name": "python3"
  },
  "language_info": {
   "codemirror_mode": {
    "name": "ipython",
    "version": 3
   },
   "file_extension": ".py",
   "mimetype": "text/x-python",
   "name": "python",
   "nbconvert_exporter": "python",
   "pygments_lexer": "ipython3",
   "version": "3.6.1"
  },
  "toc": {
   "nav_menu": {},
   "number_sections": true,
   "sideBar": true,
   "skip_h1_title": false,
   "toc_cell": false,
   "toc_position": {
    "height": "594px",
    "left": "0px",
    "right": "1064px",
    "top": "106px",
    "width": "165px"
   },
   "toc_section_display": "block",
   "toc_window_display": false
  }
 },
 "nbformat": 4,
 "nbformat_minor": 2
}
