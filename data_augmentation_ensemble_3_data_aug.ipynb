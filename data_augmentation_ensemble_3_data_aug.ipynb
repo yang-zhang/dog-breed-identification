{
 "cells": [
  {
   "cell_type": "code",
   "execution_count": 87,
   "metadata": {},
   "outputs": [],
   "source": [
    "import math\n",
    "import os\n",
    "import datetime\n",
    "\n",
    "import numpy as np\n",
    "import pandas as pd\n",
    "\n",
    "from keras.preprocessing import image\n",
    "from keras.layers import Input, Lambda, Dense, Dropout, Flatten\n",
    "from keras.models import Model, Sequential\n",
    "\n",
    "from keras.utils import to_categorical\n",
    "from keras.optimizers import RMSprop, Adam\n",
    "\n",
    "from keras.applications import xception\n",
    "\n",
    "from sklearn.linear_model import LogisticRegression\n",
    "from sklearn.metrics import log_loss, accuracy_score\n",
    "\n",
    "from secrets import KAGGLE_USER, KAGGLE_PW"
   ]
  },
  {
   "cell_type": "code",
   "execution_count": 88,
   "metadata": {
    "collapsed": true
   },
   "outputs": [],
   "source": [
    "competition_name = 'dog-breed-identification'\n",
    "data_dir = '/opt/notebooks/data/' + competition_name + '/preprocessed'\n",
    "\n",
    "batch_size = 16\n",
    "target_size=(299, 299)\n",
    "\n",
    "def add_preprocess(base_model, preprocess_func, inputs_shape=(299, 299, 3)):\n",
    "    inputs = Input(shape=inputs_shape)\n",
    "    x = Lambda(preprocess_func)(inputs)\n",
    "    outputs = base_model(x)\n",
    "    model = Model(inputs, outputs)\n",
    "    return model"
   ]
  },
  {
   "cell_type": "markdown",
   "metadata": {},
   "source": [
    "### train"
   ]
  },
  {
   "cell_type": "markdown",
   "metadata": {},
   "source": [
    "emsemble a few augmentation training data"
   ]
  },
  {
   "cell_type": "code",
   "execution_count": 90,
   "metadata": {
    "collapsed": true
   },
   "outputs": [],
   "source": [
    "base_model = xception.Xception(weights='imagenet', include_top=False, pooling='avg')\n",
    "model_x = add_preprocess(base_model, xception.preprocess_input)"
   ]
  },
  {
   "cell_type": "code",
   "execution_count": 91,
   "metadata": {
    "scrolled": true
   },
   "outputs": [
    {
     "name": "stdout",
     "output_type": "stream",
     "text": [
      "Found 8222 images belonging to 120 classes.\n",
      "Found 2000 images belonging to 120 classes.\n",
      "Found 10357 images belonging to 1 classes.\n"
     ]
    }
   ],
   "source": [
    "batches = image.ImageDataGenerator().flow_from_directory(data_dir+'/train', target_size=target_size, batch_size=batch_size)\n",
    "batches_val = image.ImageDataGenerator().flow_from_directory(data_dir+'/valid', shuffle=False, target_size=target_size, batch_size=batch_size)\n",
    "batches_test = image.ImageDataGenerator().flow_from_directory(data_dir+'/test', shuffle=False, target_size=target_size, batch_size=batch_size)\n",
    "\n",
    "nb_batches = math.ceil(batches.n/batch_size)\n",
    "nb_batches_val = math.ceil(batches_val.n/batch_size)\n",
    "nb_batches_test = math.ceil(batches_test.n/batch_size)\n",
    "\n",
    "y_encode = batches.classes\n",
    "y_val_encode = batches_val.classes\n",
    "\n",
    "y = to_categorical(batches.classes)\n",
    "y_val = to_categorical(batches_val.classes)"
   ]
  },
  {
   "cell_type": "code",
   "execution_count": 92,
   "metadata": {
    "collapsed": true
   },
   "outputs": [],
   "source": [
    "# bf_val_x = model_x.predict_generator(batches_val, steps=nb_batches_val, verbose=1)\n",
    "# np.save(data_dir+'/results/bf_val_x', bf_val_x)\n",
    "bf_val_x = np.load(data_dir+'/results/bf_val_x.npy')"
   ]
  },
  {
   "cell_type": "code",
   "execution_count": 104,
   "metadata": {},
   "outputs": [],
   "source": [
    "# bf_x_test = model_x.predict_generator(batches_test, steps=nb_batches_test, verbose=1)\n",
    "# np.save(data_dir+'/results/bf_x_test', bf_x_test)\n",
    "bf_x_test = np.load(data_dir+'/results/bf_x_test.npy')"
   ]
  },
  {
   "cell_type": "code",
   "execution_count": 94,
   "metadata": {
    "collapsed": true
   },
   "outputs": [],
   "source": [
    "gen = image.ImageDataGenerator(rotation_range=10,\n",
    "                               width_shift_range=0.1,\n",
    "                               shear_range=0.15, \n",
    "                               zoom_range=0.1, \n",
    "                               channel_shift_range=10., \n",
    "                               horizontal_flip=True)"
   ]
  },
  {
   "cell_type": "code",
   "execution_count": 161,
   "metadata": {
    "scrolled": false
   },
   "outputs": [
    {
     "name": "stdout",
     "output_type": "stream",
     "text": [
      "Found 8222 images belonging to 120 classes.\n",
      "514/514 [==============================] - 126s   \n",
      "Train on 8222 samples, validate on 2000 samples\n",
      "Epoch 1/15\n",
      "8222/8222 [==============================] - 1s - loss: 3.1421 - acc: 0.6269 - val_loss: 1.9636 - val_acc: 0.8420\n",
      "Epoch 2/15\n",
      "8222/8222 [==============================] - 0s - loss: 1.4625 - acc: 0.8545 - val_loss: 1.0291 - val_acc: 0.8845\n",
      "Epoch 3/15\n",
      "8222/8222 [==============================] - 0s - loss: 0.8411 - acc: 0.8819 - val_loss: 0.6643 - val_acc: 0.8935\n",
      "Epoch 4/15\n",
      "8222/8222 [==============================] - 0s - loss: 0.5861 - acc: 0.8939 - val_loss: 0.5092 - val_acc: 0.9030\n",
      "Epoch 5/15\n",
      "8222/8222 [==============================] - 0s - loss: 0.4603 - acc: 0.8994 - val_loss: 0.4301 - val_acc: 0.9045\n",
      "Epoch 6/15\n",
      "8222/8222 [==============================] - 0s - loss: 0.3864 - acc: 0.9085 - val_loss: 0.3842 - val_acc: 0.9050\n",
      "Epoch 7/15\n",
      "8222/8222 [==============================] - 0s - loss: 0.3375 - acc: 0.9158 - val_loss: 0.3605 - val_acc: 0.9025\n",
      "Epoch 8/15\n",
      "8222/8222 [==============================] - 0s - loss: 0.3018 - acc: 0.9222 - val_loss: 0.3457 - val_acc: 0.9040\n",
      "Epoch 9/15\n",
      "8222/8222 [==============================] - 0s - loss: 0.2734 - acc: 0.9297 - val_loss: 0.3370 - val_acc: 0.9025\n",
      "Epoch 10/15\n",
      "8222/8222 [==============================] - 0s - loss: 0.2519 - acc: 0.9352 - val_loss: 0.3292 - val_acc: 0.9025\n",
      "Epoch 11/15\n",
      "8222/8222 [==============================] - 0s - loss: 0.2323 - acc: 0.9388 - val_loss: 0.3230 - val_acc: 0.9015\n",
      "Epoch 12/15\n",
      "8222/8222 [==============================] - 0s - loss: 0.2154 - acc: 0.9423 - val_loss: 0.3206 - val_acc: 0.9030\n",
      "Epoch 13/15\n",
      "8222/8222 [==============================] - 0s - loss: 0.2011 - acc: 0.9472 - val_loss: 0.3188 - val_acc: 0.9020\n",
      "Epoch 14/15\n",
      "8222/8222 [==============================] - 0s - loss: 0.1880 - acc: 0.9503 - val_loss: 0.3180 - val_acc: 0.9025\n",
      "Epoch 15/15\n",
      "8222/8222 [==============================] - 0s - loss: 0.1762 - acc: 0.9546 - val_loss: 0.3195 - val_acc: 0.9020\n",
      "10240/10357 [============================>.] - ETA: 0sFound 8222 images belonging to 120 classes.\n",
      "514/514 [==============================] - 126s   \n",
      "Train on 8222 samples, validate on 2000 samples\n",
      "Epoch 1/15\n",
      "8222/8222 [==============================] - 1s - loss: 3.1479 - acc: 0.6236 - val_loss: 1.9853 - val_acc: 0.8480\n",
      "Epoch 2/15\n",
      "8222/8222 [==============================] - 0s - loss: 1.4688 - acc: 0.8620 - val_loss: 1.0389 - val_acc: 0.8855\n",
      "Epoch 3/15\n",
      "8222/8222 [==============================] - 0s - loss: 0.8411 - acc: 0.8847 - val_loss: 0.6698 - val_acc: 0.8920\n",
      "Epoch 4/15\n",
      "8222/8222 [==============================] - 0s - loss: 0.5829 - acc: 0.8952 - val_loss: 0.5095 - val_acc: 0.8980\n",
      "Epoch 5/15\n",
      "8222/8222 [==============================] - 0s - loss: 0.4549 - acc: 0.9017 - val_loss: 0.4307 - val_acc: 0.9010\n",
      "Epoch 6/15\n",
      "8222/8222 [==============================] - 0s - loss: 0.3805 - acc: 0.9108 - val_loss: 0.3882 - val_acc: 0.9010\n",
      "Epoch 7/15\n",
      "8222/8222 [==============================] - 0s - loss: 0.3312 - acc: 0.9167 - val_loss: 0.3597 - val_acc: 0.9045\n",
      "Epoch 8/15\n",
      "8222/8222 [==============================] - 0s - loss: 0.2958 - acc: 0.9233 - val_loss: 0.3465 - val_acc: 0.9055\n",
      "Epoch 9/15\n",
      "8222/8222 [==============================] - 0s - loss: 0.2675 - acc: 0.9278 - val_loss: 0.3329 - val_acc: 0.9060\n",
      "Epoch 10/15\n",
      "8222/8222 [==============================] - 0s - loss: 0.2451 - acc: 0.9349 - val_loss: 0.3294 - val_acc: 0.9015\n",
      "Epoch 11/15\n",
      "8222/8222 [==============================] - 0s - loss: 0.2260 - acc: 0.9403 - val_loss: 0.3200 - val_acc: 0.9065\n",
      "Epoch 12/15\n",
      "8222/8222 [==============================] - 0s - loss: 0.2100 - acc: 0.9420 - val_loss: 0.3208 - val_acc: 0.9060\n",
      "Epoch 13/15\n",
      "8222/8222 [==============================] - 0s - loss: 0.1957 - acc: 0.9498 - val_loss: 0.3201 - val_acc: 0.9050\n",
      "Epoch 14/15\n",
      "8222/8222 [==============================] - 0s - loss: 0.1827 - acc: 0.9545 - val_loss: 0.3159 - val_acc: 0.9055\n",
      "Epoch 15/15\n",
      "8222/8222 [==============================] - 0s - loss: 0.1712 - acc: 0.9583 - val_loss: 0.3166 - val_acc: 0.9020\n",
      "10128/10357 [============================>.] - ETA: 0sFound 8222 images belonging to 120 classes.\n",
      "514/514 [==============================] - 126s   \n",
      "Train on 8222 samples, validate on 2000 samples\n",
      "Epoch 1/15\n",
      "8222/8222 [==============================] - 1s - loss: 3.1242 - acc: 0.6410 - val_loss: 1.9558 - val_acc: 0.8495\n",
      "Epoch 2/15\n",
      "8222/8222 [==============================] - 0s - loss: 1.4516 - acc: 0.8683 - val_loss: 1.0209 - val_acc: 0.8790\n",
      "Epoch 3/15\n",
      "8222/8222 [==============================] - 0s - loss: 0.8341 - acc: 0.8860 - val_loss: 0.6669 - val_acc: 0.8915\n",
      "Epoch 4/15\n",
      "8222/8222 [==============================] - 0s - loss: 0.5792 - acc: 0.8946 - val_loss: 0.5074 - val_acc: 0.8945\n",
      "Epoch 5/15\n",
      "8222/8222 [==============================] - 0s - loss: 0.4530 - acc: 0.8994 - val_loss: 0.4318 - val_acc: 0.9005\n",
      "Epoch 6/15\n",
      "8222/8222 [==============================] - 0s - loss: 0.3787 - acc: 0.9083 - val_loss: 0.3861 - val_acc: 0.9030\n",
      "Epoch 7/15\n",
      "8222/8222 [==============================] - 0s - loss: 0.3298 - acc: 0.9171 - val_loss: 0.3606 - val_acc: 0.9030\n",
      "Epoch 8/15\n",
      "8222/8222 [==============================] - 0s - loss: 0.2947 - acc: 0.9229 - val_loss: 0.3500 - val_acc: 0.9000\n",
      "Epoch 9/15\n",
      "8222/8222 [==============================] - 0s - loss: 0.2663 - acc: 0.9292 - val_loss: 0.3382 - val_acc: 0.9035\n",
      "Epoch 10/15\n",
      "8222/8222 [==============================] - 0s - loss: 0.2435 - acc: 0.9346 - val_loss: 0.3295 - val_acc: 0.9050\n",
      "Epoch 11/15\n",
      "8222/8222 [==============================] - 0s - loss: 0.2259 - acc: 0.9393 - val_loss: 0.3225 - val_acc: 0.9010\n",
      "Epoch 12/15\n",
      "8222/8222 [==============================] - 0s - loss: 0.2093 - acc: 0.9450 - val_loss: 0.3219 - val_acc: 0.9030\n",
      "Epoch 13/15\n",
      "8222/8222 [==============================] - 0s - loss: 0.1945 - acc: 0.9490 - val_loss: 0.3209 - val_acc: 0.9005\n",
      "Epoch 14/15\n",
      "8222/8222 [==============================] - 0s - loss: 0.1819 - acc: 0.9528 - val_loss: 0.3213 - val_acc: 0.8975\n",
      "Epoch 15/15\n",
      "8222/8222 [==============================] - 0s - loss: 0.1698 - acc: 0.9565 - val_loss: 0.3205 - val_acc: 0.9020\n",
      " 9984/10357 [===========================>..] - ETA: 0s"
     ]
    }
   ],
   "source": [
    "preds = []\n",
    "nb_runs = 3\n",
    "for i in range(nb_runs):\n",
    "    batches = gen.flow_from_directory(data_dir+'/train', target_size=target_size, batch_size=batch_size, shuffle=False)\n",
    "    y = to_categorical(batches.classes)\n",
    "    bf_x = model_x.predict_generator(batches, steps=nb_batches, verbose=1)\n",
    "    \n",
    "    lm = Sequential([Dense(120, activation='softmax', input_shape=(2048,))])\n",
    "    lm.compile(optimizer=RMSprop(), loss='categorical_crossentropy', metrics=['accuracy'])\n",
    "    lm.fit(bf_x, y, epochs=15, batch_size=nb_batches, validation_data=(bf_val_x, y_val))\n",
    "    \n",
    "    pred = lm.predict(bf_x_test, batch_size=batch_size, verbose=1)\n",
    "    preds.append(pred)"
   ]
  },
  {
   "cell_type": "code",
   "execution_count": 163,
   "metadata": {
    "collapsed": true
   },
   "outputs": [],
   "source": [
    "pred_ensemble = np.stack(preds).mean(axis=0)"
   ]
  },
  {
   "cell_type": "code",
   "execution_count": 164,
   "metadata": {},
   "outputs": [
    {
     "data": {
      "text/plain": [
       "(10357, 120)"
      ]
     },
     "execution_count": 164,
     "metadata": {},
     "output_type": "execute_result"
    }
   ],
   "source": [
    "pred_ensemble.shape"
   ]
  },
  {
   "cell_type": "markdown",
   "metadata": {},
   "source": [
    "### predict"
   ]
  },
  {
   "cell_type": "code",
   "execution_count": 165,
   "metadata": {
    "collapsed": true
   },
   "outputs": [],
   "source": [
    "test_ids = [f.split('/')[1].split('.')[0] for f in batches_test.filenames]"
   ]
  },
  {
   "cell_type": "code",
   "execution_count": 166,
   "metadata": {
    "collapsed": true
   },
   "outputs": [],
   "source": [
    "subm=pd.DataFrame(np.hstack([np.array(test_ids).reshape(-1, 1), pred_ensemble]))\n",
    "labels = pd.read_csv(data_dir+'/labels.csv')\n",
    "cols = ['id']+sorted(labels.breed.unique())\n",
    "subm.columns = cols"
   ]
  },
  {
   "cell_type": "code",
   "execution_count": 167,
   "metadata": {
    "collapsed": true
   },
   "outputs": [],
   "source": [
    "description = 'ensemble_3_data_aug'\n",
    "submission_file_name = data_dir+'/results/%s_%s.csv' % (description,\n",
    "                                                        datetime.datetime.now().strftime('%Y-%m-%d-%H-%M')\n",
    "                                                       )\n",
    "subm.to_csv(submission_file_name, index=False)"
   ]
  },
  {
   "cell_type": "markdown",
   "metadata": {},
   "source": [
    "### submit"
   ]
  },
  {
   "cell_type": "code",
   "execution_count": 168,
   "metadata": {
    "collapsed": true
   },
   "outputs": [],
   "source": [
    "!kg config -u $KAGGLE_USER -p $KAGGLE_PW -c $competition_name"
   ]
  },
  {
   "cell_type": "code",
   "execution_count": 169,
   "metadata": {
    "scrolled": true
   },
   "outputs": [
    {
     "name": "stdout",
     "output_type": "stream",
     "text": [
      "0.31200\r\n"
     ]
    }
   ],
   "source": [
    "!kg submit $submission_file_name -m $description"
   ]
  },
  {
   "cell_type": "code",
   "execution_count": null,
   "metadata": {
    "collapsed": true
   },
   "outputs": [],
   "source": []
  }
 ],
 "metadata": {
  "kernelspec": {
   "display_name": "Python 3",
   "language": "python",
   "name": "python3"
  },
  "language_info": {
   "codemirror_mode": {
    "name": "ipython",
    "version": 3
   },
   "file_extension": ".py",
   "mimetype": "text/x-python",
   "name": "python",
   "nbconvert_exporter": "python",
   "pygments_lexer": "ipython3",
   "version": "3.6.1"
  },
  "toc": {
   "nav_menu": {},
   "number_sections": true,
   "sideBar": true,
   "skip_h1_title": false,
   "toc_cell": false,
   "toc_position": {
    "height": "594px",
    "left": "0px",
    "right": "1064px",
    "top": "106px",
    "width": "165px"
   },
   "toc_section_display": "block",
   "toc_window_display": false
  }
 },
 "nbformat": 4,
 "nbformat_minor": 2
}
